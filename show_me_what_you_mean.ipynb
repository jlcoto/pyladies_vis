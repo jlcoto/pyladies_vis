{
 "cells": [
  {
   "cell_type": "markdown",
   "metadata": {},
   "source": [
    "# Show me what you mean - Accompanying Notebook"
   ]
  },
  {
   "cell_type": "code",
   "execution_count": 511,
   "metadata": {},
   "outputs": [],
   "source": [
    "from math import pi\n",
    "\n",
    "import altair as alt\n",
    "import pandas as pd\n",
    "\n",
    "from bokeh.io import output_notebook, show\n",
    "from bokeh.models import Label\n",
    "from bokeh.plotting import figure, ColumnDataSource\n",
    "from bokeh.transform import cumsum\n",
    "\n",
    "from vega_datasets import data"
   ]
  },
  {
   "cell_type": "code",
   "execution_count": 512,
   "metadata": {},
   "outputs": [
    {
     "data": {
      "text/html": [
       "\n",
       "    <div class=\"bk-root\">\n",
       "        <a href=\"https://bokeh.pydata.org\" target=\"_blank\" class=\"bk-logo bk-logo-small bk-logo-notebook\"></a>\n",
       "        <span id=\"1762\">Loading BokehJS ...</span>\n",
       "    </div>"
      ]
     },
     "metadata": {},
     "output_type": "display_data"
    },
    {
     "data": {
      "application/javascript": [
       "\n",
       "(function(root) {\n",
       "  function now() {\n",
       "    return new Date();\n",
       "  }\n",
       "\n",
       "  var force = true;\n",
       "\n",
       "  if (typeof root._bokeh_onload_callbacks === \"undefined\" || force === true) {\n",
       "    root._bokeh_onload_callbacks = [];\n",
       "    root._bokeh_is_loading = undefined;\n",
       "  }\n",
       "\n",
       "  var JS_MIME_TYPE = 'application/javascript';\n",
       "  var HTML_MIME_TYPE = 'text/html';\n",
       "  var EXEC_MIME_TYPE = 'application/vnd.bokehjs_exec.v0+json';\n",
       "  var CLASS_NAME = 'output_bokeh rendered_html';\n",
       "\n",
       "  /**\n",
       "   * Render data to the DOM node\n",
       "   */\n",
       "  function render(props, node) {\n",
       "    var script = document.createElement(\"script\");\n",
       "    node.appendChild(script);\n",
       "  }\n",
       "\n",
       "  /**\n",
       "   * Handle when an output is cleared or removed\n",
       "   */\n",
       "  function handleClearOutput(event, handle) {\n",
       "    var cell = handle.cell;\n",
       "\n",
       "    var id = cell.output_area._bokeh_element_id;\n",
       "    var server_id = cell.output_area._bokeh_server_id;\n",
       "    // Clean up Bokeh references\n",
       "    if (id != null && id in Bokeh.index) {\n",
       "      Bokeh.index[id].model.document.clear();\n",
       "      delete Bokeh.index[id];\n",
       "    }\n",
       "\n",
       "    if (server_id !== undefined) {\n",
       "      // Clean up Bokeh references\n",
       "      var cmd = \"from bokeh.io.state import curstate; print(curstate().uuid_to_server['\" + server_id + \"'].get_sessions()[0].document.roots[0]._id)\";\n",
       "      cell.notebook.kernel.execute(cmd, {\n",
       "        iopub: {\n",
       "          output: function(msg) {\n",
       "            var id = msg.content.text.trim();\n",
       "            if (id in Bokeh.index) {\n",
       "              Bokeh.index[id].model.document.clear();\n",
       "              delete Bokeh.index[id];\n",
       "            }\n",
       "          }\n",
       "        }\n",
       "      });\n",
       "      // Destroy server and session\n",
       "      var cmd = \"import bokeh.io.notebook as ion; ion.destroy_server('\" + server_id + \"')\";\n",
       "      cell.notebook.kernel.execute(cmd);\n",
       "    }\n",
       "  }\n",
       "\n",
       "  /**\n",
       "   * Handle when a new output is added\n",
       "   */\n",
       "  function handleAddOutput(event, handle) {\n",
       "    var output_area = handle.output_area;\n",
       "    var output = handle.output;\n",
       "\n",
       "    // limit handleAddOutput to display_data with EXEC_MIME_TYPE content only\n",
       "    if ((output.output_type != \"display_data\") || (!output.data.hasOwnProperty(EXEC_MIME_TYPE))) {\n",
       "      return\n",
       "    }\n",
       "\n",
       "    var toinsert = output_area.element.find(\".\" + CLASS_NAME.split(' ')[0]);\n",
       "\n",
       "    if (output.metadata[EXEC_MIME_TYPE][\"id\"] !== undefined) {\n",
       "      toinsert[toinsert.length - 1].firstChild.textContent = output.data[JS_MIME_TYPE];\n",
       "      // store reference to embed id on output_area\n",
       "      output_area._bokeh_element_id = output.metadata[EXEC_MIME_TYPE][\"id\"];\n",
       "    }\n",
       "    if (output.metadata[EXEC_MIME_TYPE][\"server_id\"] !== undefined) {\n",
       "      var bk_div = document.createElement(\"div\");\n",
       "      bk_div.innerHTML = output.data[HTML_MIME_TYPE];\n",
       "      var script_attrs = bk_div.children[0].attributes;\n",
       "      for (var i = 0; i < script_attrs.length; i++) {\n",
       "        toinsert[toinsert.length - 1].firstChild.setAttribute(script_attrs[i].name, script_attrs[i].value);\n",
       "      }\n",
       "      // store reference to server id on output_area\n",
       "      output_area._bokeh_server_id = output.metadata[EXEC_MIME_TYPE][\"server_id\"];\n",
       "    }\n",
       "  }\n",
       "\n",
       "  function register_renderer(events, OutputArea) {\n",
       "\n",
       "    function append_mime(data, metadata, element) {\n",
       "      // create a DOM node to render to\n",
       "      var toinsert = this.create_output_subarea(\n",
       "        metadata,\n",
       "        CLASS_NAME,\n",
       "        EXEC_MIME_TYPE\n",
       "      );\n",
       "      this.keyboard_manager.register_events(toinsert);\n",
       "      // Render to node\n",
       "      var props = {data: data, metadata: metadata[EXEC_MIME_TYPE]};\n",
       "      render(props, toinsert[toinsert.length - 1]);\n",
       "      element.append(toinsert);\n",
       "      return toinsert\n",
       "    }\n",
       "\n",
       "    /* Handle when an output is cleared or removed */\n",
       "    events.on('clear_output.CodeCell', handleClearOutput);\n",
       "    events.on('delete.Cell', handleClearOutput);\n",
       "\n",
       "    /* Handle when a new output is added */\n",
       "    events.on('output_added.OutputArea', handleAddOutput);\n",
       "\n",
       "    /**\n",
       "     * Register the mime type and append_mime function with output_area\n",
       "     */\n",
       "    OutputArea.prototype.register_mime_type(EXEC_MIME_TYPE, append_mime, {\n",
       "      /* Is output safe? */\n",
       "      safe: true,\n",
       "      /* Index of renderer in `output_area.display_order` */\n",
       "      index: 0\n",
       "    });\n",
       "  }\n",
       "\n",
       "  // register the mime type if in Jupyter Notebook environment and previously unregistered\n",
       "  if (root.Jupyter !== undefined) {\n",
       "    var events = require('base/js/events');\n",
       "    var OutputArea = require('notebook/js/outputarea').OutputArea;\n",
       "\n",
       "    if (OutputArea.prototype.mime_types().indexOf(EXEC_MIME_TYPE) == -1) {\n",
       "      register_renderer(events, OutputArea);\n",
       "    }\n",
       "  }\n",
       "\n",
       "  \n",
       "  if (typeof (root._bokeh_timeout) === \"undefined\" || force === true) {\n",
       "    root._bokeh_timeout = Date.now() + 5000;\n",
       "    root._bokeh_failed_load = false;\n",
       "  }\n",
       "\n",
       "  var NB_LOAD_WARNING = {'data': {'text/html':\n",
       "     \"<div style='background-color: #fdd'>\\n\"+\n",
       "     \"<p>\\n\"+\n",
       "     \"BokehJS does not appear to have successfully loaded. If loading BokehJS from CDN, this \\n\"+\n",
       "     \"may be due to a slow or bad network connection. Possible fixes:\\n\"+\n",
       "     \"</p>\\n\"+\n",
       "     \"<ul>\\n\"+\n",
       "     \"<li>re-rerun `output_notebook()` to attempt to load from CDN again, or</li>\\n\"+\n",
       "     \"<li>use INLINE resources instead, as so:</li>\\n\"+\n",
       "     \"</ul>\\n\"+\n",
       "     \"<code>\\n\"+\n",
       "     \"from bokeh.resources import INLINE\\n\"+\n",
       "     \"output_notebook(resources=INLINE)\\n\"+\n",
       "     \"</code>\\n\"+\n",
       "     \"</div>\"}};\n",
       "\n",
       "  function display_loaded() {\n",
       "    var el = document.getElementById(\"1762\");\n",
       "    if (el != null) {\n",
       "      el.textContent = \"BokehJS is loading...\";\n",
       "    }\n",
       "    if (root.Bokeh !== undefined) {\n",
       "      if (el != null) {\n",
       "        el.textContent = \"BokehJS \" + root.Bokeh.version + \" successfully loaded.\";\n",
       "      }\n",
       "    } else if (Date.now() < root._bokeh_timeout) {\n",
       "      setTimeout(display_loaded, 100)\n",
       "    }\n",
       "  }\n",
       "\n",
       "\n",
       "  function run_callbacks() {\n",
       "    try {\n",
       "      root._bokeh_onload_callbacks.forEach(function(callback) {\n",
       "        if (callback != null)\n",
       "          callback();\n",
       "      });\n",
       "    } finally {\n",
       "      delete root._bokeh_onload_callbacks\n",
       "    }\n",
       "    console.debug(\"Bokeh: all callbacks have finished\");\n",
       "  }\n",
       "\n",
       "  function load_libs(css_urls, js_urls, callback) {\n",
       "    if (css_urls == null) css_urls = [];\n",
       "    if (js_urls == null) js_urls = [];\n",
       "\n",
       "    root._bokeh_onload_callbacks.push(callback);\n",
       "    if (root._bokeh_is_loading > 0) {\n",
       "      console.debug(\"Bokeh: BokehJS is being loaded, scheduling callback at\", now());\n",
       "      return null;\n",
       "    }\n",
       "    if (js_urls == null || js_urls.length === 0) {\n",
       "      run_callbacks();\n",
       "      return null;\n",
       "    }\n",
       "    console.debug(\"Bokeh: BokehJS not loaded, scheduling load and callback at\", now());\n",
       "    root._bokeh_is_loading = css_urls.length + js_urls.length;\n",
       "\n",
       "    function on_load() {\n",
       "      root._bokeh_is_loading--;\n",
       "      if (root._bokeh_is_loading === 0) {\n",
       "        console.debug(\"Bokeh: all BokehJS libraries/stylesheets loaded\");\n",
       "        run_callbacks()\n",
       "      }\n",
       "    }\n",
       "\n",
       "    function on_error() {\n",
       "      console.error(\"failed to load \" + url);\n",
       "    }\n",
       "\n",
       "    for (var i = 0; i < css_urls.length; i++) {\n",
       "      var url = css_urls[i];\n",
       "      const element = document.createElement(\"link\");\n",
       "      element.onload = on_load;\n",
       "      element.onerror = on_error;\n",
       "      element.rel = \"stylesheet\";\n",
       "      element.type = \"text/css\";\n",
       "      element.href = url;\n",
       "      console.debug(\"Bokeh: injecting link tag for BokehJS stylesheet: \", url);\n",
       "      document.body.appendChild(element);\n",
       "    }\n",
       "\n",
       "    for (var i = 0; i < js_urls.length; i++) {\n",
       "      var url = js_urls[i];\n",
       "      var element = document.createElement('script');\n",
       "      element.onload = on_load;\n",
       "      element.onerror = on_error;\n",
       "      element.async = false;\n",
       "      element.src = url;\n",
       "      console.debug(\"Bokeh: injecting script tag for BokehJS library: \", url);\n",
       "      document.head.appendChild(element);\n",
       "    }\n",
       "  };var element = document.getElementById(\"1762\");\n",
       "  if (element == null) {\n",
       "    console.error(\"Bokeh: ERROR: autoload.js configured with elementid '1762' but no matching script tag was found. \")\n",
       "    return false;\n",
       "  }\n",
       "\n",
       "  function inject_raw_css(css) {\n",
       "    const element = document.createElement(\"style\");\n",
       "    element.appendChild(document.createTextNode(css));\n",
       "    document.body.appendChild(element);\n",
       "  }\n",
       "\n",
       "  var js_urls = [\"https://cdn.pydata.org/bokeh/release/bokeh-1.1.0.min.js\", \"https://cdn.pydata.org/bokeh/release/bokeh-widgets-1.1.0.min.js\", \"https://cdn.pydata.org/bokeh/release/bokeh-tables-1.1.0.min.js\", \"https://cdn.pydata.org/bokeh/release/bokeh-gl-1.1.0.min.js\"];\n",
       "  var css_urls = [\"https://cdn.pydata.org/bokeh/release/bokeh-1.1.0.min.css\", \"https://cdn.pydata.org/bokeh/release/bokeh-widgets-1.1.0.min.css\", \"https://cdn.pydata.org/bokeh/release/bokeh-tables-1.1.0.min.css\"];\n",
       "\n",
       "  var inline_js = [\n",
       "    function(Bokeh) {\n",
       "      Bokeh.set_log_level(\"info\");\n",
       "    },\n",
       "    \n",
       "    function(Bokeh) {\n",
       "      \n",
       "    },\n",
       "    function(Bokeh) {} // ensure no trailing comma for IE\n",
       "  ];\n",
       "\n",
       "  function run_inline_js() {\n",
       "    \n",
       "    if ((root.Bokeh !== undefined) || (force === true)) {\n",
       "      for (var i = 0; i < inline_js.length; i++) {\n",
       "        inline_js[i].call(root, root.Bokeh);\n",
       "      }if (force === true) {\n",
       "        display_loaded();\n",
       "      }} else if (Date.now() < root._bokeh_timeout) {\n",
       "      setTimeout(run_inline_js, 100);\n",
       "    } else if (!root._bokeh_failed_load) {\n",
       "      console.log(\"Bokeh: BokehJS failed to load within specified timeout.\");\n",
       "      root._bokeh_failed_load = true;\n",
       "    } else if (force !== true) {\n",
       "      var cell = $(document.getElementById(\"1762\")).parents('.cell').data().cell;\n",
       "      cell.output_area.append_execute_result(NB_LOAD_WARNING)\n",
       "    }\n",
       "\n",
       "  }\n",
       "\n",
       "  if (root._bokeh_is_loading === 0) {\n",
       "    console.debug(\"Bokeh: BokehJS loaded, going straight to plotting\");\n",
       "    run_inline_js();\n",
       "  } else {\n",
       "    load_libs(css_urls, js_urls, function() {\n",
       "      console.debug(\"Bokeh: BokehJS plotting callback run at\", now());\n",
       "      run_inline_js();\n",
       "    });\n",
       "  }\n",
       "}(window));"
      ],
      "application/vnd.bokehjs_load.v0+json": "\n(function(root) {\n  function now() {\n    return new Date();\n  }\n\n  var force = true;\n\n  if (typeof root._bokeh_onload_callbacks === \"undefined\" || force === true) {\n    root._bokeh_onload_callbacks = [];\n    root._bokeh_is_loading = undefined;\n  }\n\n  \n\n  \n  if (typeof (root._bokeh_timeout) === \"undefined\" || force === true) {\n    root._bokeh_timeout = Date.now() + 5000;\n    root._bokeh_failed_load = false;\n  }\n\n  var NB_LOAD_WARNING = {'data': {'text/html':\n     \"<div style='background-color: #fdd'>\\n\"+\n     \"<p>\\n\"+\n     \"BokehJS does not appear to have successfully loaded. If loading BokehJS from CDN, this \\n\"+\n     \"may be due to a slow or bad network connection. Possible fixes:\\n\"+\n     \"</p>\\n\"+\n     \"<ul>\\n\"+\n     \"<li>re-rerun `output_notebook()` to attempt to load from CDN again, or</li>\\n\"+\n     \"<li>use INLINE resources instead, as so:</li>\\n\"+\n     \"</ul>\\n\"+\n     \"<code>\\n\"+\n     \"from bokeh.resources import INLINE\\n\"+\n     \"output_notebook(resources=INLINE)\\n\"+\n     \"</code>\\n\"+\n     \"</div>\"}};\n\n  function display_loaded() {\n    var el = document.getElementById(\"1762\");\n    if (el != null) {\n      el.textContent = \"BokehJS is loading...\";\n    }\n    if (root.Bokeh !== undefined) {\n      if (el != null) {\n        el.textContent = \"BokehJS \" + root.Bokeh.version + \" successfully loaded.\";\n      }\n    } else if (Date.now() < root._bokeh_timeout) {\n      setTimeout(display_loaded, 100)\n    }\n  }\n\n\n  function run_callbacks() {\n    try {\n      root._bokeh_onload_callbacks.forEach(function(callback) {\n        if (callback != null)\n          callback();\n      });\n    } finally {\n      delete root._bokeh_onload_callbacks\n    }\n    console.debug(\"Bokeh: all callbacks have finished\");\n  }\n\n  function load_libs(css_urls, js_urls, callback) {\n    if (css_urls == null) css_urls = [];\n    if (js_urls == null) js_urls = [];\n\n    root._bokeh_onload_callbacks.push(callback);\n    if (root._bokeh_is_loading > 0) {\n      console.debug(\"Bokeh: BokehJS is being loaded, scheduling callback at\", now());\n      return null;\n    }\n    if (js_urls == null || js_urls.length === 0) {\n      run_callbacks();\n      return null;\n    }\n    console.debug(\"Bokeh: BokehJS not loaded, scheduling load and callback at\", now());\n    root._bokeh_is_loading = css_urls.length + js_urls.length;\n\n    function on_load() {\n      root._bokeh_is_loading--;\n      if (root._bokeh_is_loading === 0) {\n        console.debug(\"Bokeh: all BokehJS libraries/stylesheets loaded\");\n        run_callbacks()\n      }\n    }\n\n    function on_error() {\n      console.error(\"failed to load \" + url);\n    }\n\n    for (var i = 0; i < css_urls.length; i++) {\n      var url = css_urls[i];\n      const element = document.createElement(\"link\");\n      element.onload = on_load;\n      element.onerror = on_error;\n      element.rel = \"stylesheet\";\n      element.type = \"text/css\";\n      element.href = url;\n      console.debug(\"Bokeh: injecting link tag for BokehJS stylesheet: \", url);\n      document.body.appendChild(element);\n    }\n\n    for (var i = 0; i < js_urls.length; i++) {\n      var url = js_urls[i];\n      var element = document.createElement('script');\n      element.onload = on_load;\n      element.onerror = on_error;\n      element.async = false;\n      element.src = url;\n      console.debug(\"Bokeh: injecting script tag for BokehJS library: \", url);\n      document.head.appendChild(element);\n    }\n  };var element = document.getElementById(\"1762\");\n  if (element == null) {\n    console.error(\"Bokeh: ERROR: autoload.js configured with elementid '1762' but no matching script tag was found. \")\n    return false;\n  }\n\n  function inject_raw_css(css) {\n    const element = document.createElement(\"style\");\n    element.appendChild(document.createTextNode(css));\n    document.body.appendChild(element);\n  }\n\n  var js_urls = [\"https://cdn.pydata.org/bokeh/release/bokeh-1.1.0.min.js\", \"https://cdn.pydata.org/bokeh/release/bokeh-widgets-1.1.0.min.js\", \"https://cdn.pydata.org/bokeh/release/bokeh-tables-1.1.0.min.js\", \"https://cdn.pydata.org/bokeh/release/bokeh-gl-1.1.0.min.js\"];\n  var css_urls = [\"https://cdn.pydata.org/bokeh/release/bokeh-1.1.0.min.css\", \"https://cdn.pydata.org/bokeh/release/bokeh-widgets-1.1.0.min.css\", \"https://cdn.pydata.org/bokeh/release/bokeh-tables-1.1.0.min.css\"];\n\n  var inline_js = [\n    function(Bokeh) {\n      Bokeh.set_log_level(\"info\");\n    },\n    \n    function(Bokeh) {\n      \n    },\n    function(Bokeh) {} // ensure no trailing comma for IE\n  ];\n\n  function run_inline_js() {\n    \n    if ((root.Bokeh !== undefined) || (force === true)) {\n      for (var i = 0; i < inline_js.length; i++) {\n        inline_js[i].call(root, root.Bokeh);\n      }if (force === true) {\n        display_loaded();\n      }} else if (Date.now() < root._bokeh_timeout) {\n      setTimeout(run_inline_js, 100);\n    } else if (!root._bokeh_failed_load) {\n      console.log(\"Bokeh: BokehJS failed to load within specified timeout.\");\n      root._bokeh_failed_load = true;\n    } else if (force !== true) {\n      var cell = $(document.getElementById(\"1762\")).parents('.cell').data().cell;\n      cell.output_area.append_execute_result(NB_LOAD_WARNING)\n    }\n\n  }\n\n  if (root._bokeh_is_loading === 0) {\n    console.debug(\"Bokeh: BokehJS loaded, going straight to plotting\");\n    run_inline_js();\n  } else {\n    load_libs(css_urls, js_urls, function() {\n      console.debug(\"Bokeh: BokehJS plotting callback run at\", now());\n      run_inline_js();\n    });\n  }\n}(window));"
     },
     "metadata": {},
     "output_type": "display_data"
    }
   ],
   "source": [
    "output_notebook()"
   ]
  },
  {
   "cell_type": "code",
   "execution_count": 513,
   "metadata": {},
   "outputs": [],
   "source": [
    "source = data.anscombe()"
   ]
  },
  {
   "cell_type": "markdown",
   "metadata": {},
   "source": [
    "# Anscombe's quartet"
   ]
  },
  {
   "cell_type": "markdown",
   "metadata": {},
   "source": [
    "Anscombe's quartet illustrates the importance of visulizing the data. Data sets that have same statistics may depict completely different patterns."
   ]
  },
  {
   "cell_type": "code",
   "execution_count": 514,
   "metadata": {},
   "outputs": [],
   "source": [
    "# Separate each element of quartet into its data set\n",
    "df_1 = source.loc[source.Series == 'I']\n",
    "df_2 = source.loc[source.Series == 'II']\n",
    "df_3 = source.loc[source.Series == 'III']\n",
    "df_4 = source.loc[source.Series == 'IV']\n",
    "\n",
    "df_list = [df_1, df_2, df_3, df_4]"
   ]
  },
  {
   "cell_type": "code",
   "execution_count": 515,
   "metadata": {},
   "outputs": [],
   "source": [
    "color_list = ['#2988DF', '#5CCB2B', '#6F51C7', '#C0387F']"
   ]
  },
  {
   "cell_type": "code",
   "execution_count": 516,
   "metadata": {},
   "outputs": [],
   "source": [
    "def anscombe_chart(source, color):\n",
    "    plot = alt.Chart(source, width=250, height=250)\\\n",
    "                .mark_circle(color=color, size=100)\\\n",
    "                .encode(alt.X('X', scale=alt.Scale(zero=False)),\n",
    "                        alt.Y('Y', scale=alt.Scale(zero=False)),)\n",
    "    return plot"
   ]
  },
  {
   "cell_type": "code",
   "execution_count": 517,
   "metadata": {},
   "outputs": [],
   "source": [
    "charts = [anscombe_chart(df, color_list[i]) for i, df in enumerate(df_list)]"
   ]
  },
  {
   "cell_type": "code",
   "execution_count": 518,
   "metadata": {},
   "outputs": [
    {
     "data": {
      "application/vnd.vegalite.v2+json": {
       "$schema": "https://vega.github.io/schema/vega-lite/v2.6.0.json",
       "config": {
        "view": {
         "height": 300,
         "width": 400
        }
       },
       "datasets": {
        "data-46f9abb73ced1b68b50978157e3f1cd6": [
         {
          "Series": "IV",
          "X": 8,
          "Y": 6.58
         },
         {
          "Series": "IV",
          "X": 8,
          "Y": 5.76
         },
         {
          "Series": "IV",
          "X": 8,
          "Y": 7.71
         },
         {
          "Series": "IV",
          "X": 8,
          "Y": 8.84
         },
         {
          "Series": "IV",
          "X": 8,
          "Y": 8.47
         },
         {
          "Series": "IV",
          "X": 8,
          "Y": 7.04
         },
         {
          "Series": "IV",
          "X": 8,
          "Y": 5.25
         },
         {
          "Series": "IV",
          "X": 19,
          "Y": 12.5
         },
         {
          "Series": "IV",
          "X": 8,
          "Y": 5.5600000000000005
         },
         {
          "Series": "IV",
          "X": 8,
          "Y": 7.91
         },
         {
          "Series": "IV",
          "X": 8,
          "Y": 6.89
         }
        ],
        "data-8df6ae8ffe20f54cc9935f2a9aba6f2b": [
         {
          "Series": "III",
          "X": 10,
          "Y": 7.46
         },
         {
          "Series": "III",
          "X": 8,
          "Y": 6.77
         },
         {
          "Series": "III",
          "X": 13,
          "Y": 12.74
         },
         {
          "Series": "III",
          "X": 9,
          "Y": 7.11
         },
         {
          "Series": "III",
          "X": 11,
          "Y": 7.8100000000000005
         },
         {
          "Series": "III",
          "X": 14,
          "Y": 8.84
         },
         {
          "Series": "III",
          "X": 6,
          "Y": 6.08
         },
         {
          "Series": "III",
          "X": 4,
          "Y": 5.39
         },
         {
          "Series": "III",
          "X": 12,
          "Y": 8.15
         },
         {
          "Series": "III",
          "X": 7,
          "Y": 6.42
         },
         {
          "Series": "III",
          "X": 5,
          "Y": 5.73
         }
        ],
        "data-a087f3a0ecd5756c938c45e502694044": [
         {
          "Series": "II",
          "X": 10,
          "Y": 9.14
         },
         {
          "Series": "II",
          "X": 8,
          "Y": 8.14
         },
         {
          "Series": "II",
          "X": 13,
          "Y": 8.74
         },
         {
          "Series": "II",
          "X": 9,
          "Y": 8.77
         },
         {
          "Series": "II",
          "X": 11,
          "Y": 9.26
         },
         {
          "Series": "II",
          "X": 14,
          "Y": 8.1
         },
         {
          "Series": "II",
          "X": 6,
          "Y": 6.13
         },
         {
          "Series": "II",
          "X": 4,
          "Y": 3.1
         },
         {
          "Series": "II",
          "X": 12,
          "Y": 9.13
         },
         {
          "Series": "II",
          "X": 7,
          "Y": 7.26
         },
         {
          "Series": "II",
          "X": 5,
          "Y": 4.74
         }
        ],
        "data-e65f22639b17a7eb9fb4bd77b52fe079": [
         {
          "Series": "I",
          "X": 10,
          "Y": 8.04
         },
         {
          "Series": "I",
          "X": 8,
          "Y": 6.95
         },
         {
          "Series": "I",
          "X": 13,
          "Y": 7.58
         },
         {
          "Series": "I",
          "X": 9,
          "Y": 8.81
         },
         {
          "Series": "I",
          "X": 11,
          "Y": 8.33
         },
         {
          "Series": "I",
          "X": 14,
          "Y": 9.96
         },
         {
          "Series": "I",
          "X": 6,
          "Y": 7.24
         },
         {
          "Series": "I",
          "X": 4,
          "Y": 4.26
         },
         {
          "Series": "I",
          "X": 12,
          "Y": 10.84
         },
         {
          "Series": "I",
          "X": 7,
          "Y": 4.8100000000000005
         },
         {
          "Series": "I",
          "X": 5,
          "Y": 5.68
         }
        ]
       },
       "vconcat": [
        {
         "hconcat": [
          {
           "data": {
            "name": "data-e65f22639b17a7eb9fb4bd77b52fe079"
           },
           "encoding": {
            "x": {
             "field": "X",
             "scale": {
              "zero": false
             },
             "type": "quantitative"
            },
            "y": {
             "field": "Y",
             "scale": {
              "zero": false
             },
             "type": "quantitative"
            }
           },
           "height": 250,
           "mark": {
            "color": "#2988DF",
            "size": 100,
            "type": "circle"
           },
           "width": 250
          },
          {
           "data": {
            "name": "data-a087f3a0ecd5756c938c45e502694044"
           },
           "encoding": {
            "x": {
             "field": "X",
             "scale": {
              "zero": false
             },
             "type": "quantitative"
            },
            "y": {
             "field": "Y",
             "scale": {
              "zero": false
             },
             "type": "quantitative"
            }
           },
           "height": 250,
           "mark": {
            "color": "#5CCB2B",
            "size": 100,
            "type": "circle"
           },
           "width": 250
          }
         ]
        },
        {
         "hconcat": [
          {
           "data": {
            "name": "data-8df6ae8ffe20f54cc9935f2a9aba6f2b"
           },
           "encoding": {
            "x": {
             "field": "X",
             "scale": {
              "zero": false
             },
             "type": "quantitative"
            },
            "y": {
             "field": "Y",
             "scale": {
              "zero": false
             },
             "type": "quantitative"
            }
           },
           "height": 250,
           "mark": {
            "color": "#6F51C7",
            "size": 100,
            "type": "circle"
           },
           "width": 250
          },
          {
           "data": {
            "name": "data-46f9abb73ced1b68b50978157e3f1cd6"
           },
           "encoding": {
            "x": {
             "field": "X",
             "scale": {
              "zero": false
             },
             "type": "quantitative"
            },
            "y": {
             "field": "Y",
             "scale": {
              "zero": false
             },
             "type": "quantitative"
            }
           },
           "height": 250,
           "mark": {
            "color": "#C0387F",
            "size": 100,
            "type": "circle"
           },
           "width": 250
          }
         ]
        }
       ]
      },
      "image/png": "[encoded data removed]",
      "text/plain": [
       "<VegaLite 2 object>\n",
       "\n",
       "If you see this message, it means the renderer has not been properly enabled\n",
       "for the frontend that you are using. For more information, see\n",
       "https://altair-viz.github.io/user_guide/troubleshooting.html\n"
      ]
     },
     "execution_count": 518,
     "metadata": {},
     "output_type": "execute_result"
    }
   ],
   "source": [
    "(charts[0] | charts[1]) & (charts[2] | charts[3])"
   ]
  },
  {
   "cell_type": "markdown",
   "metadata": {},
   "source": [
    "## Quartet as means"
   ]
  },
  {
   "cell_type": "markdown",
   "metadata": {},
   "source": [
    "We could have always completely missed the point of Anscombe had we chosen inappropriate visualizations like this one. Below we are only visualizing the means of each of the variables. With this information we might also conclude that relationships are the same."
   ]
  },
  {
   "cell_type": "code",
   "execution_count": 519,
   "metadata": {},
   "outputs": [],
   "source": [
    "anscombe_means = source.groupby('Series', as_index=False).mean()"
   ]
  },
  {
   "cell_type": "code",
   "execution_count": 520,
   "metadata": {},
   "outputs": [
    {
     "data": {
      "application/vnd.vegalite.v2+json": {
       "$schema": "https://vega.github.io/schema/vega-lite/v2.6.0.json",
       "config": {
        "view": {
         "height": 300,
         "width": 400
        }
       },
       "datasets": {
        "data-1e5dc1d621d6ffeb33c5864a8ff44175": [
         {
          "Series": "I",
          "X": 9,
          "Y": 7.5
         },
         {
          "Series": "II",
          "X": 9,
          "Y": 7.500909090909091
         },
         {
          "Series": "III",
          "X": 9,
          "Y": 7.500000000000001
         },
         {
          "Series": "IV",
          "X": 9,
          "Y": 7.50090909090909
         }
        ]
       },
       "hconcat": [
        {
         "data": {
          "name": "data-1e5dc1d621d6ffeb33c5864a8ff44175"
         },
         "encoding": {
          "color": {
           "field": "Series",
           "scale": {
            "domain": [
             "I",
             "II",
             "III",
             "IV"
            ],
            "range": [
             "#2988DF",
             "#5CCB2B",
             "#6F51C7",
             "#C0387F"
            ]
           },
           "type": "nominal"
          },
          "x": {
           "field": "Series",
           "type": "nominal"
          },
          "y": {
           "field": "X",
           "scale": {
            "domain": [
             0,
             9.5
            ]
           },
           "type": "quantitative"
          }
         },
         "mark": {
          "size": 35,
          "type": "bar"
         },
         "title": "Avg. X",
         "width": 300
        },
        {
         "data": {
          "name": "data-1e5dc1d621d6ffeb33c5864a8ff44175"
         },
         "encoding": {
          "color": {
           "field": "Series",
           "scale": {
            "domain": [
             "I",
             "II",
             "III",
             "IV"
            ],
            "range": [
             "#2988DF",
             "#5CCB2B",
             "#6F51C7",
             "#C0387F"
            ]
           },
           "type": "nominal"
          },
          "x": {
           "field": "Series",
           "type": "nominal"
          },
          "y": {
           "field": "Y",
           "scale": {
            "domain": [
             0,
             10
            ]
           },
           "type": "quantitative"
          }
         },
         "mark": {
          "size": 35,
          "type": "bar"
         },
         "title": "Avg. Y",
         "width": 300
        }
       ]
      },
      "image/png": "[encoded data removed]",
      "text/plain": [
       "<VegaLite 2 object>\n",
       "\n",
       "If you see this message, it means the renderer has not been properly enabled\n",
       "for the frontend that you are using. For more information, see\n",
       "https://altair-viz.github.io/user_guide/troubleshooting.html\n"
      ]
     },
     "execution_count": 520,
     "metadata": {},
     "output_type": "execute_result"
    }
   ],
   "source": [
    "domain = ['I', 'II', 'III', 'IV']\n",
    "\n",
    "avg_x = alt.Chart(anscombe_means, width=300, title='Avg. X') \\\n",
    "           .mark_bar(size=35) \\\n",
    "           .encode(x=alt.X('Series:N'),\n",
    "                   y=alt.Y('X', scale=alt.Scale(domain=(0, 9.5))),\n",
    "                   color=alt.Color('Series', scale=alt.Scale(domain=domain,\n",
    "                                                             range=color_list)),)\n",
    "\n",
    "avg_y = alt.Chart(anscombe_means, width=300, title='Avg. Y') \\\n",
    "           .mark_bar(size=35) \\\n",
    "           .encode(x=alt.X('Series:N'),\n",
    "                   y=alt.Y('Y', scale=alt.Scale(domain=(0, 10))),\n",
    "                   color=alt.Color('Series', scale=alt.Scale(domain=domain,\n",
    "                                                             range=color_list)),)\n",
    "\n",
    "avg_x | avg_y"
   ]
  },
  {
   "cell_type": "markdown",
   "metadata": {},
   "source": [
    "# Pie charts"
   ]
  },
  {
   "cell_type": "markdown",
   "metadata": {},
   "source": [
    "Part charts should always represent part to whole relationships. "
   ]
  },
  {
   "cell_type": "markdown",
   "metadata": {},
   "source": [
    "## Part to whole violations"
   ]
  },
  {
   "cell_type": "code",
   "execution_count": 521,
   "metadata": {},
   "outputs": [],
   "source": [
    "most_popular_lang = {'JavaScript': 67.8,\n",
    "                      'HTML/CSS': 63.5,\n",
    "                      'SQL': 54.4,\n",
    "                      'Python': 41.7,\n",
    "                      'Java': 41.1,\n",
    "                      'Bash/Shell': 36.6}"
   ]
  },
  {
   "cell_type": "code",
   "execution_count": 522,
   "metadata": {},
   "outputs": [],
   "source": [
    "stack_pop_lang = pd.DataFrame.from_dict(most_popular_lang, orient='index', columns=['percentage'])"
   ]
  },
  {
   "cell_type": "code",
   "execution_count": 523,
   "metadata": {},
   "outputs": [],
   "source": [
    "stack_pop_lang['plot_val'] = stack_pop_lang['percentage'] / stack_pop_lang['percentage'].sum()*100"
   ]
  },
  {
   "cell_type": "code",
   "execution_count": 524,
   "metadata": {},
   "outputs": [],
   "source": [
    "stack_pop_lang['colors'] = ['#EA9C4B','#A5B64A','#4FC288','#28BFCD','#9EACE5','#F48FBE']"
   ]
  },
  {
   "cell_type": "code",
   "execution_count": 525,
   "metadata": {},
   "outputs": [],
   "source": [
    "stack_pop_lang['angle'] = stack_pop_lang['plot_val']/stack_pop_lang['plot_val'].sum() * 2*pi"
   ]
  },
  {
   "cell_type": "code",
   "execution_count": 526,
   "metadata": {},
   "outputs": [
    {
     "data": {
      "text/html": [
       "\n",
       "\n",
       "\n",
       "\n",
       "\n",
       "\n",
       "  <div class=\"bk-root\" id=\"bafba168-6bd1-4e8a-b175-1de877acedc4\" data-root-id=\"1764\"></div>\n"
      ]
     },
     "metadata": {},
     "output_type": "display_data"
    },
    {
     "data": {
      "application/javascript": [
       "(function(root) {\n",
       "  function embed_document(root) {\n",
       "    \n",
       "  var docs_json = {\"ca8c3a0e-201a-4cf3-9234-c59b90c7201f\":{\"roots\":{\"references\":[{\"attributes\":{\"below\":[{\"id\":\"1775\",\"type\":\"LinearAxis\"}],\"center\":[{\"id\":\"1779\",\"type\":\"Grid\"},{\"id\":\"1784\",\"type\":\"Grid\"},{\"id\":\"1812\",\"type\":\"Legend\"}],\"left\":[{\"id\":\"1780\",\"type\":\"LinearAxis\"}],\"plot_height\":350,\"renderers\":[{\"id\":\"1804\",\"type\":\"GlyphRenderer\"}],\"title\":{\"id\":\"1765\",\"type\":\"Title\"},\"toolbar\":{\"id\":\"1791\",\"type\":\"Toolbar\"},\"toolbar_location\":null,\"x_range\":{\"id\":\"1767\",\"type\":\"Range1d\"},\"x_scale\":{\"id\":\"1771\",\"type\":\"LinearScale\"},\"y_range\":{\"id\":\"1769\",\"type\":\"DataRange1d\"},\"y_scale\":{\"id\":\"1773\",\"type\":\"LinearScale\"}},\"id\":\"1764\",\"subtype\":\"Figure\",\"type\":\"Plot\"},{\"attributes\":{\"field\":\"angle\"},\"id\":\"1799\",\"type\":\"CumSum\"},{\"attributes\":{},\"id\":\"1790\",\"type\":\"HelpTool\"},{\"attributes\":{},\"id\":\"1773\",\"type\":\"LinearScale\"},{\"attributes\":{\"source\":{\"id\":\"1800\",\"type\":\"ColumnDataSource\"}},\"id\":\"1805\",\"type\":\"CDSView\"},{\"attributes\":{},\"id\":\"1868\",\"type\":\"Selection\"},{\"attributes\":{},\"id\":\"1786\",\"type\":\"WheelZoomTool\"},{\"attributes\":{\"text\":\"Most popular languages\"},\"id\":\"1765\",\"type\":\"Title\"},{\"attributes\":{\"bottom_units\":\"screen\",\"fill_alpha\":{\"value\":0.5},\"fill_color\":{\"value\":\"lightgrey\"},\"left_units\":\"screen\",\"level\":\"overlay\",\"line_alpha\":{\"value\":1.0},\"line_color\":{\"value\":\"black\"},\"line_dash\":[4,4],\"line_width\":{\"value\":2},\"render_mode\":\"css\",\"right_units\":\"screen\",\"top_units\":\"screen\"},\"id\":\"1811\",\"type\":\"BoxAnnotation\"},{\"attributes\":{\"active_drag\":\"auto\",\"active_inspect\":\"auto\",\"active_multi\":null,\"active_scroll\":\"auto\",\"active_tap\":\"auto\",\"tools\":[{\"id\":\"1785\",\"type\":\"PanTool\"},{\"id\":\"1786\",\"type\":\"WheelZoomTool\"},{\"id\":\"1787\",\"type\":\"BoxZoomTool\"},{\"id\":\"1788\",\"type\":\"SaveTool\"},{\"id\":\"1789\",\"type\":\"ResetTool\"},{\"id\":\"1790\",\"type\":\"HelpTool\"}]},\"id\":\"1791\",\"type\":\"Toolbar\"},{\"attributes\":{},\"id\":\"1808\",\"type\":\"BasicTickFormatter\"},{\"attributes\":{\"items\":[{\"id\":\"1813\",\"type\":\"LegendItem\"}]},\"id\":\"1812\",\"type\":\"Legend\"},{\"attributes\":{\"grid_line_color\":{\"value\":null},\"ticker\":{\"id\":\"1776\",\"type\":\"BasicTicker\"}},\"id\":\"1779\",\"type\":\"Grid\"},{\"attributes\":{},\"id\":\"1781\",\"type\":\"BasicTicker\"},{\"attributes\":{\"callback\":null,\"start\":-0.5},\"id\":\"1767\",\"type\":\"Range1d\"},{\"attributes\":{},\"id\":\"1869\",\"type\":\"UnionRenderers\"},{\"attributes\":{},\"id\":\"1789\",\"type\":\"ResetTool\"},{\"attributes\":{},\"id\":\"1788\",\"type\":\"SaveTool\"},{\"attributes\":{\"data_source\":{\"id\":\"1800\",\"type\":\"ColumnDataSource\"},\"glyph\":{\"id\":\"1802\",\"type\":\"Wedge\"},\"hover_glyph\":null,\"muted_glyph\":null,\"nonselection_glyph\":{\"id\":\"1803\",\"type\":\"Wedge\"},\"selection_glyph\":null,\"view\":{\"id\":\"1805\",\"type\":\"CDSView\"}},\"id\":\"1804\",\"type\":\"GlyphRenderer\"},{\"attributes\":{},\"id\":\"1776\",\"type\":\"BasicTicker\"},{\"attributes\":{},\"id\":\"1810\",\"type\":\"BasicTickFormatter\"},{\"attributes\":{\"field\":\"angle\",\"include_zero\":true},\"id\":\"1798\",\"type\":\"CumSum\"},{\"attributes\":{},\"id\":\"1785\",\"type\":\"PanTool\"},{\"attributes\":{\"callback\":null,\"data\":{\"angle\":{\"__ndarray__\":\"hUTnShhX9j9oBqkiYez0P4M7rrXF7PE/Dw5MKv566z/d6hwZxRXrP+diOxiZHug/\",\"dtype\":\"float64\",\"shape\":[6]},\"colors\":[\"#EA9C4B\",\"#A5B64A\",\"#4FC288\",\"#28BFCD\",\"#9EACE5\",\"#F48FBE\"],\"index\":[\"JavaScript\",\"HTML/CSS\",\"SQL\",\"Python\",\"Java\",\"Bash/Shell\"],\"percentage\":{\"__ndarray__\":\"MzMzMzPzUEAAAAAAAMBPQDMzMzMzM0tAmpmZmZnZREDNzMzMzIxEQM3MzMzMTEJA\",\"dtype\":\"float64\",\"shape\":[6]},\"plot_val\":{\"__ndarray__\":\"jOM4juM4NkBPOpvSFtA0QLAPj0WJ1DFADQjgNtZVK0C0Z4QCJvEqQBw11Xn8/SdA\",\"dtype\":\"float64\",\"shape\":[6]}},\"selected\":{\"id\":\"1868\",\"type\":\"Selection\"},\"selection_policy\":{\"id\":\"1869\",\"type\":\"UnionRenderers\"}},\"id\":\"1800\",\"type\":\"ColumnDataSource\"},{\"attributes\":{\"end_angle\":{\"expr\":{\"id\":\"1799\",\"type\":\"CumSum\"},\"units\":\"rad\"},\"fill_alpha\":{\"value\":0.1},\"fill_color\":{\"value\":\"#1f77b4\"},\"line_alpha\":{\"value\":0.1},\"line_color\":{\"value\":\"#1f77b4\"},\"radius\":{\"units\":\"data\",\"value\":0.4},\"start_angle\":{\"expr\":{\"id\":\"1798\",\"type\":\"CumSum\"},\"units\":\"rad\"},\"x\":{\"value\":0},\"y\":{\"value\":1}},\"id\":\"1803\",\"type\":\"Wedge\"},{\"attributes\":{\"overlay\":{\"id\":\"1811\",\"type\":\"BoxAnnotation\"}},\"id\":\"1787\",\"type\":\"BoxZoomTool\"},{\"attributes\":{\"callback\":null},\"id\":\"1769\",\"type\":\"DataRange1d\"},{\"attributes\":{\"dimension\":1,\"grid_line_color\":{\"value\":null},\"ticker\":{\"id\":\"1781\",\"type\":\"BasicTicker\"}},\"id\":\"1784\",\"type\":\"Grid\"},{\"attributes\":{\"axis_label\":null,\"formatter\":{\"id\":\"1810\",\"type\":\"BasicTickFormatter\"},\"ticker\":{\"id\":\"1776\",\"type\":\"BasicTicker\"},\"visible\":false},\"id\":\"1775\",\"type\":\"LinearAxis\"},{\"attributes\":{\"label\":{\"field\":\"index\"},\"renderers\":[{\"id\":\"1804\",\"type\":\"GlyphRenderer\"}]},\"id\":\"1813\",\"type\":\"LegendItem\"},{\"attributes\":{},\"id\":\"1771\",\"type\":\"LinearScale\"},{\"attributes\":{\"end_angle\":{\"expr\":{\"id\":\"1799\",\"type\":\"CumSum\"},\"units\":\"rad\"},\"fill_color\":{\"field\":\"colors\"},\"line_color\":{\"value\":\"white\"},\"radius\":{\"units\":\"data\",\"value\":0.4},\"start_angle\":{\"expr\":{\"id\":\"1798\",\"type\":\"CumSum\"},\"units\":\"rad\"},\"x\":{\"value\":0},\"y\":{\"value\":1}},\"id\":\"1802\",\"type\":\"Wedge\"},{\"attributes\":{\"axis_label\":null,\"formatter\":{\"id\":\"1808\",\"type\":\"BasicTickFormatter\"},\"ticker\":{\"id\":\"1781\",\"type\":\"BasicTicker\"},\"visible\":false},\"id\":\"1780\",\"type\":\"LinearAxis\"}],\"root_ids\":[\"1764\"]},\"title\":\"Bokeh Application\",\"version\":\"1.1.0\"}};\n",
       "  var render_items = [{\"docid\":\"ca8c3a0e-201a-4cf3-9234-c59b90c7201f\",\"roots\":{\"1764\":\"bafba168-6bd1-4e8a-b175-1de877acedc4\"}}];\n",
       "  root.Bokeh.embed.embed_items_notebook(docs_json, render_items);\n",
       "\n",
       "  }\n",
       "  if (root.Bokeh !== undefined) {\n",
       "    embed_document(root);\n",
       "  } else {\n",
       "    var attempts = 0;\n",
       "    var timer = setInterval(function(root) {\n",
       "      if (root.Bokeh !== undefined) {\n",
       "        embed_document(root);\n",
       "        clearInterval(timer);\n",
       "      }\n",
       "      attempts++;\n",
       "      if (attempts > 100) {\n",
       "        console.log(\"Bokeh: ERROR: Unable to run BokehJS code because BokehJS library is missing\");\n",
       "        clearInterval(timer);\n",
       "      }\n",
       "    }, 10, root)\n",
       "  }\n",
       "})(window);"
      ],
      "application/vnd.bokehjs_exec.v0+json": ""
     },
     "metadata": {
      "application/vnd.bokehjs_exec.v0+json": {
       "id": "1764"
      }
     },
     "output_type": "display_data"
    }
   ],
   "source": [
    "pie_source = ColumnDataSource(stack_pop_lang)\n",
    "\n",
    "pie = figure(plot_height=350, title=\"Most popular languages\", toolbar_location=None, x_range=(-0.5, 1.0))\n",
    "\n",
    "pie.wedge(x=0, y=1, radius=0.4,\n",
    "        start_angle=cumsum('angle', include_zero=True), end_angle=cumsum('angle'),\n",
    "        line_color=\"white\", fill_color='colors', source=stack_pop_lang, legend='index')\n",
    "\n",
    "pie.axis.axis_label=None\n",
    "pie.axis.visible=False\n",
    "pie.grid.grid_line_color = None\n",
    "\n",
    "show(pie)"
   ]
  },
  {
   "cell_type": "markdown",
   "metadata": {},
   "source": [
    "The chart above violates the principle of the part to whole relationship. Each of the slices represents an item that is not mutually exclusive. Therefore, the sum of its part go well beyond 100%"
   ]
  },
  {
   "cell_type": "markdown",
   "metadata": {},
   "source": [
    "## Area + angle difficult to interpret"
   ]
  },
  {
   "cell_type": "code",
   "execution_count": 527,
   "metadata": {},
   "outputs": [],
   "source": [
    "perc_pie = {'JavaScript': 28,\n",
    "                'HTML/CSS': 25,\n",
    "                'SQL': 23,\n",
    "                'Python': 21,\n",
    "                'Java': 3}"
   ]
  },
  {
   "cell_type": "code",
   "execution_count": 528,
   "metadata": {},
   "outputs": [],
   "source": [
    "perc_pie_df = pd.DataFrame.from_dict(perc_pie, orient='index', columns=['percentage'])"
   ]
  },
  {
   "cell_type": "code",
   "execution_count": 529,
   "metadata": {},
   "outputs": [],
   "source": [
    "lang_colors = ['#EA9C4B','#4FC288','#28BFCD','#9EACE5','#F48FBE']\n",
    "perc_pie_df['angle'] = perc_pie_df['percentage']/perc_pie_df['percentage'].sum() * 2*pi\n",
    "perc_pie_df['colors'] = lang_colors"
   ]
  },
  {
   "cell_type": "code",
   "execution_count": 530,
   "metadata": {},
   "outputs": [
    {
     "data": {
      "text/html": [
       "\n",
       "\n",
       "\n",
       "\n",
       "\n",
       "\n",
       "  <div class=\"bk-root\" id=\"08254601-1863-40f8-9b2a-b56b3371ae8d\" data-root-id=\"1919\"></div>\n"
      ]
     },
     "metadata": {},
     "output_type": "display_data"
    },
    {
     "data": {
      "application/javascript": [
       "(function(root) {\n",
       "  function embed_document(root) {\n",
       "    \n",
       "  var docs_json = {\"c0f4612b-710b-43a4-bdf4-c081f809ecb1\":{\"roots\":{\"references\":[{\"attributes\":{\"below\":[{\"id\":\"1930\",\"type\":\"LinearAxis\"}],\"center\":[{\"id\":\"1934\",\"type\":\"Grid\"},{\"id\":\"1939\",\"type\":\"Grid\"},{\"id\":\"1966\",\"type\":\"Legend\"}],\"left\":[{\"id\":\"1935\",\"type\":\"LinearAxis\"}],\"plot_height\":350,\"renderers\":[{\"id\":\"1958\",\"type\":\"GlyphRenderer\"}],\"title\":{\"id\":\"1920\",\"type\":\"Title\"},\"toolbar\":{\"id\":\"1946\",\"type\":\"Toolbar\"},\"toolbar_location\":null,\"x_range\":{\"id\":\"1922\",\"type\":\"Range1d\"},\"x_scale\":{\"id\":\"1926\",\"type\":\"LinearScale\"},\"y_range\":{\"id\":\"1924\",\"type\":\"DataRange1d\"},\"y_scale\":{\"id\":\"1928\",\"type\":\"LinearScale\"}},\"id\":\"1919\",\"subtype\":\"Figure\",\"type\":\"Plot\"},{\"attributes\":{},\"id\":\"1926\",\"type\":\"LinearScale\"},{\"attributes\":{\"field\":\"angle\",\"include_zero\":true},\"id\":\"1953\",\"type\":\"CumSum\"},{\"attributes\":{\"text\":\"Most popular languages in Company\"},\"id\":\"1920\",\"type\":\"Title\"},{\"attributes\":{\"callback\":null},\"id\":\"1924\",\"type\":\"DataRange1d\"},{\"attributes\":{\"label\":{\"field\":\"index\"},\"renderers\":[{\"id\":\"1958\",\"type\":\"GlyphRenderer\"}]},\"id\":\"1967\",\"type\":\"LegendItem\"},{\"attributes\":{\"callback\":null,\"start\":-0.5},\"id\":\"1922\",\"type\":\"Range1d\"},{\"attributes\":{\"dimension\":1,\"grid_line_color\":{\"value\":null},\"ticker\":{\"id\":\"1936\",\"type\":\"BasicTicker\"}},\"id\":\"1939\",\"type\":\"Grid\"},{\"attributes\":{},\"id\":\"1945\",\"type\":\"HelpTool\"},{\"attributes\":{},\"id\":\"1928\",\"type\":\"LinearScale\"},{\"attributes\":{},\"id\":\"1944\",\"type\":\"ResetTool\"},{\"attributes\":{},\"id\":\"1936\",\"type\":\"BasicTicker\"},{\"attributes\":{\"axis_label\":null,\"formatter\":{\"id\":\"1964\",\"type\":\"BasicTickFormatter\"},\"ticker\":{\"id\":\"1931\",\"type\":\"BasicTicker\"},\"visible\":false},\"id\":\"1930\",\"type\":\"LinearAxis\"},{\"attributes\":{\"callback\":null,\"data\":{\"angle\":{\"__ndarray__\":\"boSoPw8m/D8YLURU+yH5PzVIAWJDH/c/UWO+b4sc9T+muiJbnyDIPw==\",\"dtype\":\"float64\",\"shape\":[5]},\"colors\":[\"#EA9C4B\",\"#4FC288\",\"#28BFCD\",\"#9EACE5\",\"#F48FBE\"],\"index\":[\"JavaScript\",\"HTML/CSS\",\"SQL\",\"Python\",\"Java\"],\"percentage\":[28,25,23,21,3]},\"selected\":{\"id\":\"2030\",\"type\":\"Selection\"},\"selection_policy\":{\"id\":\"2031\",\"type\":\"UnionRenderers\"}},\"id\":\"1918\",\"type\":\"ColumnDataSource\"},{\"attributes\":{\"source\":{\"id\":\"1918\",\"type\":\"ColumnDataSource\"}},\"id\":\"1959\",\"type\":\"CDSView\"},{\"attributes\":{\"bottom_units\":\"screen\",\"fill_alpha\":{\"value\":0.5},\"fill_color\":{\"value\":\"lightgrey\"},\"left_units\":\"screen\",\"level\":\"overlay\",\"line_alpha\":{\"value\":1.0},\"line_color\":{\"value\":\"black\"},\"line_dash\":[4,4],\"line_width\":{\"value\":2},\"render_mode\":\"css\",\"right_units\":\"screen\",\"top_units\":\"screen\"},\"id\":\"1965\",\"type\":\"BoxAnnotation\"},{\"attributes\":{},\"id\":\"1941\",\"type\":\"WheelZoomTool\"},{\"attributes\":{\"overlay\":{\"id\":\"1965\",\"type\":\"BoxAnnotation\"}},\"id\":\"1942\",\"type\":\"BoxZoomTool\"},{\"attributes\":{},\"id\":\"1940\",\"type\":\"PanTool\"},{\"attributes\":{},\"id\":\"2031\",\"type\":\"UnionRenderers\"},{\"attributes\":{\"grid_line_color\":{\"value\":null},\"ticker\":{\"id\":\"1931\",\"type\":\"BasicTicker\"}},\"id\":\"1934\",\"type\":\"Grid\"},{\"attributes\":{},\"id\":\"1962\",\"type\":\"BasicTickFormatter\"},{\"attributes\":{\"data_source\":{\"id\":\"1918\",\"type\":\"ColumnDataSource\"},\"glyph\":{\"id\":\"1956\",\"type\":\"Wedge\"},\"hover_glyph\":null,\"muted_glyph\":null,\"nonselection_glyph\":{\"id\":\"1957\",\"type\":\"Wedge\"},\"selection_glyph\":null,\"view\":{\"id\":\"1959\",\"type\":\"CDSView\"}},\"id\":\"1958\",\"type\":\"GlyphRenderer\"},{\"attributes\":{},\"id\":\"1964\",\"type\":\"BasicTickFormatter\"},{\"attributes\":{},\"id\":\"1931\",\"type\":\"BasicTicker\"},{\"attributes\":{\"axis_label\":null,\"formatter\":{\"id\":\"1962\",\"type\":\"BasicTickFormatter\"},\"ticker\":{\"id\":\"1936\",\"type\":\"BasicTicker\"},\"visible\":false},\"id\":\"1935\",\"type\":\"LinearAxis\"},{\"attributes\":{\"active_drag\":\"auto\",\"active_inspect\":\"auto\",\"active_multi\":null,\"active_scroll\":\"auto\",\"active_tap\":\"auto\",\"tools\":[{\"id\":\"1940\",\"type\":\"PanTool\"},{\"id\":\"1941\",\"type\":\"WheelZoomTool\"},{\"id\":\"1942\",\"type\":\"BoxZoomTool\"},{\"id\":\"1943\",\"type\":\"SaveTool\"},{\"id\":\"1944\",\"type\":\"ResetTool\"},{\"id\":\"1945\",\"type\":\"HelpTool\"}]},\"id\":\"1946\",\"type\":\"Toolbar\"},{\"attributes\":{\"end_angle\":{\"expr\":{\"id\":\"1954\",\"type\":\"CumSum\"},\"units\":\"rad\"},\"fill_alpha\":{\"value\":0.1},\"fill_color\":{\"value\":\"#1f77b4\"},\"line_alpha\":{\"value\":0.1},\"line_color\":{\"value\":\"#1f77b4\"},\"radius\":{\"units\":\"data\",\"value\":0.4},\"start_angle\":{\"expr\":{\"id\":\"1953\",\"type\":\"CumSum\"},\"units\":\"rad\"},\"x\":{\"value\":0},\"y\":{\"value\":1}},\"id\":\"1957\",\"type\":\"Wedge\"},{\"attributes\":{\"end_angle\":{\"expr\":{\"id\":\"1954\",\"type\":\"CumSum\"},\"units\":\"rad\"},\"fill_color\":{\"field\":\"colors\"},\"line_color\":{\"value\":\"white\"},\"radius\":{\"units\":\"data\",\"value\":0.4},\"start_angle\":{\"expr\":{\"id\":\"1953\",\"type\":\"CumSum\"},\"units\":\"rad\"},\"x\":{\"value\":0},\"y\":{\"value\":1}},\"id\":\"1956\",\"type\":\"Wedge\"},{\"attributes\":{},\"id\":\"1943\",\"type\":\"SaveTool\"},{\"attributes\":{\"field\":\"angle\"},\"id\":\"1954\",\"type\":\"CumSum\"},{\"attributes\":{},\"id\":\"2030\",\"type\":\"Selection\"},{\"attributes\":{\"items\":[{\"id\":\"1967\",\"type\":\"LegendItem\"}]},\"id\":\"1966\",\"type\":\"Legend\"}],\"root_ids\":[\"1919\"]},\"title\":\"Bokeh Application\",\"version\":\"1.1.0\"}};\n",
       "  var render_items = [{\"docid\":\"c0f4612b-710b-43a4-bdf4-c081f809ecb1\",\"roots\":{\"1919\":\"08254601-1863-40f8-9b2a-b56b3371ae8d\"}}];\n",
       "  root.Bokeh.embed.embed_items_notebook(docs_json, render_items);\n",
       "\n",
       "  }\n",
       "  if (root.Bokeh !== undefined) {\n",
       "    embed_document(root);\n",
       "  } else {\n",
       "    var attempts = 0;\n",
       "    var timer = setInterval(function(root) {\n",
       "      if (root.Bokeh !== undefined) {\n",
       "        embed_document(root);\n",
       "        clearInterval(timer);\n",
       "      }\n",
       "      attempts++;\n",
       "      if (attempts > 100) {\n",
       "        console.log(\"Bokeh: ERROR: Unable to run BokehJS code because BokehJS library is missing\");\n",
       "        clearInterval(timer);\n",
       "      }\n",
       "    }, 10, root)\n",
       "  }\n",
       "})(window);"
      ],
      "application/vnd.bokehjs_exec.v0+json": ""
     },
     "metadata": {
      "application/vnd.bokehjs_exec.v0+json": {
       "id": "1919"
      }
     },
     "output_type": "display_data"
    }
   ],
   "source": [
    "pie_perc_source = ColumnDataSource(perc_pie_df)\n",
    "\n",
    "pie_perc_plot = figure(plot_height=350, title=\"Most popular languages in Company\", toolbar_location=None, x_range=(-0.5, 1.0))\n",
    "\n",
    "pie_perc_plot.wedge(x=0, y=1, radius=0.4,\n",
    "        start_angle=cumsum('angle', include_zero=True), end_angle=cumsum('angle'),\n",
    "        line_color=\"white\", fill_color='colors', source=pie_perc_source, legend='index')\n",
    "\n",
    "pie_perc_plot.axis.axis_label=None\n",
    "pie_perc_plot.axis.visible=False\n",
    "pie_perc_plot.grid.grid_line_color = None\n",
    "\n",
    "show(pie_perc_plot)\n"
   ]
  },
  {
   "cell_type": "markdown",
   "metadata": {},
   "source": [
    "If we don't have any extra information is very difficult to know if JavaScript is more popular than HTML and if SQL is more popular than Python."
   ]
  },
  {
   "cell_type": "code",
   "execution_count": 531,
   "metadata": {},
   "outputs": [],
   "source": [
    "perc_bar_df = perc_pie_df.reset_index().rename(columns={'index': 'language'})"
   ]
  },
  {
   "cell_type": "code",
   "execution_count": 532,
   "metadata": {},
   "outputs": [
    {
     "data": {
      "application/vnd.vegalite.v2+json": {
       "$schema": "https://vega.github.io/schema/vega-lite/v2.6.0.json",
       "config": {
        "view": {
         "height": 300,
         "width": 400
        }
       },
       "data": {
        "name": "data-6d048b9a6c9ae2c7fe970f5b27702188"
       },
       "datasets": {
        "data-6d048b9a6c9ae2c7fe970f5b27702188": [
         {
          "angle": 1.7592918860102844,
          "colors": "#EA9C4B",
          "language": "JavaScript",
          "percentage": 28
         },
         {
          "angle": 1.5707963267948966,
          "colors": "#4FC288",
          "language": "HTML/CSS",
          "percentage": 25
         },
         {
          "angle": 1.4451326206513049,
          "colors": "#28BFCD",
          "language": "SQL",
          "percentage": 23
         },
         {
          "angle": 1.319468914507713,
          "colors": "#9EACE5",
          "language": "Python",
          "percentage": 21
         },
         {
          "angle": 0.18849555921538758,
          "colors": "#F48FBE",
          "language": "Java",
          "percentage": 3
         }
        ]
       },
       "encoding": {
        "color": {
         "field": "language",
         "scale": {
          "domain": [
           "JavaScript",
           "HTML/CSS",
           "SQL",
           "Python",
           "Java"
          ],
          "range": [
           "#EA9C4B",
           "#4FC288",
           "#28BFCD",
           "#9EACE5",
           "#F48FBE"
          ]
         },
         "type": "nominal"
        },
        "x": {
         "field": "language",
         "type": "nominal"
        },
        "y": {
         "field": "percentage",
         "scale": {
          "domain": [
           0,
           30
          ]
         },
         "type": "quantitative"
        }
       },
       "height": 250,
       "mark": {
        "size": 25,
        "type": "bar"
       },
       "width": 300
      },
      "image/png": "[encoded data removed]",
      "text/plain": [
       "<VegaLite 2 object>\n",
       "\n",
       "If you see this message, it means the renderer has not been properly enabled\n",
       "for the frontend that you are using. For more information, see\n",
       "https://altair-viz.github.io/user_guide/troubleshooting.html\n"
      ]
     },
     "execution_count": 532,
     "metadata": {},
     "output_type": "execute_result"
    }
   ],
   "source": [
    "alt.Chart(perc_bar_df, height=250, width=300) \\\n",
    "    .mark_bar(size=25)\\\n",
    "    .encode(\n",
    "            x=alt.X('language:N'),\n",
    "            y=alt.Y('percentage:Q', scale=alt.Scale(domain=(0, 30))),\n",
    "            color=alt.Color('language',\n",
    " scale=alt.Scale(domain=perc_bar_df.language.tolist(),\n",
    "                                            range=lang_colors)),\n",
    ")"
   ]
  },
  {
   "cell_type": "markdown",
   "metadata": {},
   "source": [
    "Using a bar chart makes this comparison simpler. Here we can easily see that JavaScript is more popular than HTML and that SQL is more popular than Python."
   ]
  },
  {
   "cell_type": "code",
   "execution_count": 533,
   "metadata": {},
   "outputs": [
    {
     "data": {
      "application/vnd.vegalite.v2+json": {
       "$schema": "https://vega.github.io/schema/vega-lite/v2.6.0.json",
       "config": {
        "view": {
         "height": 300,
         "width": 400
        }
       },
       "data": {
        "name": "data-6d048b9a6c9ae2c7fe970f5b27702188"
       },
       "datasets": {
        "data-6d048b9a6c9ae2c7fe970f5b27702188": [
         {
          "angle": 1.7592918860102844,
          "colors": "#EA9C4B",
          "language": "JavaScript",
          "percentage": 28
         },
         {
          "angle": 1.5707963267948966,
          "colors": "#4FC288",
          "language": "HTML/CSS",
          "percentage": 25
         },
         {
          "angle": 1.4451326206513049,
          "colors": "#28BFCD",
          "language": "SQL",
          "percentage": 23
         },
         {
          "angle": 1.319468914507713,
          "colors": "#9EACE5",
          "language": "Python",
          "percentage": 21
         },
         {
          "angle": 0.18849555921538758,
          "colors": "#F48FBE",
          "language": "Java",
          "percentage": 3
         }
        ]
       },
       "encoding": {
        "color": {
         "field": "language",
         "scale": {
          "domain": [
           "JavaScript",
           "HTML/CSS",
           "SQL",
           "Python",
           "Java"
          ],
          "range": [
           "#EA9C4B",
           "#4FC288",
           "#28BFCD",
           "#9EACE5",
           "#F48FBE"
          ]
         },
         "type": "nominal"
        },
        "x": {
         "field": "language",
         "sort": null,
         "type": "nominal"
        },
        "y": {
         "field": "percentage",
         "scale": {
          "domain": [
           0,
           30
          ]
         },
         "type": "quantitative"
        }
       },
       "height": 250,
       "mark": {
        "size": 25,
        "type": "bar"
       },
       "width": 300
      },
      "image/png": "[encoded data removed]",
      "text/plain": [
       "<VegaLite 2 object>\n",
       "\n",
       "If you see this message, it means the renderer has not been properly enabled\n",
       "for the frontend that you are using. For more information, see\n",
       "https://altair-viz.github.io/user_guide/troubleshooting.html\n"
      ]
     },
     "execution_count": 533,
     "metadata": {},
     "output_type": "execute_result"
    }
   ],
   "source": [
    "alt.Chart(perc_bar_df, height=250, width=300) \\\n",
    "    .mark_bar(size=25)\\\n",
    "    .encode(\n",
    "            x=alt.X('language:N', sort=None),\n",
    "            y=alt.Y('percentage:Q', scale=alt.Scale(domain=(0, 30))),\n",
    "            color=alt.Color('language',\n",
    "                            scale=alt.Scale(domain=perc_bar_df.language.tolist(),\n",
    "                                            range=lang_colors)),\n",
    ")"
   ]
  },
  {
   "cell_type": "markdown",
   "metadata": {},
   "source": [
    "We can even order the bars so it is easy to see the ranking between items."
   ]
  },
  {
   "cell_type": "markdown",
   "metadata": {},
   "source": [
    "# Truncated bar charts"
   ]
  },
  {
   "cell_type": "code",
   "execution_count": 534,
   "metadata": {},
   "outputs": [],
   "source": [
    "#percentage hispanic/latino devs\n",
    "lat_devs = {\n",
    "    '2017': 5.6,\n",
    "    '2018': 6.7,\n",
    "    '2019': 7.1\n",
    "}"
   ]
  },
  {
   "cell_type": "code",
   "execution_count": 535,
   "metadata": {},
   "outputs": [],
   "source": [
    "lat_survey = pd.DataFrame.from_dict(lat_devs, orient='index', columns=['percentage']) \\\n",
    "            .reset_index() \\\n",
    "            .rename(columns={'index': 'year'})"
   ]
  },
  {
   "cell_type": "code",
   "execution_count": 536,
   "metadata": {},
   "outputs": [
    {
     "data": {
      "application/vnd.vegalite.v2+json": {
       "$schema": "https://vega.github.io/schema/vega-lite/v2.6.0.json",
       "config": {
        "axis": {
         "labelAngle": 0,
         "labelFontSize": 15
        },
        "view": {
         "height": 300,
         "width": 400
        }
       },
       "data": {
        "name": "data-5b8bd1fa04530ff479a5ee03b4a84227"
       },
       "datasets": {
        "data-5b8bd1fa04530ff479a5ee03b4a84227": [
         {
          "percentage": 5.6,
          "year": "2017"
         },
         {
          "percentage": 6.7,
          "year": "2018"
         },
         {
          "percentage": 7.1,
          "year": "2019"
         }
        ]
       },
       "encoding": {
        "color": {
         "field": "year",
         "type": "nominal"
        },
        "x": {
         "field": "year",
         "type": "nominal"
        },
        "y": {
         "field": "percentage",
         "scale": {
          "domain": [
           5.5,
           7.2
          ]
         },
         "type": "quantitative"
        }
       },
       "height": 250,
       "mark": {
        "size": 50,
        "type": "bar"
       },
       "title": "Percentage of hispanic/latino devs",
       "width": 300
      },
      "image/png": "[encoded data removed]",
      "text/plain": [
       "<VegaLite 2 object>\n",
       "\n",
       "If you see this message, it means the renderer has not been properly enabled\n",
       "for the frontend that you are using. For more information, see\n",
       "https://altair-viz.github.io/user_guide/troubleshooting.html\n"
      ]
     },
     "execution_count": 536,
     "metadata": {},
     "output_type": "execute_result"
    }
   ],
   "source": [
    "alt.Chart(lat_survey, height=250, width=300, title='Percentage of hispanic/latino devs') \\\n",
    "    .mark_bar(size=50) \\\n",
    "    .encode(\n",
    "        x='year:N',\n",
    "        y=alt.Y('percentage:Q', scale=alt.Scale(domain=(5.5, 7.20))),\n",
    "        color='year',\n",
    "    ).configure_axis(\n",
    "    labelFontSize=15,\n",
    "    labelAngle=0\n",
    ")"
   ]
  },
  {
   "cell_type": "markdown",
   "metadata": {},
   "source": [
    "The graph above shows a truncated y axis that starts at 5.4. This gives the impression that in 2018 there was a lot of growth."
   ]
  },
  {
   "cell_type": "code",
   "execution_count": 537,
   "metadata": {},
   "outputs": [
    {
     "data": {
      "application/vnd.vegalite.v2+json": {
       "$schema": "https://vega.github.io/schema/vega-lite/v2.6.0.json",
       "config": {
        "axis": {
         "labelAngle": 0,
         "labelFontSize": 15
        },
        "view": {
         "height": 300,
         "width": 400
        }
       },
       "data": {
        "name": "data-5b8bd1fa04530ff479a5ee03b4a84227"
       },
       "datasets": {
        "data-5b8bd1fa04530ff479a5ee03b4a84227": [
         {
          "percentage": 5.6,
          "year": "2017"
         },
         {
          "percentage": 6.7,
          "year": "2018"
         },
         {
          "percentage": 7.1,
          "year": "2019"
         }
        ]
       },
       "encoding": {
        "color": {
         "field": "year",
         "type": "nominal"
        },
        "x": {
         "field": "year",
         "type": "nominal"
        },
        "y": {
         "field": "percentage",
         "type": "quantitative"
        }
       },
       "height": 250,
       "mark": {
        "size": 50,
        "type": "bar"
       },
       "title": "Percentage of hispanic/latino devs",
       "width": 300
      },
      "image/png": "[encoded data removed]",
      "text/plain": [
       "<VegaLite 2 object>\n",
       "\n",
       "If you see this message, it means the renderer has not been properly enabled\n",
       "for the frontend that you are using. For more information, see\n",
       "https://altair-viz.github.io/user_guide/troubleshooting.html\n"
      ]
     },
     "execution_count": 537,
     "metadata": {},
     "output_type": "execute_result"
    }
   ],
   "source": [
    "alt.Chart(lat_survey, height=250, width=300, title='Percentage of hispanic/latino devs') \\\n",
    "    .mark_bar(size=50) \\\n",
    "    .encode(\n",
    "        x='year:N',\n",
    "        y=alt.Y('percentage:Q'),\n",
    "        color='year',\n",
    "    ).configure_axis(\n",
    "    labelFontSize=15,\n",
    "    labelAngle=0\n",
    ")"
   ]
  },
  {
   "cell_type": "markdown",
   "metadata": {},
   "source": [
    "Same data is plotted here starting at 0."
   ]
  },
  {
   "cell_type": "markdown",
   "metadata": {},
   "source": [
    "# Not always truncate axis"
   ]
  },
  {
   "cell_type": "markdown",
   "metadata": {},
   "source": [
    "This section uses data from the Berkeley Eart dataset. You can find the data [here](https://www.kaggle.com/berkeleyearth/climate-change-earth-surface-temperature-data)."
   ]
  },
  {
   "cell_type": "code",
   "execution_count": 538,
   "metadata": {},
   "outputs": [],
   "source": [
    "temperature_data = pd.read_csv('./datasets/GlobalTemperatures.csv', parse_dates=['dt'])"
   ]
  },
  {
   "cell_type": "code",
   "execution_count": 539,
   "metadata": {},
   "outputs": [],
   "source": [
    "plot_data = temperature_data[temperature_data['dt'] > '1879']\\\n",
    "                .groupby(pd.Grouper(freq='Y', key='dt'))['LandAverageTemperature'] \\\n",
    "                .mean() \\\n",
    "                .reset_index()"
   ]
  },
  {
   "cell_type": "code",
   "execution_count": 540,
   "metadata": {},
   "outputs": [
    {
     "data": {
      "application/vnd.vegalite.v2+json": {
       "$schema": "https://vega.github.io/schema/vega-lite/v2.6.0.json",
       "config": {
        "view": {
         "height": 300,
         "width": 400
        }
       },
       "data": {
        "name": "data-8a1f0c16d326005c8fc7bb881b4dbe7a"
       },
       "datasets": {
        "data-8a1f0c16d326005c8fc7bb881b4dbe7a": [
         {
          "LandAverageTemperature": 8.698818181818181,
          "dt": "1879-12-31T00:00:00"
         },
         {
          "LandAverageTemperature": 8.118749999999999,
          "dt": "1880-12-31T00:00:00"
         },
         {
          "LandAverageTemperature": 8.270916666666666,
          "dt": "1881-12-31T00:00:00"
         },
         {
          "LandAverageTemperature": 8.128916666666667,
          "dt": "1882-12-31T00:00:00"
         },
         {
          "LandAverageTemperature": 7.976916666666665,
          "dt": "1883-12-31T00:00:00"
         },
         {
          "LandAverageTemperature": 7.773666666666667,
          "dt": "1884-12-31T00:00:00"
         },
         {
          "LandAverageTemperature": 7.919666666666668,
          "dt": "1885-12-31T00:00:00"
         },
         {
          "LandAverageTemperature": 7.954499999999999,
          "dt": "1886-12-31T00:00:00"
         },
         {
          "LandAverageTemperature": 7.914916666666667,
          "dt": "1887-12-31T00:00:00"
         },
         {
          "LandAverageTemperature": 8.0905,
          "dt": "1888-12-31T00:00:00"
         },
         {
          "LandAverageTemperature": 8.318999999999999,
          "dt": "1889-12-31T00:00:00"
         },
         {
          "LandAverageTemperature": 7.971666666666667,
          "dt": "1890-12-31T00:00:00"
         },
         {
          "LandAverageTemperature": 8.019333333333334,
          "dt": "1891-12-31T00:00:00"
         },
         {
          "LandAverageTemperature": 8.065833333333332,
          "dt": "1892-12-31T00:00:00"
         },
         {
          "LandAverageTemperature": 8.05675,
          "dt": "1893-12-31T00:00:00"
         },
         {
          "LandAverageTemperature": 8.161,
          "dt": "1894-12-31T00:00:00"
         },
         {
          "LandAverageTemperature": 8.147,
          "dt": "1895-12-31T00:00:00"
         },
         {
          "LandAverageTemperature": 8.214916666666666,
          "dt": "1896-12-31T00:00:00"
         },
         {
          "LandAverageTemperature": 8.293333333333335,
          "dt": "1897-12-31T00:00:00"
         },
         {
          "LandAverageTemperature": 8.177999999999999,
          "dt": "1898-12-31T00:00:00"
         },
         {
          "LandAverageTemperature": 8.396333333333333,
          "dt": "1899-12-31T00:00:00"
         },
         {
          "LandAverageTemperature": 8.501583333333333,
          "dt": "1900-12-31T00:00:00"
         },
         {
          "LandAverageTemperature": 8.541916666666665,
          "dt": "1901-12-31T00:00:00"
         },
         {
          "LandAverageTemperature": 8.304416666666667,
          "dt": "1902-12-31T00:00:00"
         },
         {
          "LandAverageTemperature": 8.220166666666668,
          "dt": "1903-12-31T00:00:00"
         },
         {
          "LandAverageTemperature": 8.090916666666667,
          "dt": "1904-12-31T00:00:00"
         },
         {
          "LandAverageTemperature": 8.225166666666665,
          "dt": "1905-12-31T00:00:00"
         },
         {
          "LandAverageTemperature": 8.379083333333332,
          "dt": "1906-12-31T00:00:00"
         },
         {
          "LandAverageTemperature": 7.947166666666667,
          "dt": "1907-12-31T00:00:00"
         },
         {
          "LandAverageTemperature": 8.186083333333334,
          "dt": "1908-12-31T00:00:00"
         },
         {
          "LandAverageTemperature": 8.17825,
          "dt": "1909-12-31T00:00:00"
         },
         {
          "LandAverageTemperature": 8.223,
          "dt": "1910-12-31T00:00:00"
         },
         {
          "LandAverageTemperature": 8.177000000000001,
          "dt": "1911-12-31T00:00:00"
         },
         {
          "LandAverageTemperature": 8.165416666666667,
          "dt": "1912-12-31T00:00:00"
         },
         {
          "LandAverageTemperature": 8.297749999999999,
          "dt": "1913-12-31T00:00:00"
         },
         {
          "LandAverageTemperature": 8.5905,
          "dt": "1914-12-31T00:00:00"
         },
         {
          "LandAverageTemperature": 8.593166666666665,
          "dt": "1915-12-31T00:00:00"
         },
         {
          "LandAverageTemperature": 8.22525,
          "dt": "1916-12-31T00:00:00"
         },
         {
          "LandAverageTemperature": 8.023333333333332,
          "dt": "1917-12-31T00:00:00"
         },
         {
          "LandAverageTemperature": 8.130833333333332,
          "dt": "1918-12-31T00:00:00"
         },
         {
          "LandAverageTemperature": 8.38225,
          "dt": "1919-12-31T00:00:00"
         },
         {
          "LandAverageTemperature": 8.35875,
          "dt": "1920-12-31T00:00:00"
         },
         {
          "LandAverageTemperature": 8.571,
          "dt": "1921-12-31T00:00:00"
         },
         {
          "LandAverageTemperature": 8.408,
          "dt": "1922-12-31T00:00:00"
         },
         {
          "LandAverageTemperature": 8.422166666666666,
          "dt": "1923-12-31T00:00:00"
         },
         {
          "LandAverageTemperature": 8.506833333333335,
          "dt": "1924-12-31T00:00:00"
         },
         {
          "LandAverageTemperature": 8.534416666666667,
          "dt": "1925-12-31T00:00:00"
         },
         {
          "LandAverageTemperature": 8.728833333333332,
          "dt": "1926-12-31T00:00:00"
         },
         {
          "LandAverageTemperature": 8.522083333333333,
          "dt": "1927-12-31T00:00:00"
         },
         {
          "LandAverageTemperature": 8.632166666666668,
          "dt": "1928-12-31T00:00:00"
         },
         {
          "LandAverageTemperature": 8.242416666666665,
          "dt": "1929-12-31T00:00:00"
         },
         {
          "LandAverageTemperature": 8.633583333333332,
          "dt": "1930-12-31T00:00:00"
         },
         {
          "LandAverageTemperature": 8.71925,
          "dt": "1931-12-31T00:00:00"
         },
         {
          "LandAverageTemperature": 8.705250000000001,
          "dt": "1932-12-31T00:00:00"
         },
         {
          "LandAverageTemperature": 8.33825,
          "dt": "1933-12-31T00:00:00"
         },
         {
          "LandAverageTemperature": 8.628333333333336,
          "dt": "1934-12-31T00:00:00"
         },
         {
          "LandAverageTemperature": 8.51575,
          "dt": "1935-12-31T00:00:00"
         },
         {
          "LandAverageTemperature": 8.554,
          "dt": "1936-12-31T00:00:00"
         },
         {
          "LandAverageTemperature": 8.698333333333332,
          "dt": "1937-12-31T00:00:00"
         },
         {
          "LandAverageTemperature": 8.863666666666665,
          "dt": "1938-12-31T00:00:00"
         },
         {
          "LandAverageTemperature": 8.760333333333334,
          "dt": "1939-12-31T00:00:00"
         },
         {
          "LandAverageTemperature": 8.764666666666667,
          "dt": "1940-12-31T00:00:00"
         },
         {
          "LandAverageTemperature": 8.768666666666668,
          "dt": "1941-12-31T00:00:00"
         },
         {
          "LandAverageTemperature": 8.728416666666666,
          "dt": "1942-12-31T00:00:00"
         },
         {
          "LandAverageTemperature": 8.755083333333333,
          "dt": "1943-12-31T00:00:00"
         },
         {
          "LandAverageTemperature": 8.845,
          "dt": "1944-12-31T00:00:00"
         },
         {
          "LandAverageTemperature": 8.584833333333332,
          "dt": "1945-12-31T00:00:00"
         },
         {
          "LandAverageTemperature": 8.676916666666669,
          "dt": "1946-12-31T00:00:00"
         },
         {
          "LandAverageTemperature": 8.797083333333333,
          "dt": "1947-12-31T00:00:00"
         },
         {
          "LandAverageTemperature": 8.74675,
          "dt": "1948-12-31T00:00:00"
         },
         {
          "LandAverageTemperature": 8.586749999999999,
          "dt": "1949-12-31T00:00:00"
         },
         {
          "LandAverageTemperature": 8.365250000000001,
          "dt": "1950-12-31T00:00:00"
         },
         {
          "LandAverageTemperature": 8.625666666666666,
          "dt": "1951-12-31T00:00:00"
         },
         {
          "LandAverageTemperature": 8.638250000000001,
          "dt": "1952-12-31T00:00:00"
         },
         {
          "LandAverageTemperature": 8.873750000000001,
          "dt": "1953-12-31T00:00:00"
         },
         {
          "LandAverageTemperature": 8.560666666666666,
          "dt": "1954-12-31T00:00:00"
         },
         {
          "LandAverageTemperature": 8.62625,
          "dt": "1955-12-31T00:00:00"
         },
         {
          "LandAverageTemperature": 8.279583333333333,
          "dt": "1956-12-31T00:00:00"
         },
         {
          "LandAverageTemperature": 8.7325,
          "dt": "1957-12-31T00:00:00"
         },
         {
          "LandAverageTemperature": 8.77375,
          "dt": "1958-12-31T00:00:00"
         },
         {
          "LandAverageTemperature": 8.732666666666665,
          "dt": "1959-12-31T00:00:00"
         },
         {
          "LandAverageTemperature": 8.58375,
          "dt": "1960-12-31T00:00:00"
         },
         {
          "LandAverageTemperature": 8.797666666666666,
          "dt": "1961-12-31T00:00:00"
         },
         {
          "LandAverageTemperature": 8.745916666666666,
          "dt": "1962-12-31T00:00:00"
         },
         {
          "LandAverageTemperature": 8.856,
          "dt": "1963-12-31T00:00:00"
         },
         {
          "LandAverageTemperature": 8.409666666666666,
          "dt": "1964-12-31T00:00:00"
         },
         {
          "LandAverageTemperature": 8.527416666666667,
          "dt": "1965-12-31T00:00:00"
         },
         {
          "LandAverageTemperature": 8.599333333333332,
          "dt": "1966-12-31T00:00:00"
         },
         {
          "LandAverageTemperature": 8.700083333333334,
          "dt": "1967-12-31T00:00:00"
         },
         {
          "LandAverageTemperature": 8.516333333333334,
          "dt": "1968-12-31T00:00:00"
         },
         {
          "LandAverageTemperature": 8.595083333333333,
          "dt": "1969-12-31T00:00:00"
         },
         {
          "LandAverageTemperature": 8.700916666666666,
          "dt": "1970-12-31T00:00:00"
         },
         {
          "LandAverageTemperature": 8.59925,
          "dt": "1971-12-31T00:00:00"
         },
         {
          "LandAverageTemperature": 8.499583333333334,
          "dt": "1972-12-31T00:00:00"
         },
         {
          "LandAverageTemperature": 8.948249999999998,
          "dt": "1973-12-31T00:00:00"
         },
         {
          "LandAverageTemperature": 8.4675,
          "dt": "1974-12-31T00:00:00"
         },
         {
          "LandAverageTemperature": 8.744833333333334,
          "dt": "1975-12-31T00:00:00"
         },
         {
          "LandAverageTemperature": 8.347249999999999,
          "dt": "1976-12-31T00:00:00"
         },
         {
          "LandAverageTemperature": 8.850249999999999,
          "dt": "1977-12-31T00:00:00"
         },
         {
          "LandAverageTemperature": 8.692749999999998,
          "dt": "1978-12-31T00:00:00"
         },
         {
          "LandAverageTemperature": 8.733416666666665,
          "dt": "1979-12-31T00:00:00"
         },
         {
          "LandAverageTemperature": 8.980333333333332,
          "dt": "1980-12-31T00:00:00"
         },
         {
          "LandAverageTemperature": 9.165833333333333,
          "dt": "1981-12-31T00:00:00"
         },
         {
          "LandAverageTemperature": 8.639166666666666,
          "dt": "1982-12-31T00:00:00"
         },
         {
          "LandAverageTemperature": 9.028166666666666,
          "dt": "1983-12-31T00:00:00"
         },
         {
          "LandAverageTemperature": 8.691833333333335,
          "dt": "1984-12-31T00:00:00"
         },
         {
          "LandAverageTemperature": 8.658,
          "dt": "1985-12-31T00:00:00"
         },
         {
          "LandAverageTemperature": 8.833583333333332,
          "dt": "1986-12-31T00:00:00"
         },
         {
          "LandAverageTemperature": 8.994416666666668,
          "dt": "1987-12-31T00:00:00"
         },
         {
          "LandAverageTemperature": 9.201583333333334,
          "dt": "1988-12-31T00:00:00"
         },
         {
          "LandAverageTemperature": 8.921999999999999,
          "dt": "1989-12-31T00:00:00"
         },
         {
          "LandAverageTemperature": 9.234166666666667,
          "dt": "1990-12-31T00:00:00"
         },
         {
          "LandAverageTemperature": 9.179416666666667,
          "dt": "1991-12-31T00:00:00"
         },
         {
          "LandAverageTemperature": 8.836583333333332,
          "dt": "1992-12-31T00:00:00"
         },
         {
          "LandAverageTemperature": 8.866583333333333,
          "dt": "1993-12-31T00:00:00"
         },
         {
          "LandAverageTemperature": 9.038749999999999,
          "dt": "1994-12-31T00:00:00"
         },
         {
          "LandAverageTemperature": 9.347083333333332,
          "dt": "1995-12-31T00:00:00"
         },
         {
          "LandAverageTemperature": 9.038916666666667,
          "dt": "1996-12-31T00:00:00"
         },
         {
          "LandAverageTemperature": 9.202583333333333,
          "dt": "1997-12-31T00:00:00"
         },
         {
          "LandAverageTemperature": 9.522666666666666,
          "dt": "1998-12-31T00:00:00"
         },
         {
          "LandAverageTemperature": 9.285083333333333,
          "dt": "1999-12-31T00:00:00"
         },
         {
          "LandAverageTemperature": 9.201166666666667,
          "dt": "2000-12-31T00:00:00"
         },
         {
          "LandAverageTemperature": 9.414583333333335,
          "dt": "2001-12-31T00:00:00"
         },
         {
          "LandAverageTemperature": 9.570416666666667,
          "dt": "2002-12-31T00:00:00"
         },
         {
          "LandAverageTemperature": 9.525583333333334,
          "dt": "2003-12-31T00:00:00"
         },
         {
          "LandAverageTemperature": 9.324583333333333,
          "dt": "2004-12-31T00:00:00"
         },
         {
          "LandAverageTemperature": 9.700916666666666,
          "dt": "2005-12-31T00:00:00"
         },
         {
          "LandAverageTemperature": 9.532499999999999,
          "dt": "2006-12-31T00:00:00"
         },
         {
          "LandAverageTemperature": 9.732166666666664,
          "dt": "2007-12-31T00:00:00"
         },
         {
          "LandAverageTemperature": 9.431750000000001,
          "dt": "2008-12-31T00:00:00"
         },
         {
          "LandAverageTemperature": 9.505250000000002,
          "dt": "2009-12-31T00:00:00"
         },
         {
          "LandAverageTemperature": 9.703083333333332,
          "dt": "2010-12-31T00:00:00"
         },
         {
          "LandAverageTemperature": 9.516,
          "dt": "2011-12-31T00:00:00"
         },
         {
          "LandAverageTemperature": 9.507333333333333,
          "dt": "2012-12-31T00:00:00"
         },
         {
          "LandAverageTemperature": 9.606499999999999,
          "dt": "2013-12-31T00:00:00"
         },
         {
          "LandAverageTemperature": 9.570666666666666,
          "dt": "2014-12-31T00:00:00"
         },
         {
          "LandAverageTemperature": 9.830999999999998,
          "dt": "2015-12-31T00:00:00"
         }
        ]
       },
       "encoding": {
        "x": {
         "field": "dt",
         "title": "date",
         "type": "temporal"
        },
        "y": {
         "field": "LandAverageTemperature",
         "scale": {
          "domain": [
           0,
           30
          ]
         },
         "title": "Avg. Annual Temp (Cª)",
         "type": "quantitative"
        }
       },
       "height": 300,
       "mark": {
        "size": 2,
        "type": "bar"
       },
       "title": "What climate change?",
       "width": 500
      },
      "image/png": "[encoded data removed]",
      "text/plain": [
       "<VegaLite 2 object>\n",
       "\n",
       "If you see this message, it means the renderer has not been properly enabled\n",
       "for the frontend that you are using. For more information, see\n",
       "https://altair-viz.github.io/user_guide/troubleshooting.html\n"
      ]
     },
     "execution_count": 540,
     "metadata": {},
     "output_type": "execute_result"
    }
   ],
   "source": [
    "alt.Chart(plot_data, height=300, width=500, title='What climate change?') \\\n",
    "    .mark_bar(size=2) \\\n",
    "    .encode(\n",
    "    x=alt.X('dt', title='date'),\n",
    "    y=alt.Y('LandAverageTemperature',\n",
    "            scale=alt.Scale(domain=(0, 30)),\n",
    "            title='Avg. Annual Temp (Cª)')\n",
    ")"
   ]
  },
  {
   "cell_type": "code",
   "execution_count": 541,
   "metadata": {},
   "outputs": [
    {
     "data": {
      "application/vnd.vegalite.v2+json": {
       "$schema": "https://vega.github.io/schema/vega-lite/v2.6.0.json",
       "config": {
        "view": {
         "height": 300,
         "width": 400
        }
       },
       "data": {
        "name": "data-8a1f0c16d326005c8fc7bb881b4dbe7a"
       },
       "datasets": {
        "data-8a1f0c16d326005c8fc7bb881b4dbe7a": [
         {
          "LandAverageTemperature": 8.698818181818181,
          "dt": "1879-12-31T00:00:00"
         },
         {
          "LandAverageTemperature": 8.118749999999999,
          "dt": "1880-12-31T00:00:00"
         },
         {
          "LandAverageTemperature": 8.270916666666666,
          "dt": "1881-12-31T00:00:00"
         },
         {
          "LandAverageTemperature": 8.128916666666667,
          "dt": "1882-12-31T00:00:00"
         },
         {
          "LandAverageTemperature": 7.976916666666665,
          "dt": "1883-12-31T00:00:00"
         },
         {
          "LandAverageTemperature": 7.773666666666667,
          "dt": "1884-12-31T00:00:00"
         },
         {
          "LandAverageTemperature": 7.919666666666668,
          "dt": "1885-12-31T00:00:00"
         },
         {
          "LandAverageTemperature": 7.954499999999999,
          "dt": "1886-12-31T00:00:00"
         },
         {
          "LandAverageTemperature": 7.914916666666667,
          "dt": "1887-12-31T00:00:00"
         },
         {
          "LandAverageTemperature": 8.0905,
          "dt": "1888-12-31T00:00:00"
         },
         {
          "LandAverageTemperature": 8.318999999999999,
          "dt": "1889-12-31T00:00:00"
         },
         {
          "LandAverageTemperature": 7.971666666666667,
          "dt": "1890-12-31T00:00:00"
         },
         {
          "LandAverageTemperature": 8.019333333333334,
          "dt": "1891-12-31T00:00:00"
         },
         {
          "LandAverageTemperature": 8.065833333333332,
          "dt": "1892-12-31T00:00:00"
         },
         {
          "LandAverageTemperature": 8.05675,
          "dt": "1893-12-31T00:00:00"
         },
         {
          "LandAverageTemperature": 8.161,
          "dt": "1894-12-31T00:00:00"
         },
         {
          "LandAverageTemperature": 8.147,
          "dt": "1895-12-31T00:00:00"
         },
         {
          "LandAverageTemperature": 8.214916666666666,
          "dt": "1896-12-31T00:00:00"
         },
         {
          "LandAverageTemperature": 8.293333333333335,
          "dt": "1897-12-31T00:00:00"
         },
         {
          "LandAverageTemperature": 8.177999999999999,
          "dt": "1898-12-31T00:00:00"
         },
         {
          "LandAverageTemperature": 8.396333333333333,
          "dt": "1899-12-31T00:00:00"
         },
         {
          "LandAverageTemperature": 8.501583333333333,
          "dt": "1900-12-31T00:00:00"
         },
         {
          "LandAverageTemperature": 8.541916666666665,
          "dt": "1901-12-31T00:00:00"
         },
         {
          "LandAverageTemperature": 8.304416666666667,
          "dt": "1902-12-31T00:00:00"
         },
         {
          "LandAverageTemperature": 8.220166666666668,
          "dt": "1903-12-31T00:00:00"
         },
         {
          "LandAverageTemperature": 8.090916666666667,
          "dt": "1904-12-31T00:00:00"
         },
         {
          "LandAverageTemperature": 8.225166666666665,
          "dt": "1905-12-31T00:00:00"
         },
         {
          "LandAverageTemperature": 8.379083333333332,
          "dt": "1906-12-31T00:00:00"
         },
         {
          "LandAverageTemperature": 7.947166666666667,
          "dt": "1907-12-31T00:00:00"
         },
         {
          "LandAverageTemperature": 8.186083333333334,
          "dt": "1908-12-31T00:00:00"
         },
         {
          "LandAverageTemperature": 8.17825,
          "dt": "1909-12-31T00:00:00"
         },
         {
          "LandAverageTemperature": 8.223,
          "dt": "1910-12-31T00:00:00"
         },
         {
          "LandAverageTemperature": 8.177000000000001,
          "dt": "1911-12-31T00:00:00"
         },
         {
          "LandAverageTemperature": 8.165416666666667,
          "dt": "1912-12-31T00:00:00"
         },
         {
          "LandAverageTemperature": 8.297749999999999,
          "dt": "1913-12-31T00:00:00"
         },
         {
          "LandAverageTemperature": 8.5905,
          "dt": "1914-12-31T00:00:00"
         },
         {
          "LandAverageTemperature": 8.593166666666665,
          "dt": "1915-12-31T00:00:00"
         },
         {
          "LandAverageTemperature": 8.22525,
          "dt": "1916-12-31T00:00:00"
         },
         {
          "LandAverageTemperature": 8.023333333333332,
          "dt": "1917-12-31T00:00:00"
         },
         {
          "LandAverageTemperature": 8.130833333333332,
          "dt": "1918-12-31T00:00:00"
         },
         {
          "LandAverageTemperature": 8.38225,
          "dt": "1919-12-31T00:00:00"
         },
         {
          "LandAverageTemperature": 8.35875,
          "dt": "1920-12-31T00:00:00"
         },
         {
          "LandAverageTemperature": 8.571,
          "dt": "1921-12-31T00:00:00"
         },
         {
          "LandAverageTemperature": 8.408,
          "dt": "1922-12-31T00:00:00"
         },
         {
          "LandAverageTemperature": 8.422166666666666,
          "dt": "1923-12-31T00:00:00"
         },
         {
          "LandAverageTemperature": 8.506833333333335,
          "dt": "1924-12-31T00:00:00"
         },
         {
          "LandAverageTemperature": 8.534416666666667,
          "dt": "1925-12-31T00:00:00"
         },
         {
          "LandAverageTemperature": 8.728833333333332,
          "dt": "1926-12-31T00:00:00"
         },
         {
          "LandAverageTemperature": 8.522083333333333,
          "dt": "1927-12-31T00:00:00"
         },
         {
          "LandAverageTemperature": 8.632166666666668,
          "dt": "1928-12-31T00:00:00"
         },
         {
          "LandAverageTemperature": 8.242416666666665,
          "dt": "1929-12-31T00:00:00"
         },
         {
          "LandAverageTemperature": 8.633583333333332,
          "dt": "1930-12-31T00:00:00"
         },
         {
          "LandAverageTemperature": 8.71925,
          "dt": "1931-12-31T00:00:00"
         },
         {
          "LandAverageTemperature": 8.705250000000001,
          "dt": "1932-12-31T00:00:00"
         },
         {
          "LandAverageTemperature": 8.33825,
          "dt": "1933-12-31T00:00:00"
         },
         {
          "LandAverageTemperature": 8.628333333333336,
          "dt": "1934-12-31T00:00:00"
         },
         {
          "LandAverageTemperature": 8.51575,
          "dt": "1935-12-31T00:00:00"
         },
         {
          "LandAverageTemperature": 8.554,
          "dt": "1936-12-31T00:00:00"
         },
         {
          "LandAverageTemperature": 8.698333333333332,
          "dt": "1937-12-31T00:00:00"
         },
         {
          "LandAverageTemperature": 8.863666666666665,
          "dt": "1938-12-31T00:00:00"
         },
         {
          "LandAverageTemperature": 8.760333333333334,
          "dt": "1939-12-31T00:00:00"
         },
         {
          "LandAverageTemperature": 8.764666666666667,
          "dt": "1940-12-31T00:00:00"
         },
         {
          "LandAverageTemperature": 8.768666666666668,
          "dt": "1941-12-31T00:00:00"
         },
         {
          "LandAverageTemperature": 8.728416666666666,
          "dt": "1942-12-31T00:00:00"
         },
         {
          "LandAverageTemperature": 8.755083333333333,
          "dt": "1943-12-31T00:00:00"
         },
         {
          "LandAverageTemperature": 8.845,
          "dt": "1944-12-31T00:00:00"
         },
         {
          "LandAverageTemperature": 8.584833333333332,
          "dt": "1945-12-31T00:00:00"
         },
         {
          "LandAverageTemperature": 8.676916666666669,
          "dt": "1946-12-31T00:00:00"
         },
         {
          "LandAverageTemperature": 8.797083333333333,
          "dt": "1947-12-31T00:00:00"
         },
         {
          "LandAverageTemperature": 8.74675,
          "dt": "1948-12-31T00:00:00"
         },
         {
          "LandAverageTemperature": 8.586749999999999,
          "dt": "1949-12-31T00:00:00"
         },
         {
          "LandAverageTemperature": 8.365250000000001,
          "dt": "1950-12-31T00:00:00"
         },
         {
          "LandAverageTemperature": 8.625666666666666,
          "dt": "1951-12-31T00:00:00"
         },
         {
          "LandAverageTemperature": 8.638250000000001,
          "dt": "1952-12-31T00:00:00"
         },
         {
          "LandAverageTemperature": 8.873750000000001,
          "dt": "1953-12-31T00:00:00"
         },
         {
          "LandAverageTemperature": 8.560666666666666,
          "dt": "1954-12-31T00:00:00"
         },
         {
          "LandAverageTemperature": 8.62625,
          "dt": "1955-12-31T00:00:00"
         },
         {
          "LandAverageTemperature": 8.279583333333333,
          "dt": "1956-12-31T00:00:00"
         },
         {
          "LandAverageTemperature": 8.7325,
          "dt": "1957-12-31T00:00:00"
         },
         {
          "LandAverageTemperature": 8.77375,
          "dt": "1958-12-31T00:00:00"
         },
         {
          "LandAverageTemperature": 8.732666666666665,
          "dt": "1959-12-31T00:00:00"
         },
         {
          "LandAverageTemperature": 8.58375,
          "dt": "1960-12-31T00:00:00"
         },
         {
          "LandAverageTemperature": 8.797666666666666,
          "dt": "1961-12-31T00:00:00"
         },
         {
          "LandAverageTemperature": 8.745916666666666,
          "dt": "1962-12-31T00:00:00"
         },
         {
          "LandAverageTemperature": 8.856,
          "dt": "1963-12-31T00:00:00"
         },
         {
          "LandAverageTemperature": 8.409666666666666,
          "dt": "1964-12-31T00:00:00"
         },
         {
          "LandAverageTemperature": 8.527416666666667,
          "dt": "1965-12-31T00:00:00"
         },
         {
          "LandAverageTemperature": 8.599333333333332,
          "dt": "1966-12-31T00:00:00"
         },
         {
          "LandAverageTemperature": 8.700083333333334,
          "dt": "1967-12-31T00:00:00"
         },
         {
          "LandAverageTemperature": 8.516333333333334,
          "dt": "1968-12-31T00:00:00"
         },
         {
          "LandAverageTemperature": 8.595083333333333,
          "dt": "1969-12-31T00:00:00"
         },
         {
          "LandAverageTemperature": 8.700916666666666,
          "dt": "1970-12-31T00:00:00"
         },
         {
          "LandAverageTemperature": 8.59925,
          "dt": "1971-12-31T00:00:00"
         },
         {
          "LandAverageTemperature": 8.499583333333334,
          "dt": "1972-12-31T00:00:00"
         },
         {
          "LandAverageTemperature": 8.948249999999998,
          "dt": "1973-12-31T00:00:00"
         },
         {
          "LandAverageTemperature": 8.4675,
          "dt": "1974-12-31T00:00:00"
         },
         {
          "LandAverageTemperature": 8.744833333333334,
          "dt": "1975-12-31T00:00:00"
         },
         {
          "LandAverageTemperature": 8.347249999999999,
          "dt": "1976-12-31T00:00:00"
         },
         {
          "LandAverageTemperature": 8.850249999999999,
          "dt": "1977-12-31T00:00:00"
         },
         {
          "LandAverageTemperature": 8.692749999999998,
          "dt": "1978-12-31T00:00:00"
         },
         {
          "LandAverageTemperature": 8.733416666666665,
          "dt": "1979-12-31T00:00:00"
         },
         {
          "LandAverageTemperature": 8.980333333333332,
          "dt": "1980-12-31T00:00:00"
         },
         {
          "LandAverageTemperature": 9.165833333333333,
          "dt": "1981-12-31T00:00:00"
         },
         {
          "LandAverageTemperature": 8.639166666666666,
          "dt": "1982-12-31T00:00:00"
         },
         {
          "LandAverageTemperature": 9.028166666666666,
          "dt": "1983-12-31T00:00:00"
         },
         {
          "LandAverageTemperature": 8.691833333333335,
          "dt": "1984-12-31T00:00:00"
         },
         {
          "LandAverageTemperature": 8.658,
          "dt": "1985-12-31T00:00:00"
         },
         {
          "LandAverageTemperature": 8.833583333333332,
          "dt": "1986-12-31T00:00:00"
         },
         {
          "LandAverageTemperature": 8.994416666666668,
          "dt": "1987-12-31T00:00:00"
         },
         {
          "LandAverageTemperature": 9.201583333333334,
          "dt": "1988-12-31T00:00:00"
         },
         {
          "LandAverageTemperature": 8.921999999999999,
          "dt": "1989-12-31T00:00:00"
         },
         {
          "LandAverageTemperature": 9.234166666666667,
          "dt": "1990-12-31T00:00:00"
         },
         {
          "LandAverageTemperature": 9.179416666666667,
          "dt": "1991-12-31T00:00:00"
         },
         {
          "LandAverageTemperature": 8.836583333333332,
          "dt": "1992-12-31T00:00:00"
         },
         {
          "LandAverageTemperature": 8.866583333333333,
          "dt": "1993-12-31T00:00:00"
         },
         {
          "LandAverageTemperature": 9.038749999999999,
          "dt": "1994-12-31T00:00:00"
         },
         {
          "LandAverageTemperature": 9.347083333333332,
          "dt": "1995-12-31T00:00:00"
         },
         {
          "LandAverageTemperature": 9.038916666666667,
          "dt": "1996-12-31T00:00:00"
         },
         {
          "LandAverageTemperature": 9.202583333333333,
          "dt": "1997-12-31T00:00:00"
         },
         {
          "LandAverageTemperature": 9.522666666666666,
          "dt": "1998-12-31T00:00:00"
         },
         {
          "LandAverageTemperature": 9.285083333333333,
          "dt": "1999-12-31T00:00:00"
         },
         {
          "LandAverageTemperature": 9.201166666666667,
          "dt": "2000-12-31T00:00:00"
         },
         {
          "LandAverageTemperature": 9.414583333333335,
          "dt": "2001-12-31T00:00:00"
         },
         {
          "LandAverageTemperature": 9.570416666666667,
          "dt": "2002-12-31T00:00:00"
         },
         {
          "LandAverageTemperature": 9.525583333333334,
          "dt": "2003-12-31T00:00:00"
         },
         {
          "LandAverageTemperature": 9.324583333333333,
          "dt": "2004-12-31T00:00:00"
         },
         {
          "LandAverageTemperature": 9.700916666666666,
          "dt": "2005-12-31T00:00:00"
         },
         {
          "LandAverageTemperature": 9.532499999999999,
          "dt": "2006-12-31T00:00:00"
         },
         {
          "LandAverageTemperature": 9.732166666666664,
          "dt": "2007-12-31T00:00:00"
         },
         {
          "LandAverageTemperature": 9.431750000000001,
          "dt": "2008-12-31T00:00:00"
         },
         {
          "LandAverageTemperature": 9.505250000000002,
          "dt": "2009-12-31T00:00:00"
         },
         {
          "LandAverageTemperature": 9.703083333333332,
          "dt": "2010-12-31T00:00:00"
         },
         {
          "LandAverageTemperature": 9.516,
          "dt": "2011-12-31T00:00:00"
         },
         {
          "LandAverageTemperature": 9.507333333333333,
          "dt": "2012-12-31T00:00:00"
         },
         {
          "LandAverageTemperature": 9.606499999999999,
          "dt": "2013-12-31T00:00:00"
         },
         {
          "LandAverageTemperature": 9.570666666666666,
          "dt": "2014-12-31T00:00:00"
         },
         {
          "LandAverageTemperature": 9.830999999999998,
          "dt": "2015-12-31T00:00:00"
         }
        ]
       },
       "encoding": {
        "x": {
         "field": "dt",
         "title": "date",
         "type": "temporal"
        },
        "y": {
         "field": "LandAverageTemperature",
         "scale": {
          "domain": [
           7,
           10
          ]
         },
         "title": "Avg. Annual Temp (Cª)",
         "type": "quantitative"
        }
       },
       "height": 300,
       "mark": {
        "size": 2,
        "type": "line"
       },
       "title": "It is definitely rising!",
       "width": 500
      },
      "image/png": "[encoded data removed]",
      "text/plain": [
       "<VegaLite 2 object>\n",
       "\n",
       "If you see this message, it means the renderer has not been properly enabled\n",
       "for the frontend that you are using. For more information, see\n",
       "https://altair-viz.github.io/user_guide/troubleshooting.html\n"
      ]
     },
     "execution_count": 541,
     "metadata": {},
     "output_type": "execute_result"
    }
   ],
   "source": [
    "alt.Chart(plot_data, height=300, width=500, title='It is definitely rising!') \\\n",
    "    .mark_line(size=2) \\\n",
    "    .encode(\n",
    "    x=alt.X('dt', title='date'),\n",
    "    y=alt.Y('LandAverageTemperature',\n",
    "            scale=alt.Scale(domain=(7, 10)),\n",
    "            title='Avg. Annual Temp (Cª)')\n",
    ")"
   ]
  },
  {
   "cell_type": "markdown",
   "metadata": {},
   "source": [
    "## Use of color"
   ]
  },
  {
   "cell_type": "markdown",
   "metadata": {},
   "source": [
    "This section uses the data from Seattle's ride sharing system. You can find it [here](https://www.kaggle.com/pronto/cycle-share-dataset)."
   ]
  },
  {
   "cell_type": "code",
   "execution_count": 542,
   "metadata": {},
   "outputs": [],
   "source": [
    "bike_trips = pd.read_csv('./datasets/trip.csv', parse_dates=['starttime', 'stoptime'])"
   ]
  },
  {
   "cell_type": "code",
   "execution_count": 543,
   "metadata": {},
   "outputs": [],
   "source": [
    "from_to_trips = bike_trips.groupby(['from_station_name',\n",
    "                                    'to_station_name']) \\\n",
    "                            .size() \\\n",
    "                            .reset_index() \\\n",
    "                            .rename(columns={0: 'counts'})"
   ]
  },
  {
   "cell_type": "code",
   "execution_count": 544,
   "metadata": {},
   "outputs": [],
   "source": [
    "top_trips = from_to_trips.sort_values(by='counts', ascending=False).iloc[:25,]"
   ]
  },
  {
   "cell_type": "code",
   "execution_count": 545,
   "metadata": {},
   "outputs": [],
   "source": [
    "matrix_data = from_to_trips[(from_to_trips.from_station_name.isin(top_trips.from_station_name.tolist())) &\n",
    "             (from_to_trips.to_station_name.isin(top_trips.to_station_name.tolist()))].copy()"
   ]
  },
  {
   "cell_type": "code",
   "execution_count": 546,
   "metadata": {},
   "outputs": [],
   "source": [
    "matrix_data['log_counts'] = np.log(matrix_data.counts)"
   ]
  },
  {
   "cell_type": "code",
   "execution_count": 547,
   "metadata": {},
   "outputs": [],
   "source": [
    "number_station = {station: number for number, station in enumerate(set(top_trips.from_station_name.append(top_trips.to_station_name)))}"
   ]
  },
  {
   "cell_type": "code",
   "execution_count": 548,
   "metadata": {},
   "outputs": [],
   "source": [
    "matrix_data[['from_station_number', 'to_station_number']] = matrix_data[['from_station_name', 'to_station_name']].applymap(lambda x: number_station[x])\n"
   ]
  },
  {
   "cell_type": "code",
   "execution_count": 549,
   "metadata": {},
   "outputs": [
    {
     "data": {
      "application/vnd.vegalite.v2+json": {
       "$schema": "https://vega.github.io/schema/vega-lite/v2.6.0.json",
       "config": {
        "view": {
         "height": 300,
         "width": 400
        }
       },
       "data": {
        "name": "data-cac656c5cfcc04ea4f0a538f5f77bc72"
       },
       "datasets": {
        "data-cac656c5cfcc04ea4f0a538f5f77bc72": [
         {
          "counts": 705,
          "from_station_name": "2nd Ave & Pine St",
          "from_station_number": 18,
          "log_counts": 6.558197802812269,
          "to_station_name": "1st Ave & Marion St",
          "to_station_number": 17
         },
         {
          "counts": 524,
          "from_station_name": "2nd Ave & Pine St",
          "from_station_number": 18,
          "log_counts": 6.261491684321042,
          "to_station_name": "2nd Ave & Pine St",
          "to_station_number": 18
         },
         {
          "counts": 302,
          "from_station_name": "2nd Ave & Pine St",
          "from_station_number": 18,
          "log_counts": 5.71042701737487,
          "to_station_name": "2nd Ave & Spring St",
          "to_station_number": 9
         },
         {
          "counts": 1111,
          "from_station_name": "2nd Ave & Pine St",
          "from_station_number": 18,
          "log_counts": 7.01301578963963,
          "to_station_name": "3rd Ave & Broad St",
          "to_station_number": 12
         },
         {
          "counts": 117,
          "from_station_name": "2nd Ave & Pine St",
          "from_station_number": 18,
          "log_counts": 4.762173934797756,
          "to_station_name": "9th Ave N & Mercer St",
          "to_station_number": 7
         },
         {
          "counts": 2,
          "from_station_name": "2nd Ave & Pine St",
          "from_station_number": 18,
          "log_counts": 0.6931471805599453,
          "to_station_name": "Burke-Gilman Trail / NE Blakeley St & 24th Ave NE",
          "to_station_number": 20
         },
         {
          "counts": 139,
          "from_station_name": "2nd Ave & Pine St",
          "from_station_number": 18,
          "log_counts": 4.9344739331306915,
          "to_station_name": "Cal Anderson Park / 11th Ave & Pine St",
          "to_station_number": 13
         },
         {
          "counts": 183,
          "from_station_name": "2nd Ave & Pine St",
          "from_station_number": 18,
          "log_counts": 5.209486152841421,
          "to_station_name": "Dexter Ave N & Aloha St",
          "to_station_number": 2
         },
         {
          "counts": 37,
          "from_station_name": "2nd Ave & Pine St",
          "from_station_number": 18,
          "log_counts": 3.6109179126442243,
          "to_station_name": "E Harrison St & Broadway Ave E",
          "to_station_number": 4
         },
         {
          "counts": 467,
          "from_station_name": "2nd Ave & Pine St",
          "from_station_number": 18,
          "log_counts": 6.1463292576688975,
          "to_station_name": "King Street Station Plaza / 2nd Ave Extension S & S Jackson St",
          "to_station_number": 16
         },
         {
          "counts": 119,
          "from_station_name": "2nd Ave & Pine St",
          "from_station_number": 18,
          "log_counts": 4.77912349311153,
          "to_station_name": "Lake Union Park / Valley St & Boren Ave N",
          "to_station_number": 5
         },
         {
          "counts": 434,
          "from_station_name": "2nd Ave & Pine St",
          "from_station_number": 18,
          "log_counts": 6.073044534100405,
          "to_station_name": "Pier 69 / Alaskan Way & Clay St",
          "to_station_number": 1
         },
         {
          "counts": 182,
          "from_station_name": "2nd Ave & Pine St",
          "from_station_number": 18,
          "log_counts": 5.204006687076795,
          "to_station_name": "Pine St & 9th Ave",
          "to_station_number": 11
         },
         {
          "counts": 296,
          "from_station_name": "2nd Ave & Pine St",
          "from_station_number": 18,
          "log_counts": 5.69035945432406,
          "to_station_name": "REI / Yale Ave N & John St",
          "to_station_number": 0
         },
         {
          "counts": 257,
          "from_station_name": "2nd Ave & Pine St",
          "from_station_number": 18,
          "log_counts": 5.54907608489522,
          "to_station_name": "Republican St & Westlake Ave N",
          "to_station_number": 8
         },
         {
          "counts": 187,
          "from_station_name": "2nd Ave & Pine St",
          "from_station_number": 18,
          "log_counts": 5.231108616854587,
          "to_station_name": "Seattle Aquarium / Alaskan Way S & Elliott Bay Trail",
          "to_station_number": 6
         },
         {
          "counts": 449,
          "from_station_name": "2nd Ave & Pine St",
          "from_station_number": 18,
          "log_counts": 6.1070228877422545,
          "to_station_name": "Westlake Ave & 6th Ave",
          "to_station_number": 10
         },
         {
          "counts": 426,
          "from_station_name": "2nd Ave & Vine St",
          "from_station_number": 3,
          "log_counts": 6.054439346269371,
          "to_station_name": "1st Ave & Marion St",
          "to_station_number": 17
         },
         {
          "counts": 931,
          "from_station_name": "2nd Ave & Vine St",
          "from_station_number": 3,
          "log_counts": 6.836259277277067,
          "to_station_name": "2nd Ave & Pine St",
          "to_station_number": 18
         },
         {
          "counts": 479,
          "from_station_name": "2nd Ave & Vine St",
          "from_station_number": 3,
          "log_counts": 6.171700597410915,
          "to_station_name": "2nd Ave & Spring St",
          "to_station_number": 9
         },
         {
          "counts": 341,
          "from_station_name": "2nd Ave & Vine St",
          "from_station_number": 3,
          "log_counts": 5.831882477283517,
          "to_station_name": "3rd Ave & Broad St",
          "to_station_number": 12
         },
         {
          "counts": 428,
          "from_station_name": "2nd Ave & Vine St",
          "from_station_number": 3,
          "log_counts": 6.059123195581797,
          "to_station_name": "9th Ave N & Mercer St",
          "to_station_number": 7
         },
         {
          "counts": 46,
          "from_station_name": "2nd Ave & Vine St",
          "from_station_number": 3,
          "log_counts": 3.828641396489095,
          "to_station_name": "Burke-Gilman Trail / NE Blakeley St & 24th Ave NE",
          "to_station_number": 20
         },
         {
          "counts": 28,
          "from_station_name": "2nd Ave & Vine St",
          "from_station_number": 3,
          "log_counts": 3.332204510175204,
          "to_station_name": "Cal Anderson Park / 11th Ave & Pine St",
          "to_station_number": 13
         },
         {
          "counts": 101,
          "from_station_name": "2nd Ave & Vine St",
          "from_station_number": 3,
          "log_counts": 4.61512051684126,
          "to_station_name": "Dexter Ave N & Aloha St",
          "to_station_number": 2
         },
         {
          "counts": 30,
          "from_station_name": "2nd Ave & Vine St",
          "from_station_number": 3,
          "log_counts": 3.4011973816621555,
          "to_station_name": "E Harrison St & Broadway Ave E",
          "to_station_number": 4
         },
         {
          "counts": 325,
          "from_station_name": "2nd Ave & Vine St",
          "from_station_number": 3,
          "log_counts": 5.783825182329737,
          "to_station_name": "King Street Station Plaza / 2nd Ave Extension S & S Jackson St",
          "to_station_number": 16
         },
         {
          "counts": 106,
          "from_station_name": "2nd Ave & Vine St",
          "from_station_number": 3,
          "log_counts": 4.663439094112067,
          "to_station_name": "Lake Union Park / Valley St & Boren Ave N",
          "to_station_number": 5
         },
         {
          "counts": 276,
          "from_station_name": "2nd Ave & Vine St",
          "from_station_number": 3,
          "log_counts": 5.62040086571715,
          "to_station_name": "Pier 69 / Alaskan Way & Clay St",
          "to_station_number": 1
         },
         {
          "counts": 125,
          "from_station_name": "2nd Ave & Vine St",
          "from_station_number": 3,
          "log_counts": 4.8283137373023015,
          "to_station_name": "Pine St & 9th Ave",
          "to_station_number": 11
         },
         {
          "counts": 135,
          "from_station_name": "2nd Ave & Vine St",
          "from_station_number": 3,
          "log_counts": 4.90527477843843,
          "to_station_name": "REI / Yale Ave N & John St",
          "to_station_number": 0
         },
         {
          "counts": 767,
          "from_station_name": "2nd Ave & Vine St",
          "from_station_number": 3,
          "log_counts": 6.642486801367256,
          "to_station_name": "Republican St & Westlake Ave N",
          "to_station_number": 8
         },
         {
          "counts": 202,
          "from_station_name": "2nd Ave & Vine St",
          "from_station_number": 3,
          "log_counts": 5.308267697401205,
          "to_station_name": "Seattle Aquarium / Alaskan Way S & Elliott Bay Trail",
          "to_station_number": 6
         },
         {
          "counts": 600,
          "from_station_name": "2nd Ave & Vine St",
          "from_station_number": 3,
          "log_counts": 6.396929655216146,
          "to_station_name": "Westlake Ave & 6th Ave",
          "to_station_number": 10
         },
         {
          "counts": 261,
          "from_station_name": "3rd Ave & Broad St",
          "from_station_number": 12,
          "log_counts": 5.564520407322694,
          "to_station_name": "1st Ave & Marion St",
          "to_station_number": 17
         },
         {
          "counts": 1247,
          "from_station_name": "3rd Ave & Broad St",
          "from_station_number": 12,
          "log_counts": 7.1284959456800365,
          "to_station_name": "2nd Ave & Pine St",
          "to_station_number": 18
         },
         {
          "counts": 846,
          "from_station_name": "3rd Ave & Broad St",
          "from_station_number": 12,
          "log_counts": 6.740519359606223,
          "to_station_name": "2nd Ave & Spring St",
          "to_station_number": 9
         },
         {
          "counts": 738,
          "from_station_name": "3rd Ave & Broad St",
          "from_station_number": 12,
          "log_counts": 6.6039438246004725,
          "to_station_name": "3rd Ave & Broad St",
          "to_station_number": 12
         },
         {
          "counts": 215,
          "from_station_name": "3rd Ave & Broad St",
          "from_station_number": 12,
          "log_counts": 5.3706380281276624,
          "to_station_name": "9th Ave N & Mercer St",
          "to_station_number": 7
         },
         {
          "counts": 10,
          "from_station_name": "3rd Ave & Broad St",
          "from_station_number": 12,
          "log_counts": 2.302585092994046,
          "to_station_name": "Burke-Gilman Trail / NE Blakeley St & 24th Ave NE",
          "to_station_number": 20
         },
         {
          "counts": 29,
          "from_station_name": "3rd Ave & Broad St",
          "from_station_number": 12,
          "log_counts": 3.367295829986474,
          "to_station_name": "Cal Anderson Park / 11th Ave & Pine St",
          "to_station_number": 13
         },
         {
          "counts": 206,
          "from_station_name": "3rd Ave & Broad St",
          "from_station_number": 12,
          "log_counts": 5.327876168789581,
          "to_station_name": "Dexter Ave N & Aloha St",
          "to_station_number": 2
         },
         {
          "counts": 25,
          "from_station_name": "3rd Ave & Broad St",
          "from_station_number": 12,
          "log_counts": 3.2188758248682006,
          "to_station_name": "E Harrison St & Broadway Ave E",
          "to_station_number": 4
         },
         {
          "counts": 351,
          "from_station_name": "3rd Ave & Broad St",
          "from_station_number": 12,
          "log_counts": 5.860786223465865,
          "to_station_name": "King Street Station Plaza / 2nd Ave Extension S & S Jackson St",
          "to_station_number": 16
         },
         {
          "counts": 196,
          "from_station_name": "3rd Ave & Broad St",
          "from_station_number": 12,
          "log_counts": 5.278114659230517,
          "to_station_name": "Lake Union Park / Valley St & Boren Ave N",
          "to_station_number": 5
         },
         {
          "counts": 879,
          "from_station_name": "3rd Ave & Broad St",
          "from_station_number": 12,
          "log_counts": 6.778784897685177,
          "to_station_name": "Pier 69 / Alaskan Way & Clay St",
          "to_station_number": 1
         },
         {
          "counts": 181,
          "from_station_name": "3rd Ave & Broad St",
          "from_station_number": 12,
          "log_counts": 5.198497031265826,
          "to_station_name": "Pine St & 9th Ave",
          "to_station_number": 11
         },
         {
          "counts": 401,
          "from_station_name": "3rd Ave & Broad St",
          "from_station_number": 12,
          "log_counts": 5.993961427306569,
          "to_station_name": "REI / Yale Ave N & John St",
          "to_station_number": 0
         },
         {
          "counts": 192,
          "from_station_name": "3rd Ave & Broad St",
          "from_station_number": 12,
          "log_counts": 5.2574953720277815,
          "to_station_name": "Republican St & Westlake Ave N",
          "to_station_number": 8
         },
         {
          "counts": 899,
          "from_station_name": "3rd Ave & Broad St",
          "from_station_number": 12,
          "log_counts": 6.80128303447162,
          "to_station_name": "Seattle Aquarium / Alaskan Way S & Elliott Bay Trail",
          "to_station_number": 6
         },
         {
          "counts": 503,
          "from_station_name": "3rd Ave & Broad St",
          "from_station_number": 12,
          "log_counts": 6.220590170099739,
          "to_station_name": "Westlake Ave & 6th Ave",
          "to_station_number": 10
         },
         {
          "counts": 326,
          "from_station_name": "6th Ave & Blanchard St",
          "from_station_number": 15,
          "log_counts": 5.786897381366708,
          "to_station_name": "1st Ave & Marion St",
          "to_station_number": 17
         },
         {
          "counts": 236,
          "from_station_name": "6th Ave & Blanchard St",
          "from_station_number": 15,
          "log_counts": 5.4638318050256105,
          "to_station_name": "2nd Ave & Pine St",
          "to_station_number": 18
         },
         {
          "counts": 124,
          "from_station_name": "6th Ave & Blanchard St",
          "from_station_number": 15,
          "log_counts": 4.820281565605037,
          "to_station_name": "2nd Ave & Spring St",
          "to_station_number": 9
         },
         {
          "counts": 200,
          "from_station_name": "6th Ave & Blanchard St",
          "from_station_number": 15,
          "log_counts": 5.298317366548036,
          "to_station_name": "3rd Ave & Broad St",
          "to_station_number": 12
         },
         {
          "counts": 897,
          "from_station_name": "6th Ave & Blanchard St",
          "from_station_number": 15,
          "log_counts": 6.799055862058796,
          "to_station_name": "9th Ave N & Mercer St",
          "to_station_number": 7
         },
         {
          "counts": 3,
          "from_station_name": "6th Ave & Blanchard St",
          "from_station_number": 15,
          "log_counts": 1.0986122886681098,
          "to_station_name": "Burke-Gilman Trail / NE Blakeley St & 24th Ave NE",
          "to_station_number": 20
         },
         {
          "counts": 17,
          "from_station_name": "6th Ave & Blanchard St",
          "from_station_number": 15,
          "log_counts": 2.833213344056216,
          "to_station_name": "Cal Anderson Park / 11th Ave & Pine St",
          "to_station_number": 13
         },
         {
          "counts": 322,
          "from_station_name": "6th Ave & Blanchard St",
          "from_station_number": 15,
          "log_counts": 5.7745515455444085,
          "to_station_name": "Dexter Ave N & Aloha St",
          "to_station_number": 2
         },
         {
          "counts": 13,
          "from_station_name": "6th Ave & Blanchard St",
          "from_station_number": 15,
          "log_counts": 2.5649493574615367,
          "to_station_name": "E Harrison St & Broadway Ave E",
          "to_station_number": 4
         },
         {
          "counts": 123,
          "from_station_name": "6th Ave & Blanchard St",
          "from_station_number": 15,
          "log_counts": 4.812184355372417,
          "to_station_name": "King Street Station Plaza / 2nd Ave Extension S & S Jackson St",
          "to_station_number": 16
         },
         {
          "counts": 178,
          "from_station_name": "6th Ave & Blanchard St",
          "from_station_number": 15,
          "log_counts": 5.181783550292085,
          "to_station_name": "Lake Union Park / Valley St & Boren Ave N",
          "to_station_number": 5
         },
         {
          "counts": 111,
          "from_station_name": "6th Ave & Blanchard St",
          "from_station_number": 15,
          "log_counts": 4.709530201312334,
          "to_station_name": "Pier 69 / Alaskan Way & Clay St",
          "to_station_number": 1
         },
         {
          "counts": 68,
          "from_station_name": "6th Ave & Blanchard St",
          "from_station_number": 15,
          "log_counts": 4.219507705176107,
          "to_station_name": "Pine St & 9th Ave",
          "to_station_number": 11
         },
         {
          "counts": 124,
          "from_station_name": "6th Ave & Blanchard St",
          "from_station_number": 15,
          "log_counts": 4.820281565605037,
          "to_station_name": "REI / Yale Ave N & John St",
          "to_station_number": 0
         },
         {
          "counts": 257,
          "from_station_name": "6th Ave & Blanchard St",
          "from_station_number": 15,
          "log_counts": 5.54907608489522,
          "to_station_name": "Republican St & Westlake Ave N",
          "to_station_number": 8
         },
         {
          "counts": 52,
          "from_station_name": "6th Ave & Blanchard St",
          "from_station_number": 15,
          "log_counts": 3.9512437185814275,
          "to_station_name": "Seattle Aquarium / Alaskan Way S & Elliott Bay Trail",
          "to_station_number": 6
         },
         {
          "counts": 131,
          "from_station_name": "6th Ave & Blanchard St",
          "from_station_number": 15,
          "log_counts": 4.875197323201151,
          "to_station_name": "Westlake Ave & 6th Ave",
          "to_station_number": 10
         },
         {
          "counts": 9,
          "from_station_name": "Burke-Gilman Trail / NE Blakeley St & 24th Ave NE",
          "from_station_number": 20,
          "log_counts": 2.1972245773362196,
          "to_station_name": "2nd Ave & Pine St",
          "to_station_number": 18
         },
         {
          "counts": 6,
          "from_station_name": "Burke-Gilman Trail / NE Blakeley St & 24th Ave NE",
          "from_station_number": 20,
          "log_counts": 1.791759469228055,
          "to_station_name": "3rd Ave & Broad St",
          "to_station_number": 12
         },
         {
          "counts": 3,
          "from_station_name": "Burke-Gilman Trail / NE Blakeley St & 24th Ave NE",
          "from_station_number": 20,
          "log_counts": 1.0986122886681098,
          "to_station_name": "9th Ave N & Mercer St",
          "to_station_number": 7
         },
         {
          "counts": 1005,
          "from_station_name": "Burke-Gilman Trail / NE Blakeley St & 24th Ave NE",
          "from_station_number": 20,
          "log_counts": 6.912742820493176,
          "to_station_name": "Burke-Gilman Trail / NE Blakeley St & 24th Ave NE",
          "to_station_number": 20
         },
         {
          "counts": 9,
          "from_station_name": "Burke-Gilman Trail / NE Blakeley St & 24th Ave NE",
          "from_station_number": 20,
          "log_counts": 2.1972245773362196,
          "to_station_name": "Cal Anderson Park / 11th Ave & Pine St",
          "to_station_number": 13
         },
         {
          "counts": 29,
          "from_station_name": "Burke-Gilman Trail / NE Blakeley St & 24th Ave NE",
          "from_station_number": 20,
          "log_counts": 3.367295829986474,
          "to_station_name": "Dexter Ave N & Aloha St",
          "to_station_number": 2
         },
         {
          "counts": 6,
          "from_station_name": "Burke-Gilman Trail / NE Blakeley St & 24th Ave NE",
          "from_station_number": 20,
          "log_counts": 1.791759469228055,
          "to_station_name": "E Harrison St & Broadway Ave E",
          "to_station_number": 4
         },
         {
          "counts": 1,
          "from_station_name": "Burke-Gilman Trail / NE Blakeley St & 24th Ave NE",
          "from_station_number": 20,
          "log_counts": 0,
          "to_station_name": "King Street Station Plaza / 2nd Ave Extension S & S Jackson St",
          "to_station_number": 16
         },
         {
          "counts": 48,
          "from_station_name": "Burke-Gilman Trail / NE Blakeley St & 24th Ave NE",
          "from_station_number": 20,
          "log_counts": 3.871201010907891,
          "to_station_name": "Lake Union Park / Valley St & Boren Ave N",
          "to_station_number": 5
         },
         {
          "counts": 1,
          "from_station_name": "Burke-Gilman Trail / NE Blakeley St & 24th Ave NE",
          "from_station_number": 20,
          "log_counts": 0,
          "to_station_name": "Pier 69 / Alaskan Way & Clay St",
          "to_station_number": 1
         },
         {
          "counts": 2,
          "from_station_name": "Burke-Gilman Trail / NE Blakeley St & 24th Ave NE",
          "from_station_number": 20,
          "log_counts": 0.6931471805599453,
          "to_station_name": "Pine St & 9th Ave",
          "to_station_number": 11
         },
         {
          "counts": 11,
          "from_station_name": "Burke-Gilman Trail / NE Blakeley St & 24th Ave NE",
          "from_station_number": 20,
          "log_counts": 2.3978952727983707,
          "to_station_name": "REI / Yale Ave N & John St",
          "to_station_number": 0
         },
         {
          "counts": 32,
          "from_station_name": "Burke-Gilman Trail / NE Blakeley St & 24th Ave NE",
          "from_station_number": 20,
          "log_counts": 3.4657359027997265,
          "to_station_name": "Republican St & Westlake Ave N",
          "to_station_number": 8
         },
         {
          "counts": 8,
          "from_station_name": "Burke-Gilman Trail / NE Blakeley St & 24th Ave NE",
          "from_station_number": 20,
          "log_counts": 2.0794415416798357,
          "to_station_name": "Westlake Ave & 6th Ave",
          "to_station_number": 10
         },
         {
          "counts": 181,
          "from_station_name": "Dexter Ave N & Aloha St",
          "from_station_number": 2,
          "log_counts": 5.198497031265826,
          "to_station_name": "1st Ave & Marion St",
          "to_station_number": 17
         },
         {
          "counts": 179,
          "from_station_name": "Dexter Ave N & Aloha St",
          "from_station_number": 2,
          "log_counts": 5.187385805840755,
          "to_station_name": "2nd Ave & Pine St",
          "to_station_number": 18
         },
         {
          "counts": 112,
          "from_station_name": "Dexter Ave N & Aloha St",
          "from_station_number": 2,
          "log_counts": 4.718498871295094,
          "to_station_name": "2nd Ave & Spring St",
          "to_station_number": 9
         },
         {
          "counts": 266,
          "from_station_name": "Dexter Ave N & Aloha St",
          "from_station_number": 2,
          "log_counts": 5.583496308781699,
          "to_station_name": "3rd Ave & Broad St",
          "to_station_number": 12
         },
         {
          "counts": 379,
          "from_station_name": "Dexter Ave N & Aloha St",
          "from_station_number": 2,
          "log_counts": 5.937536205082426,
          "to_station_name": "9th Ave N & Mercer St",
          "to_station_number": 7
         },
         {
          "counts": 8,
          "from_station_name": "Dexter Ave N & Aloha St",
          "from_station_number": 2,
          "log_counts": 2.0794415416798357,
          "to_station_name": "Burke-Gilman Trail / NE Blakeley St & 24th Ave NE",
          "to_station_number": 20
         },
         {
          "counts": 17,
          "from_station_name": "Dexter Ave N & Aloha St",
          "from_station_number": 2,
          "log_counts": 2.833213344056216,
          "to_station_name": "Cal Anderson Park / 11th Ave & Pine St",
          "to_station_number": 13
         },
         {
          "counts": 493,
          "from_station_name": "Dexter Ave N & Aloha St",
          "from_station_number": 2,
          "log_counts": 6.20050917404269,
          "to_station_name": "Dexter Ave N & Aloha St",
          "to_station_number": 2
         },
         {
          "counts": 10,
          "from_station_name": "Dexter Ave N & Aloha St",
          "from_station_number": 2,
          "log_counts": 2.302585092994046,
          "to_station_name": "E Harrison St & Broadway Ave E",
          "to_station_number": 4
         },
         {
          "counts": 99,
          "from_station_name": "Dexter Ave N & Aloha St",
          "from_station_number": 2,
          "log_counts": 4.59511985013459,
          "to_station_name": "King Street Station Plaza / 2nd Ave Extension S & S Jackson St",
          "to_station_number": 16
         },
         {
          "counts": 228,
          "from_station_name": "Dexter Ave N & Aloha St",
          "from_station_number": 2,
          "log_counts": 5.429345628954441,
          "to_station_name": "Lake Union Park / Valley St & Boren Ave N",
          "to_station_number": 5
         },
         {
          "counts": 91,
          "from_station_name": "Dexter Ave N & Aloha St",
          "from_station_number": 2,
          "log_counts": 4.51085950651685,
          "to_station_name": "Pier 69 / Alaskan Way & Clay St",
          "to_station_number": 1
         },
         {
          "counts": 129,
          "from_station_name": "Dexter Ave N & Aloha St",
          "from_station_number": 2,
          "log_counts": 4.859812404361672,
          "to_station_name": "Pine St & 9th Ave",
          "to_station_number": 11
         },
         {
          "counts": 135,
          "from_station_name": "Dexter Ave N & Aloha St",
          "from_station_number": 2,
          "log_counts": 4.90527477843843,
          "to_station_name": "REI / Yale Ave N & John St",
          "to_station_number": 0
         },
         {
          "counts": 846,
          "from_station_name": "Dexter Ave N & Aloha St",
          "from_station_number": 2,
          "log_counts": 6.740519359606223,
          "to_station_name": "Republican St & Westlake Ave N",
          "to_station_number": 8
         },
         {
          "counts": 52,
          "from_station_name": "Dexter Ave N & Aloha St",
          "from_station_number": 2,
          "log_counts": 3.9512437185814275,
          "to_station_name": "Seattle Aquarium / Alaskan Way S & Elliott Bay Trail",
          "to_station_number": 6
         },
         {
          "counts": 563,
          "from_station_name": "Dexter Ave N & Aloha St",
          "from_station_number": 2,
          "log_counts": 6.333279628139691,
          "to_station_name": "Westlake Ave & 6th Ave",
          "to_station_number": 10
         },
         {
          "counts": 247,
          "from_station_name": "E Harrison St & Broadway Ave E",
          "from_station_number": 4,
          "log_counts": 5.5093883366279774,
          "to_station_name": "1st Ave & Marion St",
          "to_station_number": 17
         },
         {
          "counts": 578,
          "from_station_name": "E Harrison St & Broadway Ave E",
          "from_station_number": 4,
          "log_counts": 6.359573868672378,
          "to_station_name": "2nd Ave & Pine St",
          "to_station_number": 18
         },
         {
          "counts": 188,
          "from_station_name": "E Harrison St & Broadway Ave E",
          "from_station_number": 4,
          "log_counts": 5.236441962829949,
          "to_station_name": "2nd Ave & Spring St",
          "to_station_number": 9
         },
         {
          "counts": 100,
          "from_station_name": "E Harrison St & Broadway Ave E",
          "from_station_number": 4,
          "log_counts": 4.605170185988092,
          "to_station_name": "3rd Ave & Broad St",
          "to_station_number": 12
         },
         {
          "counts": 103,
          "from_station_name": "E Harrison St & Broadway Ave E",
          "from_station_number": 4,
          "log_counts": 4.634728988229636,
          "to_station_name": "9th Ave N & Mercer St",
          "to_station_number": 7
         },
         {
          "counts": 9,
          "from_station_name": "E Harrison St & Broadway Ave E",
          "from_station_number": 4,
          "log_counts": 2.1972245773362196,
          "to_station_name": "Burke-Gilman Trail / NE Blakeley St & 24th Ave NE",
          "to_station_number": 20
         },
         {
          "counts": 804,
          "from_station_name": "E Harrison St & Broadway Ave E",
          "from_station_number": 4,
          "log_counts": 6.6895992691789665,
          "to_station_name": "Cal Anderson Park / 11th Ave & Pine St",
          "to_station_number": 13
         },
         {
          "counts": 33,
          "from_station_name": "E Harrison St & Broadway Ave E",
          "from_station_number": 4,
          "log_counts": 3.4965075614664802,
          "to_station_name": "Dexter Ave N & Aloha St",
          "to_station_number": 2
         },
         {
          "counts": 334,
          "from_station_name": "E Harrison St & Broadway Ave E",
          "from_station_number": 4,
          "log_counts": 5.811140992976701,
          "to_station_name": "E Harrison St & Broadway Ave E",
          "to_station_number": 4
         },
         {
          "counts": 90,
          "from_station_name": "E Harrison St & Broadway Ave E",
          "from_station_number": 4,
          "log_counts": 4.499809670330265,
          "to_station_name": "King Street Station Plaza / 2nd Ave Extension S & S Jackson St",
          "to_station_number": 16
         },
         {
          "counts": 95,
          "from_station_name": "E Harrison St & Broadway Ave E",
          "from_station_number": 4,
          "log_counts": 4.553876891600541,
          "to_station_name": "Lake Union Park / Valley St & Boren Ave N",
          "to_station_number": 5
         },
         {
          "counts": 19,
          "from_station_name": "E Harrison St & Broadway Ave E",
          "from_station_number": 4,
          "log_counts": 2.9444389791664403,
          "to_station_name": "Pier 69 / Alaskan Way & Clay St",
          "to_station_number": 1
         },
         {
          "counts": 786,
          "from_station_name": "E Harrison St & Broadway Ave E",
          "from_station_number": 4,
          "log_counts": 6.666956792429207,
          "to_station_name": "Pine St & 9th Ave",
          "to_station_number": 11
         },
         {
          "counts": 325,
          "from_station_name": "E Harrison St & Broadway Ave E",
          "from_station_number": 4,
          "log_counts": 5.783825182329737,
          "to_station_name": "REI / Yale Ave N & John St",
          "to_station_number": 0
         },
         {
          "counts": 87,
          "from_station_name": "E Harrison St & Broadway Ave E",
          "from_station_number": 4,
          "log_counts": 4.465908118654584,
          "to_station_name": "Republican St & Westlake Ave N",
          "to_station_number": 8
         },
         {
          "counts": 28,
          "from_station_name": "E Harrison St & Broadway Ave E",
          "from_station_number": 4,
          "log_counts": 3.332204510175204,
          "to_station_name": "Seattle Aquarium / Alaskan Way S & Elliott Bay Trail",
          "to_station_number": 6
         },
         {
          "counts": 230,
          "from_station_name": "E Harrison St & Broadway Ave E",
          "from_station_number": 4,
          "log_counts": 5.438079308923196,
          "to_station_name": "Westlake Ave & 6th Ave",
          "to_station_number": 10
         },
         {
          "counts": 380,
          "from_station_name": "E Pine St & 16th Ave",
          "from_station_number": 19,
          "log_counts": 5.940171252720432,
          "to_station_name": "1st Ave & Marion St",
          "to_station_number": 17
         },
         {
          "counts": 725,
          "from_station_name": "E Pine St & 16th Ave",
          "from_station_number": 19,
          "log_counts": 6.586171654854675,
          "to_station_name": "2nd Ave & Pine St",
          "to_station_number": 18
         },
         {
          "counts": 184,
          "from_station_name": "E Pine St & 16th Ave",
          "from_station_number": 19,
          "log_counts": 5.214935757608986,
          "to_station_name": "2nd Ave & Spring St",
          "to_station_number": 9
         },
         {
          "counts": 209,
          "from_station_name": "E Pine St & 16th Ave",
          "from_station_number": 19,
          "log_counts": 5.342334251964811,
          "to_station_name": "3rd Ave & Broad St",
          "to_station_number": 12
         },
         {
          "counts": 38,
          "from_station_name": "E Pine St & 16th Ave",
          "from_station_number": 19,
          "log_counts": 3.6375861597263857,
          "to_station_name": "9th Ave N & Mercer St",
          "to_station_number": 7
         },
         {
          "counts": 20,
          "from_station_name": "E Pine St & 16th Ave",
          "from_station_number": 19,
          "log_counts": 2.995732273553991,
          "to_station_name": "Burke-Gilman Trail / NE Blakeley St & 24th Ave NE",
          "to_station_number": 20
         },
         {
          "counts": 459,
          "from_station_name": "E Pine St & 16th Ave",
          "from_station_number": 19,
          "log_counts": 6.129050210060545,
          "to_station_name": "Cal Anderson Park / 11th Ave & Pine St",
          "to_station_number": 13
         },
         {
          "counts": 70,
          "from_station_name": "E Pine St & 16th Ave",
          "from_station_number": 19,
          "log_counts": 4.248495242049359,
          "to_station_name": "Dexter Ave N & Aloha St",
          "to_station_number": 2
         },
         {
          "counts": 944,
          "from_station_name": "E Pine St & 16th Ave",
          "from_station_number": 19,
          "log_counts": 6.8501261661455,
          "to_station_name": "E Harrison St & Broadway Ave E",
          "to_station_number": 4
         },
         {
          "counts": 78,
          "from_station_name": "E Pine St & 16th Ave",
          "from_station_number": 19,
          "log_counts": 4.356708826689592,
          "to_station_name": "King Street Station Plaza / 2nd Ave Extension S & S Jackson St",
          "to_station_number": 16
         },
         {
          "counts": 20,
          "from_station_name": "E Pine St & 16th Ave",
          "from_station_number": 19,
          "log_counts": 2.995732273553991,
          "to_station_name": "Lake Union Park / Valley St & Boren Ave N",
          "to_station_number": 5
         },
         {
          "counts": 33,
          "from_station_name": "E Pine St & 16th Ave",
          "from_station_number": 19,
          "log_counts": 3.4965075614664802,
          "to_station_name": "Pier 69 / Alaskan Way & Clay St",
          "to_station_number": 1
         },
         {
          "counts": 1040,
          "from_station_name": "E Pine St & 16th Ave",
          "from_station_number": 19,
          "log_counts": 6.946975992135418,
          "to_station_name": "Pine St & 9th Ave",
          "to_station_number": 11
         },
         {
          "counts": 749,
          "from_station_name": "E Pine St & 16th Ave",
          "from_station_number": 19,
          "log_counts": 6.618738983517219,
          "to_station_name": "REI / Yale Ave N & John St",
          "to_station_number": 0
         },
         {
          "counts": 58,
          "from_station_name": "E Pine St & 16th Ave",
          "from_station_number": 19,
          "log_counts": 4.060443010546419,
          "to_station_name": "Republican St & Westlake Ave N",
          "to_station_number": 8
         },
         {
          "counts": 27,
          "from_station_name": "E Pine St & 16th Ave",
          "from_station_number": 19,
          "log_counts": 3.295836866004329,
          "to_station_name": "Seattle Aquarium / Alaskan Way S & Elliott Bay Trail",
          "to_station_number": 6
         },
         {
          "counts": 327,
          "from_station_name": "E Pine St & 16th Ave",
          "from_station_number": 19,
          "log_counts": 5.7899601708972535,
          "to_station_name": "Westlake Ave & 6th Ave",
          "to_station_number": 10
         },
         {
          "counts": 61,
          "from_station_name": "Harvard Ave & E Pine St",
          "from_station_number": 14,
          "log_counts": 4.110873864173311,
          "to_station_name": "1st Ave & Marion St",
          "to_station_number": 17
         },
         {
          "counts": 350,
          "from_station_name": "Harvard Ave & E Pine St",
          "from_station_number": 14,
          "log_counts": 5.857933154483459,
          "to_station_name": "2nd Ave & Pine St",
          "to_station_number": 18
         },
         {
          "counts": 73,
          "from_station_name": "Harvard Ave & E Pine St",
          "from_station_number": 14,
          "log_counts": 4.290459441148391,
          "to_station_name": "2nd Ave & Spring St",
          "to_station_number": 9
         },
         {
          "counts": 126,
          "from_station_name": "Harvard Ave & E Pine St",
          "from_station_number": 14,
          "log_counts": 4.836281906951478,
          "to_station_name": "3rd Ave & Broad St",
          "to_station_number": 12
         },
         {
          "counts": 29,
          "from_station_name": "Harvard Ave & E Pine St",
          "from_station_number": 14,
          "log_counts": 3.367295829986474,
          "to_station_name": "9th Ave N & Mercer St",
          "to_station_number": 7
         },
         {
          "counts": 5,
          "from_station_name": "Harvard Ave & E Pine St",
          "from_station_number": 14,
          "log_counts": 1.6094379124341003,
          "to_station_name": "Burke-Gilman Trail / NE Blakeley St & 24th Ave NE",
          "to_station_number": 20
         },
         {
          "counts": 76,
          "from_station_name": "Harvard Ave & E Pine St",
          "from_station_number": 14,
          "log_counts": 4.330733340286331,
          "to_station_name": "Cal Anderson Park / 11th Ave & Pine St",
          "to_station_number": 13
         },
         {
          "counts": 42,
          "from_station_name": "Harvard Ave & E Pine St",
          "from_station_number": 14,
          "log_counts": 3.7376696182833684,
          "to_station_name": "Dexter Ave N & Aloha St",
          "to_station_number": 2
         },
         {
          "counts": 834,
          "from_station_name": "Harvard Ave & E Pine St",
          "from_station_number": 14,
          "log_counts": 6.726233402358747,
          "to_station_name": "E Harrison St & Broadway Ave E",
          "to_station_number": 4
         },
         {
          "counts": 44,
          "from_station_name": "Harvard Ave & E Pine St",
          "from_station_number": 14,
          "log_counts": 3.784189633918261,
          "to_station_name": "King Street Station Plaza / 2nd Ave Extension S & S Jackson St",
          "to_station_number": 16
         },
         {
          "counts": 17,
          "from_station_name": "Harvard Ave & E Pine St",
          "from_station_number": 14,
          "log_counts": 2.833213344056216,
          "to_station_name": "Lake Union Park / Valley St & Boren Ave N",
          "to_station_number": 5
         },
         {
          "counts": 49,
          "from_station_name": "Harvard Ave & E Pine St",
          "from_station_number": 14,
          "log_counts": 3.8918202981106265,
          "to_station_name": "Pier 69 / Alaskan Way & Clay St",
          "to_station_number": 1
         },
         {
          "counts": 549,
          "from_station_name": "Harvard Ave & E Pine St",
          "from_station_number": 14,
          "log_counts": 6.3080984415095305,
          "to_station_name": "Pine St & 9th Ave",
          "to_station_number": 11
         },
         {
          "counts": 165,
          "from_station_name": "Harvard Ave & E Pine St",
          "from_station_number": 14,
          "log_counts": 5.10594547390058,
          "to_station_name": "REI / Yale Ave N & John St",
          "to_station_number": 0
         },
         {
          "counts": 28,
          "from_station_name": "Harvard Ave & E Pine St",
          "from_station_number": 14,
          "log_counts": 3.332204510175204,
          "to_station_name": "Republican St & Westlake Ave N",
          "to_station_number": 8
         },
         {
          "counts": 47,
          "from_station_name": "Harvard Ave & E Pine St",
          "from_station_number": 14,
          "log_counts": 3.8501476017100584,
          "to_station_name": "Seattle Aquarium / Alaskan Way S & Elliott Bay Trail",
          "to_station_number": 6
         },
         {
          "counts": 187,
          "from_station_name": "Harvard Ave & E Pine St",
          "from_station_number": 14,
          "log_counts": 5.231108616854587,
          "to_station_name": "Westlake Ave & 6th Ave",
          "to_station_number": 10
         },
         {
          "counts": 205,
          "from_station_name": "King Street Station Plaza / 2nd Ave Extension S & S Jackson St",
          "from_station_number": 16,
          "log_counts": 5.3230099791384085,
          "to_station_name": "1st Ave & Marion St",
          "to_station_number": 17
         },
         {
          "counts": 245,
          "from_station_name": "King Street Station Plaza / 2nd Ave Extension S & S Jackson St",
          "from_station_number": 16,
          "log_counts": 5.501258210544727,
          "to_station_name": "2nd Ave & Pine St",
          "to_station_number": 18
         },
         {
          "counts": 157,
          "from_station_name": "King Street Station Plaza / 2nd Ave Extension S & S Jackson St",
          "from_station_number": 16,
          "log_counts": 5.056245805348308,
          "to_station_name": "2nd Ave & Spring St",
          "to_station_number": 9
         },
         {
          "counts": 190,
          "from_station_name": "King Street Station Plaza / 2nd Ave Extension S & S Jackson St",
          "from_station_number": 16,
          "log_counts": 5.247024072160486,
          "to_station_name": "3rd Ave & Broad St",
          "to_station_number": 12
         },
         {
          "counts": 82,
          "from_station_name": "King Street Station Plaza / 2nd Ave Extension S & S Jackson St",
          "from_station_number": 16,
          "log_counts": 4.406719247264253,
          "to_station_name": "9th Ave N & Mercer St",
          "to_station_number": 7
         },
         {
          "counts": 74,
          "from_station_name": "King Street Station Plaza / 2nd Ave Extension S & S Jackson St",
          "from_station_number": 16,
          "log_counts": 4.30406509320417,
          "to_station_name": "Cal Anderson Park / 11th Ave & Pine St",
          "to_station_number": 13
         },
         {
          "counts": 49,
          "from_station_name": "King Street Station Plaza / 2nd Ave Extension S & S Jackson St",
          "from_station_number": 16,
          "log_counts": 3.8918202981106265,
          "to_station_name": "Dexter Ave N & Aloha St",
          "to_station_number": 2
         },
         {
          "counts": 13,
          "from_station_name": "King Street Station Plaza / 2nd Ave Extension S & S Jackson St",
          "from_station_number": 16,
          "log_counts": 2.5649493574615367,
          "to_station_name": "E Harrison St & Broadway Ave E",
          "to_station_number": 4
         },
         {
          "counts": 229,
          "from_station_name": "King Street Station Plaza / 2nd Ave Extension S & S Jackson St",
          "from_station_number": 16,
          "log_counts": 5.43372200355424,
          "to_station_name": "King Street Station Plaza / 2nd Ave Extension S & S Jackson St",
          "to_station_number": 16
         },
         {
          "counts": 30,
          "from_station_name": "King Street Station Plaza / 2nd Ave Extension S & S Jackson St",
          "from_station_number": 16,
          "log_counts": 3.4011973816621555,
          "to_station_name": "Lake Union Park / Valley St & Boren Ave N",
          "to_station_number": 5
         },
         {
          "counts": 812,
          "from_station_name": "King Street Station Plaza / 2nd Ave Extension S & S Jackson St",
          "from_station_number": 16,
          "log_counts": 6.699500340161678,
          "to_station_name": "Pier 69 / Alaskan Way & Clay St",
          "to_station_number": 1
         },
         {
          "counts": 46,
          "from_station_name": "King Street Station Plaza / 2nd Ave Extension S & S Jackson St",
          "from_station_number": 16,
          "log_counts": 3.828641396489095,
          "to_station_name": "Pine St & 9th Ave",
          "to_station_number": 11
         },
         {
          "counts": 32,
          "from_station_name": "King Street Station Plaza / 2nd Ave Extension S & S Jackson St",
          "from_station_number": 16,
          "log_counts": 3.4657359027997265,
          "to_station_name": "REI / Yale Ave N & John St",
          "to_station_number": 0
         },
         {
          "counts": 43,
          "from_station_name": "King Street Station Plaza / 2nd Ave Extension S & S Jackson St",
          "from_station_number": 16,
          "log_counts": 3.7612001156935624,
          "to_station_name": "Republican St & Westlake Ave N",
          "to_station_number": 8
         },
         {
          "counts": 209,
          "from_station_name": "King Street Station Plaza / 2nd Ave Extension S & S Jackson St",
          "from_station_number": 16,
          "log_counts": 5.342334251964811,
          "to_station_name": "Seattle Aquarium / Alaskan Way S & Elliott Bay Trail",
          "to_station_number": 6
         },
         {
          "counts": 254,
          "from_station_name": "King Street Station Plaza / 2nd Ave Extension S & S Jackson St",
          "from_station_number": 16,
          "log_counts": 5.537334267018537,
          "to_station_name": "Westlake Ave & 6th Ave",
          "to_station_number": 10
         },
         {
          "counts": 33,
          "from_station_name": "Lake Union Park / Valley St & Boren Ave N",
          "from_station_number": 5,
          "log_counts": 3.4965075614664802,
          "to_station_name": "1st Ave & Marion St",
          "to_station_number": 17
         },
         {
          "counts": 149,
          "from_station_name": "Lake Union Park / Valley St & Boren Ave N",
          "from_station_number": 5,
          "log_counts": 5.003946305945459,
          "to_station_name": "2nd Ave & Pine St",
          "to_station_number": 18
         },
         {
          "counts": 55,
          "from_station_name": "Lake Union Park / Valley St & Boren Ave N",
          "from_station_number": 5,
          "log_counts": 4.007333185232471,
          "to_station_name": "2nd Ave & Spring St",
          "to_station_number": 9
         },
         {
          "counts": 300,
          "from_station_name": "Lake Union Park / Valley St & Boren Ave N",
          "from_station_number": 5,
          "log_counts": 5.703782474656201,
          "to_station_name": "3rd Ave & Broad St",
          "to_station_number": 12
         },
         {
          "counts": 56,
          "from_station_name": "Lake Union Park / Valley St & Boren Ave N",
          "from_station_number": 5,
          "log_counts": 4.02535169073515,
          "to_station_name": "9th Ave N & Mercer St",
          "to_station_number": 7
         },
         {
          "counts": 29,
          "from_station_name": "Lake Union Park / Valley St & Boren Ave N",
          "from_station_number": 5,
          "log_counts": 3.367295829986474,
          "to_station_name": "Burke-Gilman Trail / NE Blakeley St & 24th Ave NE",
          "to_station_number": 20
         },
         {
          "counts": 7,
          "from_station_name": "Lake Union Park / Valley St & Boren Ave N",
          "from_station_number": 5,
          "log_counts": 1.9459101490553132,
          "to_station_name": "Cal Anderson Park / 11th Ave & Pine St",
          "to_station_number": 13
         },
         {
          "counts": 102,
          "from_station_name": "Lake Union Park / Valley St & Boren Ave N",
          "from_station_number": 5,
          "log_counts": 4.624972813284271,
          "to_station_name": "Dexter Ave N & Aloha St",
          "to_station_number": 2
         },
         {
          "counts": 25,
          "from_station_name": "Lake Union Park / Valley St & Boren Ave N",
          "from_station_number": 5,
          "log_counts": 3.2188758248682006,
          "to_station_name": "E Harrison St & Broadway Ave E",
          "to_station_number": 4
         },
         {
          "counts": 45,
          "from_station_name": "Lake Union Park / Valley St & Boren Ave N",
          "from_station_number": 5,
          "log_counts": 3.8066624897703196,
          "to_station_name": "King Street Station Plaza / 2nd Ave Extension S & S Jackson St",
          "to_station_number": 16
         },
         {
          "counts": 1119,
          "from_station_name": "Lake Union Park / Valley St & Boren Ave N",
          "from_station_number": 5,
          "log_counts": 7.020190708311925,
          "to_station_name": "Lake Union Park / Valley St & Boren Ave N",
          "to_station_number": 5
         },
         {
          "counts": 107,
          "from_station_name": "Lake Union Park / Valley St & Boren Ave N",
          "from_station_number": 5,
          "log_counts": 4.672828834461906,
          "to_station_name": "Pier 69 / Alaskan Way & Clay St",
          "to_station_number": 1
         },
         {
          "counts": 59,
          "from_station_name": "Lake Union Park / Valley St & Boren Ave N",
          "from_station_number": 5,
          "log_counts": 4.07753744390572,
          "to_station_name": "Pine St & 9th Ave",
          "to_station_number": 11
         },
         {
          "counts": 111,
          "from_station_name": "Lake Union Park / Valley St & Boren Ave N",
          "from_station_number": 5,
          "log_counts": 4.709530201312334,
          "to_station_name": "REI / Yale Ave N & John St",
          "to_station_number": 0
         },
         {
          "counts": 130,
          "from_station_name": "Lake Union Park / Valley St & Boren Ave N",
          "from_station_number": 5,
          "log_counts": 4.867534450455582,
          "to_station_name": "Republican St & Westlake Ave N",
          "to_station_number": 8
         },
         {
          "counts": 85,
          "from_station_name": "Lake Union Park / Valley St & Boren Ave N",
          "from_station_number": 5,
          "log_counts": 4.442651256490317,
          "to_station_name": "Seattle Aquarium / Alaskan Way S & Elliott Bay Trail",
          "to_station_number": 6
         },
         {
          "counts": 241,
          "from_station_name": "Lake Union Park / Valley St & Boren Ave N",
          "from_station_number": 5,
          "log_counts": 5.484796933490655,
          "to_station_name": "Westlake Ave & 6th Ave",
          "to_station_number": 10
         },
         {
          "counts": 961,
          "from_station_name": "Pier 69 / Alaskan Way & Clay St",
          "from_station_number": 1,
          "log_counts": 6.8679744089702925,
          "to_station_name": "1st Ave & Marion St",
          "to_station_number": 17
         },
         {
          "counts": 356,
          "from_station_name": "Pier 69 / Alaskan Way & Clay St",
          "from_station_number": 1,
          "log_counts": 5.87493073085203,
          "to_station_name": "2nd Ave & Pine St",
          "to_station_number": 18
         },
         {
          "counts": 240,
          "from_station_name": "Pier 69 / Alaskan Way & Clay St",
          "from_station_number": 1,
          "log_counts": 5.480638923341991,
          "to_station_name": "2nd Ave & Spring St",
          "to_station_number": 9
         },
         {
          "counts": 412,
          "from_station_name": "Pier 69 / Alaskan Way & Clay St",
          "from_station_number": 1,
          "log_counts": 6.021023349349527,
          "to_station_name": "3rd Ave & Broad St",
          "to_station_number": 12
         },
         {
          "counts": 35,
          "from_station_name": "Pier 69 / Alaskan Way & Clay St",
          "from_station_number": 1,
          "log_counts": 3.5553480614894135,
          "to_station_name": "9th Ave N & Mercer St",
          "to_station_number": 7
         },
         {
          "counts": 4,
          "from_station_name": "Pier 69 / Alaskan Way & Clay St",
          "from_station_number": 1,
          "log_counts": 1.3862943611198906,
          "to_station_name": "Burke-Gilman Trail / NE Blakeley St & 24th Ave NE",
          "to_station_number": 20
         },
         {
          "counts": 70,
          "from_station_name": "Pier 69 / Alaskan Way & Clay St",
          "from_station_number": 1,
          "log_counts": 4.248495242049359,
          "to_station_name": "Dexter Ave N & Aloha St",
          "to_station_number": 2
         },
         {
          "counts": 1,
          "from_station_name": "Pier 69 / Alaskan Way & Clay St",
          "from_station_number": 1,
          "log_counts": 0,
          "to_station_name": "E Harrison St & Broadway Ave E",
          "to_station_number": 4
         },
         {
          "counts": 1054,
          "from_station_name": "Pier 69 / Alaskan Way & Clay St",
          "from_station_number": 1,
          "log_counts": 6.960347729101308,
          "to_station_name": "King Street Station Plaza / 2nd Ave Extension S & S Jackson St",
          "to_station_number": 16
         },
         {
          "counts": 83,
          "from_station_name": "Pier 69 / Alaskan Way & Clay St",
          "from_station_number": 1,
          "log_counts": 4.418840607796598,
          "to_station_name": "Lake Union Park / Valley St & Boren Ave N",
          "to_station_number": 5
         },
         {
          "counts": 4881,
          "from_station_name": "Pier 69 / Alaskan Way & Clay St",
          "from_station_number": 1,
          "log_counts": 8.493105395887147,
          "to_station_name": "Pier 69 / Alaskan Way & Clay St",
          "to_station_number": 1
         },
         {
          "counts": 61,
          "from_station_name": "Pier 69 / Alaskan Way & Clay St",
          "from_station_number": 1,
          "log_counts": 4.110873864173311,
          "to_station_name": "Pine St & 9th Ave",
          "to_station_number": 11
         },
         {
          "counts": 32,
          "from_station_name": "Pier 69 / Alaskan Way & Clay St",
          "from_station_number": 1,
          "log_counts": 3.4657359027997265,
          "to_station_name": "REI / Yale Ave N & John St",
          "to_station_number": 0
         },
         {
          "counts": 15,
          "from_station_name": "Pier 69 / Alaskan Way & Clay St",
          "from_station_number": 1,
          "log_counts": 2.70805020110221,
          "to_station_name": "Republican St & Westlake Ave N",
          "to_station_number": 8
         },
         {
          "counts": 2683,
          "from_station_name": "Pier 69 / Alaskan Way & Clay St",
          "from_station_number": 1,
          "log_counts": 7.894690850425624,
          "to_station_name": "Seattle Aquarium / Alaskan Way S & Elliott Bay Trail",
          "to_station_number": 6
         },
         {
          "counts": 96,
          "from_station_name": "Pier 69 / Alaskan Way & Clay St",
          "from_station_number": 1,
          "log_counts": 4.564348191467836,
          "to_station_name": "Westlake Ave & 6th Ave",
          "to_station_number": 10
         },
         {
          "counts": 99,
          "from_station_name": "Pine St & 9th Ave",
          "from_station_number": 11,
          "log_counts": 4.59511985013459,
          "to_station_name": "1st Ave & Marion St",
          "to_station_number": 17
         },
         {
          "counts": 404,
          "from_station_name": "Pine St & 9th Ave",
          "from_station_number": 11,
          "log_counts": 6.0014148779611505,
          "to_station_name": "2nd Ave & Pine St",
          "to_station_number": 18
         },
         {
          "counts": 133,
          "from_station_name": "Pine St & 9th Ave",
          "from_station_number": 11,
          "log_counts": 4.890349128221754,
          "to_station_name": "2nd Ave & Spring St",
          "to_station_number": 9
         },
         {
          "counts": 206,
          "from_station_name": "Pine St & 9th Ave",
          "from_station_number": 11,
          "log_counts": 5.327876168789581,
          "to_station_name": "3rd Ave & Broad St",
          "to_station_number": 12
         },
         {
          "counts": 188,
          "from_station_name": "Pine St & 9th Ave",
          "from_station_number": 11,
          "log_counts": 5.236441962829949,
          "to_station_name": "9th Ave N & Mercer St",
          "to_station_number": 7
         },
         {
          "counts": 4,
          "from_station_name": "Pine St & 9th Ave",
          "from_station_number": 11,
          "log_counts": 1.3862943611198906,
          "to_station_name": "Burke-Gilman Trail / NE Blakeley St & 24th Ave NE",
          "to_station_number": 20
         },
         {
          "counts": 204,
          "from_station_name": "Pine St & 9th Ave",
          "from_station_number": 11,
          "log_counts": 5.318119993844216,
          "to_station_name": "Cal Anderson Park / 11th Ave & Pine St",
          "to_station_number": 13
         },
         {
          "counts": 111,
          "from_station_name": "Pine St & 9th Ave",
          "from_station_number": 11,
          "log_counts": 4.709530201312334,
          "to_station_name": "Dexter Ave N & Aloha St",
          "to_station_number": 2
         },
         {
          "counts": 142,
          "from_station_name": "Pine St & 9th Ave",
          "from_station_number": 11,
          "log_counts": 4.955827057601261,
          "to_station_name": "E Harrison St & Broadway Ave E",
          "to_station_number": 4
         },
         {
          "counts": 68,
          "from_station_name": "Pine St & 9th Ave",
          "from_station_number": 11,
          "log_counts": 4.219507705176107,
          "to_station_name": "King Street Station Plaza / 2nd Ave Extension S & S Jackson St",
          "to_station_number": 16
         },
         {
          "counts": 86,
          "from_station_name": "Pine St & 9th Ave",
          "from_station_number": 11,
          "log_counts": 4.454347296253507,
          "to_station_name": "Lake Union Park / Valley St & Boren Ave N",
          "to_station_number": 5
         },
         {
          "counts": 73,
          "from_station_name": "Pine St & 9th Ave",
          "from_station_number": 11,
          "log_counts": 4.290459441148391,
          "to_station_name": "Pier 69 / Alaskan Way & Clay St",
          "to_station_number": 1
         },
         {
          "counts": 245,
          "from_station_name": "Pine St & 9th Ave",
          "from_station_number": 11,
          "log_counts": 5.501258210544727,
          "to_station_name": "Pine St & 9th Ave",
          "to_station_number": 11
         },
         {
          "counts": 835,
          "from_station_name": "Pine St & 9th Ave",
          "from_station_number": 11,
          "log_counts": 6.727431724850855,
          "to_station_name": "REI / Yale Ave N & John St",
          "to_station_number": 0
         },
         {
          "counts": 431,
          "from_station_name": "Pine St & 9th Ave",
          "from_station_number": 11,
          "log_counts": 6.066108090103747,
          "to_station_name": "Republican St & Westlake Ave N",
          "to_station_number": 8
         },
         {
          "counts": 76,
          "from_station_name": "Pine St & 9th Ave",
          "from_station_number": 11,
          "log_counts": 4.330733340286331,
          "to_station_name": "Seattle Aquarium / Alaskan Way S & Elliott Bay Trail",
          "to_station_number": 6
         },
         {
          "counts": 119,
          "from_station_name": "Pine St & 9th Ave",
          "from_station_number": 11,
          "log_counts": 4.77912349311153,
          "to_station_name": "Westlake Ave & 6th Ave",
          "to_station_number": 10
         },
         {
          "counts": 149,
          "from_station_name": "REI / Yale Ave N & John St",
          "from_station_number": 0,
          "log_counts": 5.003946305945459,
          "to_station_name": "1st Ave & Marion St",
          "to_station_number": 17
         },
         {
          "counts": 339,
          "from_station_name": "REI / Yale Ave N & John St",
          "from_station_number": 0,
          "log_counts": 5.82600010738045,
          "to_station_name": "2nd Ave & Pine St",
          "to_station_number": 18
         },
         {
          "counts": 180,
          "from_station_name": "REI / Yale Ave N & John St",
          "from_station_number": 0,
          "log_counts": 5.19295685089021,
          "to_station_name": "2nd Ave & Spring St",
          "to_station_number": 9
         },
         {
          "counts": 386,
          "from_station_name": "REI / Yale Ave N & John St",
          "from_station_number": 0,
          "log_counts": 5.955837369464831,
          "to_station_name": "3rd Ave & Broad St",
          "to_station_number": 12
         },
         {
          "counts": 126,
          "from_station_name": "REI / Yale Ave N & John St",
          "from_station_number": 0,
          "log_counts": 4.836281906951478,
          "to_station_name": "9th Ave N & Mercer St",
          "to_station_number": 7
         },
         {
          "counts": 12,
          "from_station_name": "REI / Yale Ave N & John St",
          "from_station_number": 0,
          "log_counts": 2.4849066497880004,
          "to_station_name": "Burke-Gilman Trail / NE Blakeley St & 24th Ave NE",
          "to_station_number": 20
         },
         {
          "counts": 50,
          "from_station_name": "REI / Yale Ave N & John St",
          "from_station_number": 0,
          "log_counts": 3.912023005428146,
          "to_station_name": "Cal Anderson Park / 11th Ave & Pine St",
          "to_station_number": 13
         },
         {
          "counts": 314,
          "from_station_name": "REI / Yale Ave N & John St",
          "from_station_number": 0,
          "log_counts": 5.749392985908253,
          "to_station_name": "Dexter Ave N & Aloha St",
          "to_station_number": 2
         },
         {
          "counts": 37,
          "from_station_name": "REI / Yale Ave N & John St",
          "from_station_number": 0,
          "log_counts": 3.6109179126442243,
          "to_station_name": "E Harrison St & Broadway Ave E",
          "to_station_number": 4
         },
         {
          "counts": 64,
          "from_station_name": "REI / Yale Ave N & John St",
          "from_station_number": 0,
          "log_counts": 4.1588830833596715,
          "to_station_name": "King Street Station Plaza / 2nd Ave Extension S & S Jackson St",
          "to_station_number": 16
         },
         {
          "counts": 165,
          "from_station_name": "REI / Yale Ave N & John St",
          "from_station_number": 0,
          "log_counts": 5.10594547390058,
          "to_station_name": "Lake Union Park / Valley St & Boren Ave N",
          "to_station_number": 5
         },
         {
          "counts": 59,
          "from_station_name": "REI / Yale Ave N & John St",
          "from_station_number": 0,
          "log_counts": 4.07753744390572,
          "to_station_name": "Pier 69 / Alaskan Way & Clay St",
          "to_station_number": 1
         },
         {
          "counts": 861,
          "from_station_name": "REI / Yale Ave N & John St",
          "from_station_number": 0,
          "log_counts": 6.7580945044277305,
          "to_station_name": "Pine St & 9th Ave",
          "to_station_number": 11
         },
         {
          "counts": 351,
          "from_station_name": "REI / Yale Ave N & John St",
          "from_station_number": 0,
          "log_counts": 5.860786223465865,
          "to_station_name": "REI / Yale Ave N & John St",
          "to_station_number": 0
         },
         {
          "counts": 488,
          "from_station_name": "REI / Yale Ave N & John St",
          "from_station_number": 0,
          "log_counts": 6.1903154058531475,
          "to_station_name": "Republican St & Westlake Ave N",
          "to_station_number": 8
         },
         {
          "counts": 69,
          "from_station_name": "REI / Yale Ave N & John St",
          "from_station_number": 0,
          "log_counts": 4.23410650459726,
          "to_station_name": "Seattle Aquarium / Alaskan Way S & Elliott Bay Trail",
          "to_station_number": 6
         },
         {
          "counts": 867,
          "from_station_name": "REI / Yale Ave N & John St",
          "from_station_number": 0,
          "log_counts": 6.7650389767805414,
          "to_station_name": "Westlake Ave & 6th Ave",
          "to_station_number": 10
         },
         {
          "counts": 280,
          "from_station_name": "Seattle Aquarium / Alaskan Way S & Elliott Bay Trail",
          "from_station_number": 6,
          "log_counts": 5.634789603169249,
          "to_station_name": "1st Ave & Marion St",
          "to_station_number": 17
         },
         {
          "counts": 157,
          "from_station_name": "Seattle Aquarium / Alaskan Way S & Elliott Bay Trail",
          "from_station_number": 6,
          "log_counts": 5.056245805348308,
          "to_station_name": "2nd Ave & Pine St",
          "to_station_number": 18
         },
         {
          "counts": 98,
          "from_station_name": "Seattle Aquarium / Alaskan Way S & Elliott Bay Trail",
          "from_station_number": 6,
          "log_counts": 4.584967478670572,
          "to_station_name": "2nd Ave & Spring St",
          "to_station_number": 9
         },
         {
          "counts": 544,
          "from_station_name": "Seattle Aquarium / Alaskan Way S & Elliott Bay Trail",
          "from_station_number": 6,
          "log_counts": 6.298949246855942,
          "to_station_name": "3rd Ave & Broad St",
          "to_station_number": 12
         },
         {
          "counts": 15,
          "from_station_name": "Seattle Aquarium / Alaskan Way S & Elliott Bay Trail",
          "from_station_number": 6,
          "log_counts": 2.70805020110221,
          "to_station_name": "9th Ave N & Mercer St",
          "to_station_number": 7
         },
         {
          "counts": 4,
          "from_station_name": "Seattle Aquarium / Alaskan Way S & Elliott Bay Trail",
          "from_station_number": 6,
          "log_counts": 1.3862943611198906,
          "to_station_name": "Burke-Gilman Trail / NE Blakeley St & 24th Ave NE",
          "to_station_number": 20
         },
         {
          "counts": 8,
          "from_station_name": "Seattle Aquarium / Alaskan Way S & Elliott Bay Trail",
          "from_station_number": 6,
          "log_counts": 2.0794415416798357,
          "to_station_name": "Cal Anderson Park / 11th Ave & Pine St",
          "to_station_number": 13
         },
         {
          "counts": 45,
          "from_station_name": "Seattle Aquarium / Alaskan Way S & Elliott Bay Trail",
          "from_station_number": 6,
          "log_counts": 3.8066624897703196,
          "to_station_name": "Dexter Ave N & Aloha St",
          "to_station_number": 2
         },
         {
          "counts": 2,
          "from_station_name": "Seattle Aquarium / Alaskan Way S & Elliott Bay Trail",
          "from_station_number": 6,
          "log_counts": 0.6931471805599453,
          "to_station_name": "E Harrison St & Broadway Ave E",
          "to_station_number": 4
         },
         {
          "counts": 236,
          "from_station_name": "Seattle Aquarium / Alaskan Way S & Elliott Bay Trail",
          "from_station_number": 6,
          "log_counts": 5.4638318050256105,
          "to_station_name": "King Street Station Plaza / 2nd Ave Extension S & S Jackson St",
          "to_station_number": 16
         },
         {
          "counts": 18,
          "from_station_name": "Seattle Aquarium / Alaskan Way S & Elliott Bay Trail",
          "from_station_number": 6,
          "log_counts": 2.8903717578961645,
          "to_station_name": "Lake Union Park / Valley St & Boren Ave N",
          "to_station_number": 5
         },
         {
          "counts": 1930,
          "from_station_name": "Seattle Aquarium / Alaskan Way S & Elliott Bay Trail",
          "from_station_number": 6,
          "log_counts": 7.5652752818989315,
          "to_station_name": "Pier 69 / Alaskan Way & Clay St",
          "to_station_number": 1
         },
         {
          "counts": 36,
          "from_station_name": "Seattle Aquarium / Alaskan Way S & Elliott Bay Trail",
          "from_station_number": 6,
          "log_counts": 3.58351893845611,
          "to_station_name": "Pine St & 9th Ave",
          "to_station_number": 11
         },
         {
          "counts": 9,
          "from_station_name": "Seattle Aquarium / Alaskan Way S & Elliott Bay Trail",
          "from_station_number": 6,
          "log_counts": 2.1972245773362196,
          "to_station_name": "REI / Yale Ave N & John St",
          "to_station_number": 0
         },
         {
          "counts": 5,
          "from_station_name": "Seattle Aquarium / Alaskan Way S & Elliott Bay Trail",
          "from_station_number": 6,
          "log_counts": 1.6094379124341003,
          "to_station_name": "Republican St & Westlake Ave N",
          "to_station_number": 8
         },
         {
          "counts": 1358,
          "from_station_name": "Seattle Aquarium / Alaskan Way S & Elliott Bay Trail",
          "from_station_number": 6,
          "log_counts": 7.213768308118642,
          "to_station_name": "Seattle Aquarium / Alaskan Way S & Elliott Bay Trail",
          "to_station_number": 6
         },
         {
          "counts": 94,
          "from_station_name": "Seattle Aquarium / Alaskan Way S & Elliott Bay Trail",
          "from_station_number": 6,
          "log_counts": 4.543294782270004,
          "to_station_name": "Westlake Ave & 6th Ave",
          "to_station_number": 10
         },
         {
          "counts": 609,
          "from_station_name": "Westlake Ave & 6th Ave",
          "from_station_number": 10,
          "log_counts": 6.411818267709897,
          "to_station_name": "1st Ave & Marion St",
          "to_station_number": 17
         },
         {
          "counts": 285,
          "from_station_name": "Westlake Ave & 6th Ave",
          "from_station_number": 10,
          "log_counts": 5.652489180268651,
          "to_station_name": "2nd Ave & Pine St",
          "to_station_number": 18
         },
         {
          "counts": 282,
          "from_station_name": "Westlake Ave & 6th Ave",
          "from_station_number": 10,
          "log_counts": 5.641907070938114,
          "to_station_name": "2nd Ave & Spring St",
          "to_station_number": 9
         },
         {
          "counts": 564,
          "from_station_name": "Westlake Ave & 6th Ave",
          "from_station_number": 10,
          "log_counts": 6.335054251498059,
          "to_station_name": "3rd Ave & Broad St",
          "to_station_number": 12
         },
         {
          "counts": 657,
          "from_station_name": "Westlake Ave & 6th Ave",
          "from_station_number": 10,
          "log_counts": 6.48768401848461,
          "to_station_name": "9th Ave N & Mercer St",
          "to_station_number": 7
         },
         {
          "counts": 10,
          "from_station_name": "Westlake Ave & 6th Ave",
          "from_station_number": 10,
          "log_counts": 2.302585092994046,
          "to_station_name": "Burke-Gilman Trail / NE Blakeley St & 24th Ave NE",
          "to_station_number": 20
         },
         {
          "counts": 33,
          "from_station_name": "Westlake Ave & 6th Ave",
          "from_station_number": 10,
          "log_counts": 3.4965075614664802,
          "to_station_name": "Cal Anderson Park / 11th Ave & Pine St",
          "to_station_number": 13
         },
         {
          "counts": 848,
          "from_station_name": "Westlake Ave & 6th Ave",
          "from_station_number": 10,
          "log_counts": 6.742880635791903,
          "to_station_name": "Dexter Ave N & Aloha St",
          "to_station_number": 2
         },
         {
          "counts": 33,
          "from_station_name": "Westlake Ave & 6th Ave",
          "from_station_number": 10,
          "log_counts": 3.4965075614664802,
          "to_station_name": "E Harrison St & Broadway Ave E",
          "to_station_number": 4
         },
         {
          "counts": 302,
          "from_station_name": "Westlake Ave & 6th Ave",
          "from_station_number": 10,
          "log_counts": 5.71042701737487,
          "to_station_name": "King Street Station Plaza / 2nd Ave Extension S & S Jackson St",
          "to_station_number": 16
         },
         {
          "counts": 284,
          "from_station_name": "Westlake Ave & 6th Ave",
          "from_station_number": 10,
          "log_counts": 5.648974238161206,
          "to_station_name": "Lake Union Park / Valley St & Boren Ave N",
          "to_station_number": 5
         },
         {
          "counts": 310,
          "from_station_name": "Westlake Ave & 6th Ave",
          "from_station_number": 10,
          "log_counts": 5.736572297479192,
          "to_station_name": "Pier 69 / Alaskan Way & Clay St",
          "to_station_number": 1
         },
         {
          "counts": 89,
          "from_station_name": "Westlake Ave & 6th Ave",
          "from_station_number": 10,
          "log_counts": 4.48863636973214,
          "to_station_name": "Pine St & 9th Ave",
          "to_station_number": 11
         },
         {
          "counts": 551,
          "from_station_name": "Westlake Ave & 6th Ave",
          "from_station_number": 10,
          "log_counts": 6.311734809152915,
          "to_station_name": "REI / Yale Ave N & John St",
          "to_station_number": 0
         },
         {
          "counts": 724,
          "from_station_name": "Westlake Ave & 6th Ave",
          "from_station_number": 10,
          "log_counts": 6.584791392385716,
          "to_station_name": "Republican St & Westlake Ave N",
          "to_station_number": 8
         },
         {
          "counts": 212,
          "from_station_name": "Westlake Ave & 6th Ave",
          "from_station_number": 10,
          "log_counts": 5.356586274672012,
          "to_station_name": "Seattle Aquarium / Alaskan Way S & Elliott Bay Trail",
          "to_station_number": 6
         },
         {
          "counts": 455,
          "from_station_name": "Westlake Ave & 6th Ave",
          "from_station_number": 10,
          "log_counts": 6.12029741895095,
          "to_station_name": "Westlake Ave & 6th Ave",
          "to_station_number": 10
         }
        ]
       },
       "encoding": {
        "color": {
         "field": "counts",
         "title": "",
         "type": "quantitative"
        },
        "tooltip": [
         {
          "field": "from_station_name",
          "type": "nominal"
         },
         {
          "field": "to_station_name",
          "type": "nominal"
         },
         {
          "field": "counts",
          "type": "quantitative"
         }
        ],
        "x": {
         "field": "from_station_number",
         "title": "from station",
         "type": "ordinal"
        },
        "y": {
         "field": "to_station_number",
         "title": "to station",
         "type": "ordinal"
        }
       },
       "mark": "bar",
       "title": "Traffic between stations"
      },
      "image/png": "[encoded data removed]",
      "text/plain": [
       "<VegaLite 2 object>\n",
       "\n",
       "If you see this message, it means the renderer has not been properly enabled\n",
       "for the frontend that you are using. For more information, see\n",
       "https://altair-viz.github.io/user_guide/troubleshooting.html\n"
      ]
     },
     "execution_count": 549,
     "metadata": {},
     "output_type": "execute_result"
    }
   ],
   "source": [
    "alt.Chart(matrix_data, title='Traffic between stations') \\\n",
    "    .mark_bar() \\\n",
    "    .encode(\n",
    "    x=alt.X('from_station_number:O', title='from station'),\n",
    "    y=alt.Y('to_station_number:O', title='to station'),\n",
    "    tooltip=['from_station_name', 'to_station_name', 'counts'],\n",
    "    color=alt.Color('counts:Q', title='')\n",
    "    )"
   ]
  },
  {
   "cell_type": "markdown",
   "metadata": {},
   "source": [
    "Above color is used to convey magnitude. The darker the blue, the more trips between both stations."
   ]
  },
  {
   "cell_type": "code",
   "execution_count": 550,
   "metadata": {},
   "outputs": [],
   "source": [
    "# Using a different color scale\n",
    "category_color10 = ['#1f77b4', '#ff7f0e', '#2ca02c',\n",
    "                    '#d62728', '#9467bd', '#8c564b',\n",
    "                    '#e377c2', '#7f7f7f', '#bcbd22',\n",
    "                    '#17becf']"
   ]
  },
  {
   "cell_type": "code",
   "execution_count": 551,
   "metadata": {},
   "outputs": [],
   "source": [
    "matrix_data['count_cuts'] = pd.cut(matrix_data.counts, 20)"
   ]
  },
  {
   "cell_type": "code",
   "execution_count": 552,
   "metadata": {},
   "outputs": [],
   "source": [
    "matrix_data['left_interval_cut'] = matrix_data.count_cuts.apply(lambda x: x.left)\n",
    "matrix_data['right_interval_cut'] = matrix_data.count_cuts.apply(lambda x: x.right)"
   ]
  },
  {
   "cell_type": "code",
   "execution_count": 553,
   "metadata": {},
   "outputs": [],
   "source": [
    "matrix_data['count_cuts_str'] = [f'{x}-{y}' for x, y in zip(matrix_data.left_interval_cut,\n",
    "                                    matrix_data.right_interval_cut)]"
   ]
  },
  {
   "cell_type": "code",
   "execution_count": 554,
   "metadata": {},
   "outputs": [],
   "source": [
    "bin_to_color = {bin_range: color for bin_range, color\n",
    "                 in zip(np.sort(matrix_data['count_cuts_str'].unique()), category_color10)}"
   ]
  },
  {
   "cell_type": "code",
   "execution_count": 555,
   "metadata": {},
   "outputs": [],
   "source": [
    "matrix_data['color_bin'] = matrix_data['count_cuts_str'].map(bin_to_color)"
   ]
  },
  {
   "cell_type": "code",
   "execution_count": 556,
   "metadata": {},
   "outputs": [],
   "source": [
    "color_bar_identity = matrix_data[['left_interval_cut', 'right_interval_cut', 'color_bin']] \\\n",
    "                            .drop_duplicates() \\\n",
    "                            .sort_values(by='left_interval_cut')"
   ]
  },
  {
   "cell_type": "code",
   "execution_count": 557,
   "metadata": {},
   "outputs": [
    {
     "data": {
      "application/vnd.vegalite.v2+json": {
       "$schema": "https://vega.github.io/schema/vega-lite/v2.6.0.json",
       "config": {
        "view": {
         "height": 300,
         "width": 400
        }
       },
       "datasets": {
        "data-d07a9dfba4582e6a58cd8e87d4f27043": [
         {
          "color_bin": "#e377c2",
          "counts": 705,
          "from_station_name": "2nd Ave & Pine St",
          "from_station_number": 18,
          "to_station_name": "1st Ave & Marion St",
          "to_station_number": 17
         },
         {
          "color_bin": "#e377c2",
          "counts": 524,
          "from_station_name": "2nd Ave & Pine St",
          "from_station_number": 18,
          "to_station_name": "2nd Ave & Pine St",
          "to_station_number": 18
         },
         {
          "color_bin": "#9467bd",
          "counts": 302,
          "from_station_name": "2nd Ave & Pine St",
          "from_station_number": 18,
          "to_station_name": "2nd Ave & Spring St",
          "to_station_number": 9
         },
         {
          "color_bin": "#bcbd22",
          "counts": 1111,
          "from_station_name": "2nd Ave & Pine St",
          "from_station_number": 18,
          "to_station_name": "3rd Ave & Broad St",
          "to_station_number": 12
         },
         {
          "color_bin": "#1f77b4",
          "counts": 117,
          "from_station_name": "2nd Ave & Pine St",
          "from_station_number": 18,
          "to_station_name": "9th Ave N & Mercer St",
          "to_station_number": 7
         },
         {
          "color_bin": "#1f77b4",
          "counts": 2,
          "from_station_name": "2nd Ave & Pine St",
          "from_station_number": 18,
          "to_station_name": "Burke-Gilman Trail / NE Blakeley St & 24th Ave NE",
          "to_station_number": 20
         },
         {
          "color_bin": "#1f77b4",
          "counts": 139,
          "from_station_name": "2nd Ave & Pine St",
          "from_station_number": 18,
          "to_station_name": "Cal Anderson Park / 11th Ave & Pine St",
          "to_station_number": 13
         },
         {
          "color_bin": "#1f77b4",
          "counts": 183,
          "from_station_name": "2nd Ave & Pine St",
          "from_station_number": 18,
          "to_station_name": "Dexter Ave N & Aloha St",
          "to_station_number": 2
         },
         {
          "color_bin": "#1f77b4",
          "counts": 37,
          "from_station_name": "2nd Ave & Pine St",
          "from_station_number": 18,
          "to_station_name": "E Harrison St & Broadway Ave E",
          "to_station_number": 4
         },
         {
          "color_bin": "#9467bd",
          "counts": 467,
          "from_station_name": "2nd Ave & Pine St",
          "from_station_number": 18,
          "to_station_name": "King Street Station Plaza / 2nd Ave Extension S & S Jackson St",
          "to_station_number": 16
         },
         {
          "color_bin": "#1f77b4",
          "counts": 119,
          "from_station_name": "2nd Ave & Pine St",
          "from_station_number": 18,
          "to_station_name": "Lake Union Park / Valley St & Boren Ave N",
          "to_station_number": 5
         },
         {
          "color_bin": "#9467bd",
          "counts": 434,
          "from_station_name": "2nd Ave & Pine St",
          "from_station_number": 18,
          "to_station_name": "Pier 69 / Alaskan Way & Clay St",
          "to_station_number": 1
         },
         {
          "color_bin": "#1f77b4",
          "counts": 182,
          "from_station_name": "2nd Ave & Pine St",
          "from_station_number": 18,
          "to_station_name": "Pine St & 9th Ave",
          "to_station_number": 11
         },
         {
          "color_bin": "#9467bd",
          "counts": 296,
          "from_station_name": "2nd Ave & Pine St",
          "from_station_number": 18,
          "to_station_name": "REI / Yale Ave N & John St",
          "to_station_number": 0
         },
         {
          "color_bin": "#9467bd",
          "counts": 257,
          "from_station_name": "2nd Ave & Pine St",
          "from_station_number": 18,
          "to_station_name": "Republican St & Westlake Ave N",
          "to_station_number": 8
         },
         {
          "color_bin": "#1f77b4",
          "counts": 187,
          "from_station_name": "2nd Ave & Pine St",
          "from_station_number": 18,
          "to_station_name": "Seattle Aquarium / Alaskan Way S & Elliott Bay Trail",
          "to_station_number": 6
         },
         {
          "color_bin": "#9467bd",
          "counts": 449,
          "from_station_name": "2nd Ave & Pine St",
          "from_station_number": 18,
          "to_station_name": "Westlake Ave & 6th Ave",
          "to_station_number": 10
         },
         {
          "color_bin": "#9467bd",
          "counts": 426,
          "from_station_name": "2nd Ave & Vine St",
          "from_station_number": 3,
          "to_station_name": "1st Ave & Marion St",
          "to_station_number": 17
         },
         {
          "color_bin": "#7f7f7f",
          "counts": 931,
          "from_station_name": "2nd Ave & Vine St",
          "from_station_number": 3,
          "to_station_name": "2nd Ave & Pine St",
          "to_station_number": 18
         },
         {
          "color_bin": "#9467bd",
          "counts": 479,
          "from_station_name": "2nd Ave & Vine St",
          "from_station_number": 3,
          "to_station_name": "2nd Ave & Spring St",
          "to_station_number": 9
         },
         {
          "color_bin": "#9467bd",
          "counts": 341,
          "from_station_name": "2nd Ave & Vine St",
          "from_station_number": 3,
          "to_station_name": "3rd Ave & Broad St",
          "to_station_number": 12
         },
         {
          "color_bin": "#9467bd",
          "counts": 428,
          "from_station_name": "2nd Ave & Vine St",
          "from_station_number": 3,
          "to_station_name": "9th Ave N & Mercer St",
          "to_station_number": 7
         },
         {
          "color_bin": "#1f77b4",
          "counts": 46,
          "from_station_name": "2nd Ave & Vine St",
          "from_station_number": 3,
          "to_station_name": "Burke-Gilman Trail / NE Blakeley St & 24th Ave NE",
          "to_station_number": 20
         },
         {
          "color_bin": "#1f77b4",
          "counts": 28,
          "from_station_name": "2nd Ave & Vine St",
          "from_station_number": 3,
          "to_station_name": "Cal Anderson Park / 11th Ave & Pine St",
          "to_station_number": 13
         },
         {
          "color_bin": "#1f77b4",
          "counts": 101,
          "from_station_name": "2nd Ave & Vine St",
          "from_station_number": 3,
          "to_station_name": "Dexter Ave N & Aloha St",
          "to_station_number": 2
         },
         {
          "color_bin": "#1f77b4",
          "counts": 30,
          "from_station_name": "2nd Ave & Vine St",
          "from_station_number": 3,
          "to_station_name": "E Harrison St & Broadway Ave E",
          "to_station_number": 4
         },
         {
          "color_bin": "#9467bd",
          "counts": 325,
          "from_station_name": "2nd Ave & Vine St",
          "from_station_number": 3,
          "to_station_name": "King Street Station Plaza / 2nd Ave Extension S & S Jackson St",
          "to_station_number": 16
         },
         {
          "color_bin": "#1f77b4",
          "counts": 106,
          "from_station_name": "2nd Ave & Vine St",
          "from_station_number": 3,
          "to_station_name": "Lake Union Park / Valley St & Boren Ave N",
          "to_station_number": 5
         },
         {
          "color_bin": "#9467bd",
          "counts": 276,
          "from_station_name": "2nd Ave & Vine St",
          "from_station_number": 3,
          "to_station_name": "Pier 69 / Alaskan Way & Clay St",
          "to_station_number": 1
         },
         {
          "color_bin": "#1f77b4",
          "counts": 125,
          "from_station_name": "2nd Ave & Vine St",
          "from_station_number": 3,
          "to_station_name": "Pine St & 9th Ave",
          "to_station_number": 11
         },
         {
          "color_bin": "#1f77b4",
          "counts": 135,
          "from_station_name": "2nd Ave & Vine St",
          "from_station_number": 3,
          "to_station_name": "REI / Yale Ave N & John St",
          "to_station_number": 0
         },
         {
          "color_bin": "#7f7f7f",
          "counts": 767,
          "from_station_name": "2nd Ave & Vine St",
          "from_station_number": 3,
          "to_station_name": "Republican St & Westlake Ave N",
          "to_station_number": 8
         },
         {
          "color_bin": "#1f77b4",
          "counts": 202,
          "from_station_name": "2nd Ave & Vine St",
          "from_station_number": 3,
          "to_station_name": "Seattle Aquarium / Alaskan Way S & Elliott Bay Trail",
          "to_station_number": 6
         },
         {
          "color_bin": "#e377c2",
          "counts": 600,
          "from_station_name": "2nd Ave & Vine St",
          "from_station_number": 3,
          "to_station_name": "Westlake Ave & 6th Ave",
          "to_station_number": 10
         },
         {
          "color_bin": "#9467bd",
          "counts": 261,
          "from_station_name": "3rd Ave & Broad St",
          "from_station_number": 12,
          "to_station_name": "1st Ave & Marion St",
          "to_station_number": 17
         },
         {
          "color_bin": "#ff7f0e",
          "counts": 1247,
          "from_station_name": "3rd Ave & Broad St",
          "from_station_number": 12,
          "to_station_name": "2nd Ave & Pine St",
          "to_station_number": 18
         },
         {
          "color_bin": "#7f7f7f",
          "counts": 846,
          "from_station_name": "3rd Ave & Broad St",
          "from_station_number": 12,
          "to_station_name": "2nd Ave & Spring St",
          "to_station_number": 9
         },
         {
          "color_bin": "#7f7f7f",
          "counts": 738,
          "from_station_name": "3rd Ave & Broad St",
          "from_station_number": 12,
          "to_station_name": "3rd Ave & Broad St",
          "to_station_number": 12
         },
         {
          "color_bin": "#1f77b4",
          "counts": 215,
          "from_station_name": "3rd Ave & Broad St",
          "from_station_number": 12,
          "to_station_name": "9th Ave N & Mercer St",
          "to_station_number": 7
         },
         {
          "color_bin": "#1f77b4",
          "counts": 10,
          "from_station_name": "3rd Ave & Broad St",
          "from_station_number": 12,
          "to_station_name": "Burke-Gilman Trail / NE Blakeley St & 24th Ave NE",
          "to_station_number": 20
         },
         {
          "color_bin": "#1f77b4",
          "counts": 29,
          "from_station_name": "3rd Ave & Broad St",
          "from_station_number": 12,
          "to_station_name": "Cal Anderson Park / 11th Ave & Pine St",
          "to_station_number": 13
         },
         {
          "color_bin": "#1f77b4",
          "counts": 206,
          "from_station_name": "3rd Ave & Broad St",
          "from_station_number": 12,
          "to_station_name": "Dexter Ave N & Aloha St",
          "to_station_number": 2
         },
         {
          "color_bin": "#1f77b4",
          "counts": 25,
          "from_station_name": "3rd Ave & Broad St",
          "from_station_number": 12,
          "to_station_name": "E Harrison St & Broadway Ave E",
          "to_station_number": 4
         },
         {
          "color_bin": "#9467bd",
          "counts": 351,
          "from_station_name": "3rd Ave & Broad St",
          "from_station_number": 12,
          "to_station_name": "King Street Station Plaza / 2nd Ave Extension S & S Jackson St",
          "to_station_number": 16
         },
         {
          "color_bin": "#1f77b4",
          "counts": 196,
          "from_station_name": "3rd Ave & Broad St",
          "from_station_number": 12,
          "to_station_name": "Lake Union Park / Valley St & Boren Ave N",
          "to_station_number": 5
         },
         {
          "color_bin": "#7f7f7f",
          "counts": 879,
          "from_station_name": "3rd Ave & Broad St",
          "from_station_number": 12,
          "to_station_name": "Pier 69 / Alaskan Way & Clay St",
          "to_station_number": 1
         },
         {
          "color_bin": "#1f77b4",
          "counts": 181,
          "from_station_name": "3rd Ave & Broad St",
          "from_station_number": 12,
          "to_station_name": "Pine St & 9th Ave",
          "to_station_number": 11
         },
         {
          "color_bin": "#9467bd",
          "counts": 401,
          "from_station_name": "3rd Ave & Broad St",
          "from_station_number": 12,
          "to_station_name": "REI / Yale Ave N & John St",
          "to_station_number": 0
         },
         {
          "color_bin": "#1f77b4",
          "counts": 192,
          "from_station_name": "3rd Ave & Broad St",
          "from_station_number": 12,
          "to_station_name": "Republican St & Westlake Ave N",
          "to_station_number": 8
         },
         {
          "color_bin": "#7f7f7f",
          "counts": 899,
          "from_station_name": "3rd Ave & Broad St",
          "from_station_number": 12,
          "to_station_name": "Seattle Aquarium / Alaskan Way S & Elliott Bay Trail",
          "to_station_number": 6
         },
         {
          "color_bin": "#e377c2",
          "counts": 503,
          "from_station_name": "3rd Ave & Broad St",
          "from_station_number": 12,
          "to_station_name": "Westlake Ave & 6th Ave",
          "to_station_number": 10
         },
         {
          "color_bin": "#9467bd",
          "counts": 326,
          "from_station_name": "6th Ave & Blanchard St",
          "from_station_number": 15,
          "to_station_name": "1st Ave & Marion St",
          "to_station_number": 17
         },
         {
          "color_bin": "#1f77b4",
          "counts": 236,
          "from_station_name": "6th Ave & Blanchard St",
          "from_station_number": 15,
          "to_station_name": "2nd Ave & Pine St",
          "to_station_number": 18
         },
         {
          "color_bin": "#1f77b4",
          "counts": 124,
          "from_station_name": "6th Ave & Blanchard St",
          "from_station_number": 15,
          "to_station_name": "2nd Ave & Spring St",
          "to_station_number": 9
         },
         {
          "color_bin": "#1f77b4",
          "counts": 200,
          "from_station_name": "6th Ave & Blanchard St",
          "from_station_number": 15,
          "to_station_name": "3rd Ave & Broad St",
          "to_station_number": 12
         },
         {
          "color_bin": "#7f7f7f",
          "counts": 897,
          "from_station_name": "6th Ave & Blanchard St",
          "from_station_number": 15,
          "to_station_name": "9th Ave N & Mercer St",
          "to_station_number": 7
         },
         {
          "color_bin": "#1f77b4",
          "counts": 3,
          "from_station_name": "6th Ave & Blanchard St",
          "from_station_number": 15,
          "to_station_name": "Burke-Gilman Trail / NE Blakeley St & 24th Ave NE",
          "to_station_number": 20
         },
         {
          "color_bin": "#1f77b4",
          "counts": 17,
          "from_station_name": "6th Ave & Blanchard St",
          "from_station_number": 15,
          "to_station_name": "Cal Anderson Park / 11th Ave & Pine St",
          "to_station_number": 13
         },
         {
          "color_bin": "#9467bd",
          "counts": 322,
          "from_station_name": "6th Ave & Blanchard St",
          "from_station_number": 15,
          "to_station_name": "Dexter Ave N & Aloha St",
          "to_station_number": 2
         },
         {
          "color_bin": "#1f77b4",
          "counts": 13,
          "from_station_name": "6th Ave & Blanchard St",
          "from_station_number": 15,
          "to_station_name": "E Harrison St & Broadway Ave E",
          "to_station_number": 4
         },
         {
          "color_bin": "#1f77b4",
          "counts": 123,
          "from_station_name": "6th Ave & Blanchard St",
          "from_station_number": 15,
          "to_station_name": "King Street Station Plaza / 2nd Ave Extension S & S Jackson St",
          "to_station_number": 16
         },
         {
          "color_bin": "#1f77b4",
          "counts": 178,
          "from_station_name": "6th Ave & Blanchard St",
          "from_station_number": 15,
          "to_station_name": "Lake Union Park / Valley St & Boren Ave N",
          "to_station_number": 5
         },
         {
          "color_bin": "#1f77b4",
          "counts": 111,
          "from_station_name": "6th Ave & Blanchard St",
          "from_station_number": 15,
          "to_station_name": "Pier 69 / Alaskan Way & Clay St",
          "to_station_number": 1
         },
         {
          "color_bin": "#1f77b4",
          "counts": 68,
          "from_station_name": "6th Ave & Blanchard St",
          "from_station_number": 15,
          "to_station_name": "Pine St & 9th Ave",
          "to_station_number": 11
         },
         {
          "color_bin": "#1f77b4",
          "counts": 124,
          "from_station_name": "6th Ave & Blanchard St",
          "from_station_number": 15,
          "to_station_name": "REI / Yale Ave N & John St",
          "to_station_number": 0
         },
         {
          "color_bin": "#9467bd",
          "counts": 257,
          "from_station_name": "6th Ave & Blanchard St",
          "from_station_number": 15,
          "to_station_name": "Republican St & Westlake Ave N",
          "to_station_number": 8
         },
         {
          "color_bin": "#1f77b4",
          "counts": 52,
          "from_station_name": "6th Ave & Blanchard St",
          "from_station_number": 15,
          "to_station_name": "Seattle Aquarium / Alaskan Way S & Elliott Bay Trail",
          "to_station_number": 6
         },
         {
          "color_bin": "#1f77b4",
          "counts": 131,
          "from_station_name": "6th Ave & Blanchard St",
          "from_station_number": 15,
          "to_station_name": "Westlake Ave & 6th Ave",
          "to_station_number": 10
         },
         {
          "color_bin": "#1f77b4",
          "counts": 9,
          "from_station_name": "Burke-Gilman Trail / NE Blakeley St & 24th Ave NE",
          "from_station_number": 20,
          "to_station_name": "2nd Ave & Pine St",
          "to_station_number": 18
         },
         {
          "color_bin": "#1f77b4",
          "counts": 6,
          "from_station_name": "Burke-Gilman Trail / NE Blakeley St & 24th Ave NE",
          "from_station_number": 20,
          "to_station_name": "3rd Ave & Broad St",
          "to_station_number": 12
         },
         {
          "color_bin": "#1f77b4",
          "counts": 3,
          "from_station_name": "Burke-Gilman Trail / NE Blakeley St & 24th Ave NE",
          "from_station_number": 20,
          "to_station_name": "9th Ave N & Mercer St",
          "to_station_number": 7
         },
         {
          "color_bin": "#bcbd22",
          "counts": 1005,
          "from_station_name": "Burke-Gilman Trail / NE Blakeley St & 24th Ave NE",
          "from_station_number": 20,
          "to_station_name": "Burke-Gilman Trail / NE Blakeley St & 24th Ave NE",
          "to_station_number": 20
         },
         {
          "color_bin": "#1f77b4",
          "counts": 9,
          "from_station_name": "Burke-Gilman Trail / NE Blakeley St & 24th Ave NE",
          "from_station_number": 20,
          "to_station_name": "Cal Anderson Park / 11th Ave & Pine St",
          "to_station_number": 13
         },
         {
          "color_bin": "#1f77b4",
          "counts": 29,
          "from_station_name": "Burke-Gilman Trail / NE Blakeley St & 24th Ave NE",
          "from_station_number": 20,
          "to_station_name": "Dexter Ave N & Aloha St",
          "to_station_number": 2
         },
         {
          "color_bin": "#1f77b4",
          "counts": 6,
          "from_station_name": "Burke-Gilman Trail / NE Blakeley St & 24th Ave NE",
          "from_station_number": 20,
          "to_station_name": "E Harrison St & Broadway Ave E",
          "to_station_number": 4
         },
         {
          "color_bin": "#1f77b4",
          "counts": 1,
          "from_station_name": "Burke-Gilman Trail / NE Blakeley St & 24th Ave NE",
          "from_station_number": 20,
          "to_station_name": "King Street Station Plaza / 2nd Ave Extension S & S Jackson St",
          "to_station_number": 16
         },
         {
          "color_bin": "#1f77b4",
          "counts": 48,
          "from_station_name": "Burke-Gilman Trail / NE Blakeley St & 24th Ave NE",
          "from_station_number": 20,
          "to_station_name": "Lake Union Park / Valley St & Boren Ave N",
          "to_station_number": 5
         },
         {
          "color_bin": "#1f77b4",
          "counts": 1,
          "from_station_name": "Burke-Gilman Trail / NE Blakeley St & 24th Ave NE",
          "from_station_number": 20,
          "to_station_name": "Pier 69 / Alaskan Way & Clay St",
          "to_station_number": 1
         },
         {
          "color_bin": "#1f77b4",
          "counts": 2,
          "from_station_name": "Burke-Gilman Trail / NE Blakeley St & 24th Ave NE",
          "from_station_number": 20,
          "to_station_name": "Pine St & 9th Ave",
          "to_station_number": 11
         },
         {
          "color_bin": "#1f77b4",
          "counts": 11,
          "from_station_name": "Burke-Gilman Trail / NE Blakeley St & 24th Ave NE",
          "from_station_number": 20,
          "to_station_name": "REI / Yale Ave N & John St",
          "to_station_number": 0
         },
         {
          "color_bin": "#1f77b4",
          "counts": 32,
          "from_station_name": "Burke-Gilman Trail / NE Blakeley St & 24th Ave NE",
          "from_station_number": 20,
          "to_station_name": "Republican St & Westlake Ave N",
          "to_station_number": 8
         },
         {
          "color_bin": "#1f77b4",
          "counts": 8,
          "from_station_name": "Burke-Gilman Trail / NE Blakeley St & 24th Ave NE",
          "from_station_number": 20,
          "to_station_name": "Westlake Ave & 6th Ave",
          "to_station_number": 10
         },
         {
          "color_bin": "#1f77b4",
          "counts": 181,
          "from_station_name": "Dexter Ave N & Aloha St",
          "from_station_number": 2,
          "to_station_name": "1st Ave & Marion St",
          "to_station_number": 17
         },
         {
          "color_bin": "#1f77b4",
          "counts": 179,
          "from_station_name": "Dexter Ave N & Aloha St",
          "from_station_number": 2,
          "to_station_name": "2nd Ave & Pine St",
          "to_station_number": 18
         },
         {
          "color_bin": "#1f77b4",
          "counts": 112,
          "from_station_name": "Dexter Ave N & Aloha St",
          "from_station_number": 2,
          "to_station_name": "2nd Ave & Spring St",
          "to_station_number": 9
         },
         {
          "color_bin": "#9467bd",
          "counts": 266,
          "from_station_name": "Dexter Ave N & Aloha St",
          "from_station_number": 2,
          "to_station_name": "3rd Ave & Broad St",
          "to_station_number": 12
         },
         {
          "color_bin": "#9467bd",
          "counts": 379,
          "from_station_name": "Dexter Ave N & Aloha St",
          "from_station_number": 2,
          "to_station_name": "9th Ave N & Mercer St",
          "to_station_number": 7
         },
         {
          "color_bin": "#1f77b4",
          "counts": 8,
          "from_station_name": "Dexter Ave N & Aloha St",
          "from_station_number": 2,
          "to_station_name": "Burke-Gilman Trail / NE Blakeley St & 24th Ave NE",
          "to_station_number": 20
         },
         {
          "color_bin": "#1f77b4",
          "counts": 17,
          "from_station_name": "Dexter Ave N & Aloha St",
          "from_station_number": 2,
          "to_station_name": "Cal Anderson Park / 11th Ave & Pine St",
          "to_station_number": 13
         },
         {
          "color_bin": "#e377c2",
          "counts": 493,
          "from_station_name": "Dexter Ave N & Aloha St",
          "from_station_number": 2,
          "to_station_name": "Dexter Ave N & Aloha St",
          "to_station_number": 2
         },
         {
          "color_bin": "#1f77b4",
          "counts": 10,
          "from_station_name": "Dexter Ave N & Aloha St",
          "from_station_number": 2,
          "to_station_name": "E Harrison St & Broadway Ave E",
          "to_station_number": 4
         },
         {
          "color_bin": "#1f77b4",
          "counts": 99,
          "from_station_name": "Dexter Ave N & Aloha St",
          "from_station_number": 2,
          "to_station_name": "King Street Station Plaza / 2nd Ave Extension S & S Jackson St",
          "to_station_number": 16
         },
         {
          "color_bin": "#1f77b4",
          "counts": 228,
          "from_station_name": "Dexter Ave N & Aloha St",
          "from_station_number": 2,
          "to_station_name": "Lake Union Park / Valley St & Boren Ave N",
          "to_station_number": 5
         },
         {
          "color_bin": "#1f77b4",
          "counts": 91,
          "from_station_name": "Dexter Ave N & Aloha St",
          "from_station_number": 2,
          "to_station_name": "Pier 69 / Alaskan Way & Clay St",
          "to_station_number": 1
         },
         {
          "color_bin": "#1f77b4",
          "counts": 129,
          "from_station_name": "Dexter Ave N & Aloha St",
          "from_station_number": 2,
          "to_station_name": "Pine St & 9th Ave",
          "to_station_number": 11
         },
         {
          "color_bin": "#1f77b4",
          "counts": 135,
          "from_station_name": "Dexter Ave N & Aloha St",
          "from_station_number": 2,
          "to_station_name": "REI / Yale Ave N & John St",
          "to_station_number": 0
         },
         {
          "color_bin": "#7f7f7f",
          "counts": 846,
          "from_station_name": "Dexter Ave N & Aloha St",
          "from_station_number": 2,
          "to_station_name": "Republican St & Westlake Ave N",
          "to_station_number": 8
         },
         {
          "color_bin": "#1f77b4",
          "counts": 52,
          "from_station_name": "Dexter Ave N & Aloha St",
          "from_station_number": 2,
          "to_station_name": "Seattle Aquarium / Alaskan Way S & Elliott Bay Trail",
          "to_station_number": 6
         },
         {
          "color_bin": "#e377c2",
          "counts": 563,
          "from_station_name": "Dexter Ave N & Aloha St",
          "from_station_number": 2,
          "to_station_name": "Westlake Ave & 6th Ave",
          "to_station_number": 10
         },
         {
          "color_bin": "#9467bd",
          "counts": 247,
          "from_station_name": "E Harrison St & Broadway Ave E",
          "from_station_number": 4,
          "to_station_name": "1st Ave & Marion St",
          "to_station_number": 17
         },
         {
          "color_bin": "#e377c2",
          "counts": 578,
          "from_station_name": "E Harrison St & Broadway Ave E",
          "from_station_number": 4,
          "to_station_name": "2nd Ave & Pine St",
          "to_station_number": 18
         },
         {
          "color_bin": "#1f77b4",
          "counts": 188,
          "from_station_name": "E Harrison St & Broadway Ave E",
          "from_station_number": 4,
          "to_station_name": "2nd Ave & Spring St",
          "to_station_number": 9
         },
         {
          "color_bin": "#1f77b4",
          "counts": 100,
          "from_station_name": "E Harrison St & Broadway Ave E",
          "from_station_number": 4,
          "to_station_name": "3rd Ave & Broad St",
          "to_station_number": 12
         },
         {
          "color_bin": "#1f77b4",
          "counts": 103,
          "from_station_name": "E Harrison St & Broadway Ave E",
          "from_station_number": 4,
          "to_station_name": "9th Ave N & Mercer St",
          "to_station_number": 7
         },
         {
          "color_bin": "#1f77b4",
          "counts": 9,
          "from_station_name": "E Harrison St & Broadway Ave E",
          "from_station_number": 4,
          "to_station_name": "Burke-Gilman Trail / NE Blakeley St & 24th Ave NE",
          "to_station_number": 20
         },
         {
          "color_bin": "#7f7f7f",
          "counts": 804,
          "from_station_name": "E Harrison St & Broadway Ave E",
          "from_station_number": 4,
          "to_station_name": "Cal Anderson Park / 11th Ave & Pine St",
          "to_station_number": 13
         },
         {
          "color_bin": "#1f77b4",
          "counts": 33,
          "from_station_name": "E Harrison St & Broadway Ave E",
          "from_station_number": 4,
          "to_station_name": "Dexter Ave N & Aloha St",
          "to_station_number": 2
         },
         {
          "color_bin": "#9467bd",
          "counts": 334,
          "from_station_name": "E Harrison St & Broadway Ave E",
          "from_station_number": 4,
          "to_station_name": "E Harrison St & Broadway Ave E",
          "to_station_number": 4
         },
         {
          "color_bin": "#1f77b4",
          "counts": 90,
          "from_station_name": "E Harrison St & Broadway Ave E",
          "from_station_number": 4,
          "to_station_name": "King Street Station Plaza / 2nd Ave Extension S & S Jackson St",
          "to_station_number": 16
         },
         {
          "color_bin": "#1f77b4",
          "counts": 95,
          "from_station_name": "E Harrison St & Broadway Ave E",
          "from_station_number": 4,
          "to_station_name": "Lake Union Park / Valley St & Boren Ave N",
          "to_station_number": 5
         },
         {
          "color_bin": "#1f77b4",
          "counts": 19,
          "from_station_name": "E Harrison St & Broadway Ave E",
          "from_station_number": 4,
          "to_station_name": "Pier 69 / Alaskan Way & Clay St",
          "to_station_number": 1
         },
         {
          "color_bin": "#7f7f7f",
          "counts": 786,
          "from_station_name": "E Harrison St & Broadway Ave E",
          "from_station_number": 4,
          "to_station_name": "Pine St & 9th Ave",
          "to_station_number": 11
         },
         {
          "color_bin": "#9467bd",
          "counts": 325,
          "from_station_name": "E Harrison St & Broadway Ave E",
          "from_station_number": 4,
          "to_station_name": "REI / Yale Ave N & John St",
          "to_station_number": 0
         },
         {
          "color_bin": "#1f77b4",
          "counts": 87,
          "from_station_name": "E Harrison St & Broadway Ave E",
          "from_station_number": 4,
          "to_station_name": "Republican St & Westlake Ave N",
          "to_station_number": 8
         },
         {
          "color_bin": "#1f77b4",
          "counts": 28,
          "from_station_name": "E Harrison St & Broadway Ave E",
          "from_station_number": 4,
          "to_station_name": "Seattle Aquarium / Alaskan Way S & Elliott Bay Trail",
          "to_station_number": 6
         },
         {
          "color_bin": "#1f77b4",
          "counts": 230,
          "from_station_name": "E Harrison St & Broadway Ave E",
          "from_station_number": 4,
          "to_station_name": "Westlake Ave & 6th Ave",
          "to_station_number": 10
         },
         {
          "color_bin": "#9467bd",
          "counts": 380,
          "from_station_name": "E Pine St & 16th Ave",
          "from_station_number": 19,
          "to_station_name": "1st Ave & Marion St",
          "to_station_number": 17
         },
         {
          "color_bin": "#e377c2",
          "counts": 725,
          "from_station_name": "E Pine St & 16th Ave",
          "from_station_number": 19,
          "to_station_name": "2nd Ave & Pine St",
          "to_station_number": 18
         },
         {
          "color_bin": "#1f77b4",
          "counts": 184,
          "from_station_name": "E Pine St & 16th Ave",
          "from_station_number": 19,
          "to_station_name": "2nd Ave & Spring St",
          "to_station_number": 9
         },
         {
          "color_bin": "#1f77b4",
          "counts": 209,
          "from_station_name": "E Pine St & 16th Ave",
          "from_station_number": 19,
          "to_station_name": "3rd Ave & Broad St",
          "to_station_number": 12
         },
         {
          "color_bin": "#1f77b4",
          "counts": 38,
          "from_station_name": "E Pine St & 16th Ave",
          "from_station_number": 19,
          "to_station_name": "9th Ave N & Mercer St",
          "to_station_number": 7
         },
         {
          "color_bin": "#1f77b4",
          "counts": 20,
          "from_station_name": "E Pine St & 16th Ave",
          "from_station_number": 19,
          "to_station_name": "Burke-Gilman Trail / NE Blakeley St & 24th Ave NE",
          "to_station_number": 20
         },
         {
          "color_bin": "#9467bd",
          "counts": 459,
          "from_station_name": "E Pine St & 16th Ave",
          "from_station_number": 19,
          "to_station_name": "Cal Anderson Park / 11th Ave & Pine St",
          "to_station_number": 13
         },
         {
          "color_bin": "#1f77b4",
          "counts": 70,
          "from_station_name": "E Pine St & 16th Ave",
          "from_station_number": 19,
          "to_station_name": "Dexter Ave N & Aloha St",
          "to_station_number": 2
         },
         {
          "color_bin": "#7f7f7f",
          "counts": 944,
          "from_station_name": "E Pine St & 16th Ave",
          "from_station_number": 19,
          "to_station_name": "E Harrison St & Broadway Ave E",
          "to_station_number": 4
         },
         {
          "color_bin": "#1f77b4",
          "counts": 78,
          "from_station_name": "E Pine St & 16th Ave",
          "from_station_number": 19,
          "to_station_name": "King Street Station Plaza / 2nd Ave Extension S & S Jackson St",
          "to_station_number": 16
         },
         {
          "color_bin": "#1f77b4",
          "counts": 20,
          "from_station_name": "E Pine St & 16th Ave",
          "from_station_number": 19,
          "to_station_name": "Lake Union Park / Valley St & Boren Ave N",
          "to_station_number": 5
         },
         {
          "color_bin": "#1f77b4",
          "counts": 33,
          "from_station_name": "E Pine St & 16th Ave",
          "from_station_number": 19,
          "to_station_name": "Pier 69 / Alaskan Way & Clay St",
          "to_station_number": 1
         },
         {
          "color_bin": "#bcbd22",
          "counts": 1040,
          "from_station_name": "E Pine St & 16th Ave",
          "from_station_number": 19,
          "to_station_name": "Pine St & 9th Ave",
          "to_station_number": 11
         },
         {
          "color_bin": "#7f7f7f",
          "counts": 749,
          "from_station_name": "E Pine St & 16th Ave",
          "from_station_number": 19,
          "to_station_name": "REI / Yale Ave N & John St",
          "to_station_number": 0
         },
         {
          "color_bin": "#1f77b4",
          "counts": 58,
          "from_station_name": "E Pine St & 16th Ave",
          "from_station_number": 19,
          "to_station_name": "Republican St & Westlake Ave N",
          "to_station_number": 8
         },
         {
          "color_bin": "#1f77b4",
          "counts": 27,
          "from_station_name": "E Pine St & 16th Ave",
          "from_station_number": 19,
          "to_station_name": "Seattle Aquarium / Alaskan Way S & Elliott Bay Trail",
          "to_station_number": 6
         },
         {
          "color_bin": "#9467bd",
          "counts": 327,
          "from_station_name": "E Pine St & 16th Ave",
          "from_station_number": 19,
          "to_station_name": "Westlake Ave & 6th Ave",
          "to_station_number": 10
         },
         {
          "color_bin": "#1f77b4",
          "counts": 61,
          "from_station_name": "Harvard Ave & E Pine St",
          "from_station_number": 14,
          "to_station_name": "1st Ave & Marion St",
          "to_station_number": 17
         },
         {
          "color_bin": "#9467bd",
          "counts": 350,
          "from_station_name": "Harvard Ave & E Pine St",
          "from_station_number": 14,
          "to_station_name": "2nd Ave & Pine St",
          "to_station_number": 18
         },
         {
          "color_bin": "#1f77b4",
          "counts": 73,
          "from_station_name": "Harvard Ave & E Pine St",
          "from_station_number": 14,
          "to_station_name": "2nd Ave & Spring St",
          "to_station_number": 9
         },
         {
          "color_bin": "#1f77b4",
          "counts": 126,
          "from_station_name": "Harvard Ave & E Pine St",
          "from_station_number": 14,
          "to_station_name": "3rd Ave & Broad St",
          "to_station_number": 12
         },
         {
          "color_bin": "#1f77b4",
          "counts": 29,
          "from_station_name": "Harvard Ave & E Pine St",
          "from_station_number": 14,
          "to_station_name": "9th Ave N & Mercer St",
          "to_station_number": 7
         },
         {
          "color_bin": "#1f77b4",
          "counts": 5,
          "from_station_name": "Harvard Ave & E Pine St",
          "from_station_number": 14,
          "to_station_name": "Burke-Gilman Trail / NE Blakeley St & 24th Ave NE",
          "to_station_number": 20
         },
         {
          "color_bin": "#1f77b4",
          "counts": 76,
          "from_station_name": "Harvard Ave & E Pine St",
          "from_station_number": 14,
          "to_station_name": "Cal Anderson Park / 11th Ave & Pine St",
          "to_station_number": 13
         },
         {
          "color_bin": "#1f77b4",
          "counts": 42,
          "from_station_name": "Harvard Ave & E Pine St",
          "from_station_number": 14,
          "to_station_name": "Dexter Ave N & Aloha St",
          "to_station_number": 2
         },
         {
          "color_bin": "#7f7f7f",
          "counts": 834,
          "from_station_name": "Harvard Ave & E Pine St",
          "from_station_number": 14,
          "to_station_name": "E Harrison St & Broadway Ave E",
          "to_station_number": 4
         },
         {
          "color_bin": "#1f77b4",
          "counts": 44,
          "from_station_name": "Harvard Ave & E Pine St",
          "from_station_number": 14,
          "to_station_name": "King Street Station Plaza / 2nd Ave Extension S & S Jackson St",
          "to_station_number": 16
         },
         {
          "color_bin": "#1f77b4",
          "counts": 17,
          "from_station_name": "Harvard Ave & E Pine St",
          "from_station_number": 14,
          "to_station_name": "Lake Union Park / Valley St & Boren Ave N",
          "to_station_number": 5
         },
         {
          "color_bin": "#1f77b4",
          "counts": 49,
          "from_station_name": "Harvard Ave & E Pine St",
          "from_station_number": 14,
          "to_station_name": "Pier 69 / Alaskan Way & Clay St",
          "to_station_number": 1
         },
         {
          "color_bin": "#e377c2",
          "counts": 549,
          "from_station_name": "Harvard Ave & E Pine St",
          "from_station_number": 14,
          "to_station_name": "Pine St & 9th Ave",
          "to_station_number": 11
         },
         {
          "color_bin": "#1f77b4",
          "counts": 165,
          "from_station_name": "Harvard Ave & E Pine St",
          "from_station_number": 14,
          "to_station_name": "REI / Yale Ave N & John St",
          "to_station_number": 0
         },
         {
          "color_bin": "#1f77b4",
          "counts": 28,
          "from_station_name": "Harvard Ave & E Pine St",
          "from_station_number": 14,
          "to_station_name": "Republican St & Westlake Ave N",
          "to_station_number": 8
         },
         {
          "color_bin": "#1f77b4",
          "counts": 47,
          "from_station_name": "Harvard Ave & E Pine St",
          "from_station_number": 14,
          "to_station_name": "Seattle Aquarium / Alaskan Way S & Elliott Bay Trail",
          "to_station_number": 6
         },
         {
          "color_bin": "#1f77b4",
          "counts": 187,
          "from_station_name": "Harvard Ave & E Pine St",
          "from_station_number": 14,
          "to_station_name": "Westlake Ave & 6th Ave",
          "to_station_number": 10
         },
         {
          "color_bin": "#1f77b4",
          "counts": 205,
          "from_station_name": "King Street Station Plaza / 2nd Ave Extension S & S Jackson St",
          "from_station_number": 16,
          "to_station_name": "1st Ave & Marion St",
          "to_station_number": 17
         },
         {
          "color_bin": "#1f77b4",
          "counts": 245,
          "from_station_name": "King Street Station Plaza / 2nd Ave Extension S & S Jackson St",
          "from_station_number": 16,
          "to_station_name": "2nd Ave & Pine St",
          "to_station_number": 18
         },
         {
          "color_bin": "#1f77b4",
          "counts": 157,
          "from_station_name": "King Street Station Plaza / 2nd Ave Extension S & S Jackson St",
          "from_station_number": 16,
          "to_station_name": "2nd Ave & Spring St",
          "to_station_number": 9
         },
         {
          "color_bin": "#1f77b4",
          "counts": 190,
          "from_station_name": "King Street Station Plaza / 2nd Ave Extension S & S Jackson St",
          "from_station_number": 16,
          "to_station_name": "3rd Ave & Broad St",
          "to_station_number": 12
         },
         {
          "color_bin": "#1f77b4",
          "counts": 82,
          "from_station_name": "King Street Station Plaza / 2nd Ave Extension S & S Jackson St",
          "from_station_number": 16,
          "to_station_name": "9th Ave N & Mercer St",
          "to_station_number": 7
         },
         {
          "color_bin": "#1f77b4",
          "counts": 74,
          "from_station_name": "King Street Station Plaza / 2nd Ave Extension S & S Jackson St",
          "from_station_number": 16,
          "to_station_name": "Cal Anderson Park / 11th Ave & Pine St",
          "to_station_number": 13
         },
         {
          "color_bin": "#1f77b4",
          "counts": 49,
          "from_station_name": "King Street Station Plaza / 2nd Ave Extension S & S Jackson St",
          "from_station_number": 16,
          "to_station_name": "Dexter Ave N & Aloha St",
          "to_station_number": 2
         },
         {
          "color_bin": "#1f77b4",
          "counts": 13,
          "from_station_name": "King Street Station Plaza / 2nd Ave Extension S & S Jackson St",
          "from_station_number": 16,
          "to_station_name": "E Harrison St & Broadway Ave E",
          "to_station_number": 4
         },
         {
          "color_bin": "#1f77b4",
          "counts": 229,
          "from_station_name": "King Street Station Plaza / 2nd Ave Extension S & S Jackson St",
          "from_station_number": 16,
          "to_station_name": "King Street Station Plaza / 2nd Ave Extension S & S Jackson St",
          "to_station_number": 16
         },
         {
          "color_bin": "#1f77b4",
          "counts": 30,
          "from_station_name": "King Street Station Plaza / 2nd Ave Extension S & S Jackson St",
          "from_station_number": 16,
          "to_station_name": "Lake Union Park / Valley St & Boren Ave N",
          "to_station_number": 5
         },
         {
          "color_bin": "#7f7f7f",
          "counts": 812,
          "from_station_name": "King Street Station Plaza / 2nd Ave Extension S & S Jackson St",
          "from_station_number": 16,
          "to_station_name": "Pier 69 / Alaskan Way & Clay St",
          "to_station_number": 1
         },
         {
          "color_bin": "#1f77b4",
          "counts": 46,
          "from_station_name": "King Street Station Plaza / 2nd Ave Extension S & S Jackson St",
          "from_station_number": 16,
          "to_station_name": "Pine St & 9th Ave",
          "to_station_number": 11
         },
         {
          "color_bin": "#1f77b4",
          "counts": 32,
          "from_station_name": "King Street Station Plaza / 2nd Ave Extension S & S Jackson St",
          "from_station_number": 16,
          "to_station_name": "REI / Yale Ave N & John St",
          "to_station_number": 0
         },
         {
          "color_bin": "#1f77b4",
          "counts": 43,
          "from_station_name": "King Street Station Plaza / 2nd Ave Extension S & S Jackson St",
          "from_station_number": 16,
          "to_station_name": "Republican St & Westlake Ave N",
          "to_station_number": 8
         },
         {
          "color_bin": "#1f77b4",
          "counts": 209,
          "from_station_name": "King Street Station Plaza / 2nd Ave Extension S & S Jackson St",
          "from_station_number": 16,
          "to_station_name": "Seattle Aquarium / Alaskan Way S & Elliott Bay Trail",
          "to_station_number": 6
         },
         {
          "color_bin": "#9467bd",
          "counts": 254,
          "from_station_name": "King Street Station Plaza / 2nd Ave Extension S & S Jackson St",
          "from_station_number": 16,
          "to_station_name": "Westlake Ave & 6th Ave",
          "to_station_number": 10
         },
         {
          "color_bin": "#1f77b4",
          "counts": 33,
          "from_station_name": "Lake Union Park / Valley St & Boren Ave N",
          "from_station_number": 5,
          "to_station_name": "1st Ave & Marion St",
          "to_station_number": 17
         },
         {
          "color_bin": "#1f77b4",
          "counts": 149,
          "from_station_name": "Lake Union Park / Valley St & Boren Ave N",
          "from_station_number": 5,
          "to_station_name": "2nd Ave & Pine St",
          "to_station_number": 18
         },
         {
          "color_bin": "#1f77b4",
          "counts": 55,
          "from_station_name": "Lake Union Park / Valley St & Boren Ave N",
          "from_station_number": 5,
          "to_station_name": "2nd Ave & Spring St",
          "to_station_number": 9
         },
         {
          "color_bin": "#9467bd",
          "counts": 300,
          "from_station_name": "Lake Union Park / Valley St & Boren Ave N",
          "from_station_number": 5,
          "to_station_name": "3rd Ave & Broad St",
          "to_station_number": 12
         },
         {
          "color_bin": "#1f77b4",
          "counts": 56,
          "from_station_name": "Lake Union Park / Valley St & Boren Ave N",
          "from_station_number": 5,
          "to_station_name": "9th Ave N & Mercer St",
          "to_station_number": 7
         },
         {
          "color_bin": "#1f77b4",
          "counts": 29,
          "from_station_name": "Lake Union Park / Valley St & Boren Ave N",
          "from_station_number": 5,
          "to_station_name": "Burke-Gilman Trail / NE Blakeley St & 24th Ave NE",
          "to_station_number": 20
         },
         {
          "color_bin": "#1f77b4",
          "counts": 7,
          "from_station_name": "Lake Union Park / Valley St & Boren Ave N",
          "from_station_number": 5,
          "to_station_name": "Cal Anderson Park / 11th Ave & Pine St",
          "to_station_number": 13
         },
         {
          "color_bin": "#1f77b4",
          "counts": 102,
          "from_station_name": "Lake Union Park / Valley St & Boren Ave N",
          "from_station_number": 5,
          "to_station_name": "Dexter Ave N & Aloha St",
          "to_station_number": 2
         },
         {
          "color_bin": "#1f77b4",
          "counts": 25,
          "from_station_name": "Lake Union Park / Valley St & Boren Ave N",
          "from_station_number": 5,
          "to_station_name": "E Harrison St & Broadway Ave E",
          "to_station_number": 4
         },
         {
          "color_bin": "#1f77b4",
          "counts": 45,
          "from_station_name": "Lake Union Park / Valley St & Boren Ave N",
          "from_station_number": 5,
          "to_station_name": "King Street Station Plaza / 2nd Ave Extension S & S Jackson St",
          "to_station_number": 16
         },
         {
          "color_bin": "#bcbd22",
          "counts": 1119,
          "from_station_name": "Lake Union Park / Valley St & Boren Ave N",
          "from_station_number": 5,
          "to_station_name": "Lake Union Park / Valley St & Boren Ave N",
          "to_station_number": 5
         },
         {
          "color_bin": "#1f77b4",
          "counts": 107,
          "from_station_name": "Lake Union Park / Valley St & Boren Ave N",
          "from_station_number": 5,
          "to_station_name": "Pier 69 / Alaskan Way & Clay St",
          "to_station_number": 1
         },
         {
          "color_bin": "#1f77b4",
          "counts": 59,
          "from_station_name": "Lake Union Park / Valley St & Boren Ave N",
          "from_station_number": 5,
          "to_station_name": "Pine St & 9th Ave",
          "to_station_number": 11
         },
         {
          "color_bin": "#1f77b4",
          "counts": 111,
          "from_station_name": "Lake Union Park / Valley St & Boren Ave N",
          "from_station_number": 5,
          "to_station_name": "REI / Yale Ave N & John St",
          "to_station_number": 0
         },
         {
          "color_bin": "#1f77b4",
          "counts": 130,
          "from_station_name": "Lake Union Park / Valley St & Boren Ave N",
          "from_station_number": 5,
          "to_station_name": "Republican St & Westlake Ave N",
          "to_station_number": 8
         },
         {
          "color_bin": "#1f77b4",
          "counts": 85,
          "from_station_name": "Lake Union Park / Valley St & Boren Ave N",
          "from_station_number": 5,
          "to_station_name": "Seattle Aquarium / Alaskan Way S & Elliott Bay Trail",
          "to_station_number": 6
         },
         {
          "color_bin": "#1f77b4",
          "counts": 241,
          "from_station_name": "Lake Union Park / Valley St & Boren Ave N",
          "from_station_number": 5,
          "to_station_name": "Westlake Ave & 6th Ave",
          "to_station_number": 10
         },
         {
          "color_bin": "#7f7f7f",
          "counts": 961,
          "from_station_name": "Pier 69 / Alaskan Way & Clay St",
          "from_station_number": 1,
          "to_station_name": "1st Ave & Marion St",
          "to_station_number": 17
         },
         {
          "color_bin": "#9467bd",
          "counts": 356,
          "from_station_name": "Pier 69 / Alaskan Way & Clay St",
          "from_station_number": 1,
          "to_station_name": "2nd Ave & Pine St",
          "to_station_number": 18
         },
         {
          "color_bin": "#1f77b4",
          "counts": 240,
          "from_station_name": "Pier 69 / Alaskan Way & Clay St",
          "from_station_number": 1,
          "to_station_name": "2nd Ave & Spring St",
          "to_station_number": 9
         },
         {
          "color_bin": "#9467bd",
          "counts": 412,
          "from_station_name": "Pier 69 / Alaskan Way & Clay St",
          "from_station_number": 1,
          "to_station_name": "3rd Ave & Broad St",
          "to_station_number": 12
         },
         {
          "color_bin": "#1f77b4",
          "counts": 35,
          "from_station_name": "Pier 69 / Alaskan Way & Clay St",
          "from_station_number": 1,
          "to_station_name": "9th Ave N & Mercer St",
          "to_station_number": 7
         },
         {
          "color_bin": "#1f77b4",
          "counts": 4,
          "from_station_name": "Pier 69 / Alaskan Way & Clay St",
          "from_station_number": 1,
          "to_station_name": "Burke-Gilman Trail / NE Blakeley St & 24th Ave NE",
          "to_station_number": 20
         },
         {
          "color_bin": "#1f77b4",
          "counts": 70,
          "from_station_name": "Pier 69 / Alaskan Way & Clay St",
          "from_station_number": 1,
          "to_station_name": "Dexter Ave N & Aloha St",
          "to_station_number": 2
         },
         {
          "color_bin": "#1f77b4",
          "counts": 1,
          "from_station_name": "Pier 69 / Alaskan Way & Clay St",
          "from_station_number": 1,
          "to_station_name": "E Harrison St & Broadway Ave E",
          "to_station_number": 4
         },
         {
          "color_bin": "#bcbd22",
          "counts": 1054,
          "from_station_name": "Pier 69 / Alaskan Way & Clay St",
          "from_station_number": 1,
          "to_station_name": "King Street Station Plaza / 2nd Ave Extension S & S Jackson St",
          "to_station_number": 16
         },
         {
          "color_bin": "#1f77b4",
          "counts": 83,
          "from_station_name": "Pier 69 / Alaskan Way & Clay St",
          "from_station_number": 1,
          "to_station_name": "Lake Union Park / Valley St & Boren Ave N",
          "to_station_number": 5
         },
         {
          "color_bin": "#8c564b",
          "counts": 4881,
          "from_station_name": "Pier 69 / Alaskan Way & Clay St",
          "from_station_number": 1,
          "to_station_name": "Pier 69 / Alaskan Way & Clay St",
          "to_station_number": 1
         },
         {
          "color_bin": "#1f77b4",
          "counts": 61,
          "from_station_name": "Pier 69 / Alaskan Way & Clay St",
          "from_station_number": 1,
          "to_station_name": "Pine St & 9th Ave",
          "to_station_number": 11
         },
         {
          "color_bin": "#1f77b4",
          "counts": 32,
          "from_station_name": "Pier 69 / Alaskan Way & Clay St",
          "from_station_number": 1,
          "to_station_name": "REI / Yale Ave N & John St",
          "to_station_number": 0
         },
         {
          "color_bin": "#1f77b4",
          "counts": 15,
          "from_station_name": "Pier 69 / Alaskan Way & Clay St",
          "from_station_number": 1,
          "to_station_name": "Republican St & Westlake Ave N",
          "to_station_number": 8
         },
         {
          "color_bin": "#d62728",
          "counts": 2683,
          "from_station_name": "Pier 69 / Alaskan Way & Clay St",
          "from_station_number": 1,
          "to_station_name": "Seattle Aquarium / Alaskan Way S & Elliott Bay Trail",
          "to_station_number": 6
         },
         {
          "color_bin": "#1f77b4",
          "counts": 96,
          "from_station_name": "Pier 69 / Alaskan Way & Clay St",
          "from_station_number": 1,
          "to_station_name": "Westlake Ave & 6th Ave",
          "to_station_number": 10
         },
         {
          "color_bin": "#1f77b4",
          "counts": 99,
          "from_station_name": "Pine St & 9th Ave",
          "from_station_number": 11,
          "to_station_name": "1st Ave & Marion St",
          "to_station_number": 17
         },
         {
          "color_bin": "#9467bd",
          "counts": 404,
          "from_station_name": "Pine St & 9th Ave",
          "from_station_number": 11,
          "to_station_name": "2nd Ave & Pine St",
          "to_station_number": 18
         },
         {
          "color_bin": "#1f77b4",
          "counts": 133,
          "from_station_name": "Pine St & 9th Ave",
          "from_station_number": 11,
          "to_station_name": "2nd Ave & Spring St",
          "to_station_number": 9
         },
         {
          "color_bin": "#1f77b4",
          "counts": 206,
          "from_station_name": "Pine St & 9th Ave",
          "from_station_number": 11,
          "to_station_name": "3rd Ave & Broad St",
          "to_station_number": 12
         },
         {
          "color_bin": "#1f77b4",
          "counts": 188,
          "from_station_name": "Pine St & 9th Ave",
          "from_station_number": 11,
          "to_station_name": "9th Ave N & Mercer St",
          "to_station_number": 7
         },
         {
          "color_bin": "#1f77b4",
          "counts": 4,
          "from_station_name": "Pine St & 9th Ave",
          "from_station_number": 11,
          "to_station_name": "Burke-Gilman Trail / NE Blakeley St & 24th Ave NE",
          "to_station_number": 20
         },
         {
          "color_bin": "#1f77b4",
          "counts": 204,
          "from_station_name": "Pine St & 9th Ave",
          "from_station_number": 11,
          "to_station_name": "Cal Anderson Park / 11th Ave & Pine St",
          "to_station_number": 13
         },
         {
          "color_bin": "#1f77b4",
          "counts": 111,
          "from_station_name": "Pine St & 9th Ave",
          "from_station_number": 11,
          "to_station_name": "Dexter Ave N & Aloha St",
          "to_station_number": 2
         },
         {
          "color_bin": "#1f77b4",
          "counts": 142,
          "from_station_name": "Pine St & 9th Ave",
          "from_station_number": 11,
          "to_station_name": "E Harrison St & Broadway Ave E",
          "to_station_number": 4
         },
         {
          "color_bin": "#1f77b4",
          "counts": 68,
          "from_station_name": "Pine St & 9th Ave",
          "from_station_number": 11,
          "to_station_name": "King Street Station Plaza / 2nd Ave Extension S & S Jackson St",
          "to_station_number": 16
         },
         {
          "color_bin": "#1f77b4",
          "counts": 86,
          "from_station_name": "Pine St & 9th Ave",
          "from_station_number": 11,
          "to_station_name": "Lake Union Park / Valley St & Boren Ave N",
          "to_station_number": 5
         },
         {
          "color_bin": "#1f77b4",
          "counts": 73,
          "from_station_name": "Pine St & 9th Ave",
          "from_station_number": 11,
          "to_station_name": "Pier 69 / Alaskan Way & Clay St",
          "to_station_number": 1
         },
         {
          "color_bin": "#1f77b4",
          "counts": 245,
          "from_station_name": "Pine St & 9th Ave",
          "from_station_number": 11,
          "to_station_name": "Pine St & 9th Ave",
          "to_station_number": 11
         },
         {
          "color_bin": "#7f7f7f",
          "counts": 835,
          "from_station_name": "Pine St & 9th Ave",
          "from_station_number": 11,
          "to_station_name": "REI / Yale Ave N & John St",
          "to_station_number": 0
         },
         {
          "color_bin": "#9467bd",
          "counts": 431,
          "from_station_name": "Pine St & 9th Ave",
          "from_station_number": 11,
          "to_station_name": "Republican St & Westlake Ave N",
          "to_station_number": 8
         },
         {
          "color_bin": "#1f77b4",
          "counts": 76,
          "from_station_name": "Pine St & 9th Ave",
          "from_station_number": 11,
          "to_station_name": "Seattle Aquarium / Alaskan Way S & Elliott Bay Trail",
          "to_station_number": 6
         },
         {
          "color_bin": "#1f77b4",
          "counts": 119,
          "from_station_name": "Pine St & 9th Ave",
          "from_station_number": 11,
          "to_station_name": "Westlake Ave & 6th Ave",
          "to_station_number": 10
         },
         {
          "color_bin": "#1f77b4",
          "counts": 149,
          "from_station_name": "REI / Yale Ave N & John St",
          "from_station_number": 0,
          "to_station_name": "1st Ave & Marion St",
          "to_station_number": 17
         },
         {
          "color_bin": "#9467bd",
          "counts": 339,
          "from_station_name": "REI / Yale Ave N & John St",
          "from_station_number": 0,
          "to_station_name": "2nd Ave & Pine St",
          "to_station_number": 18
         },
         {
          "color_bin": "#1f77b4",
          "counts": 180,
          "from_station_name": "REI / Yale Ave N & John St",
          "from_station_number": 0,
          "to_station_name": "2nd Ave & Spring St",
          "to_station_number": 9
         },
         {
          "color_bin": "#9467bd",
          "counts": 386,
          "from_station_name": "REI / Yale Ave N & John St",
          "from_station_number": 0,
          "to_station_name": "3rd Ave & Broad St",
          "to_station_number": 12
         },
         {
          "color_bin": "#1f77b4",
          "counts": 126,
          "from_station_name": "REI / Yale Ave N & John St",
          "from_station_number": 0,
          "to_station_name": "9th Ave N & Mercer St",
          "to_station_number": 7
         },
         {
          "color_bin": "#1f77b4",
          "counts": 12,
          "from_station_name": "REI / Yale Ave N & John St",
          "from_station_number": 0,
          "to_station_name": "Burke-Gilman Trail / NE Blakeley St & 24th Ave NE",
          "to_station_number": 20
         },
         {
          "color_bin": "#1f77b4",
          "counts": 50,
          "from_station_name": "REI / Yale Ave N & John St",
          "from_station_number": 0,
          "to_station_name": "Cal Anderson Park / 11th Ave & Pine St",
          "to_station_number": 13
         },
         {
          "color_bin": "#9467bd",
          "counts": 314,
          "from_station_name": "REI / Yale Ave N & John St",
          "from_station_number": 0,
          "to_station_name": "Dexter Ave N & Aloha St",
          "to_station_number": 2
         },
         {
          "color_bin": "#1f77b4",
          "counts": 37,
          "from_station_name": "REI / Yale Ave N & John St",
          "from_station_number": 0,
          "to_station_name": "E Harrison St & Broadway Ave E",
          "to_station_number": 4
         },
         {
          "color_bin": "#1f77b4",
          "counts": 64,
          "from_station_name": "REI / Yale Ave N & John St",
          "from_station_number": 0,
          "to_station_name": "King Street Station Plaza / 2nd Ave Extension S & S Jackson St",
          "to_station_number": 16
         },
         {
          "color_bin": "#1f77b4",
          "counts": 165,
          "from_station_name": "REI / Yale Ave N & John St",
          "from_station_number": 0,
          "to_station_name": "Lake Union Park / Valley St & Boren Ave N",
          "to_station_number": 5
         },
         {
          "color_bin": "#1f77b4",
          "counts": 59,
          "from_station_name": "REI / Yale Ave N & John St",
          "from_station_number": 0,
          "to_station_name": "Pier 69 / Alaskan Way & Clay St",
          "to_station_number": 1
         },
         {
          "color_bin": "#7f7f7f",
          "counts": 861,
          "from_station_name": "REI / Yale Ave N & John St",
          "from_station_number": 0,
          "to_station_name": "Pine St & 9th Ave",
          "to_station_number": 11
         },
         {
          "color_bin": "#9467bd",
          "counts": 351,
          "from_station_name": "REI / Yale Ave N & John St",
          "from_station_number": 0,
          "to_station_name": "REI / Yale Ave N & John St",
          "to_station_number": 0
         },
         {
          "color_bin": "#9467bd",
          "counts": 488,
          "from_station_name": "REI / Yale Ave N & John St",
          "from_station_number": 0,
          "to_station_name": "Republican St & Westlake Ave N",
          "to_station_number": 8
         },
         {
          "color_bin": "#1f77b4",
          "counts": 69,
          "from_station_name": "REI / Yale Ave N & John St",
          "from_station_number": 0,
          "to_station_name": "Seattle Aquarium / Alaskan Way S & Elliott Bay Trail",
          "to_station_number": 6
         },
         {
          "color_bin": "#7f7f7f",
          "counts": 867,
          "from_station_name": "REI / Yale Ave N & John St",
          "from_station_number": 0,
          "to_station_name": "Westlake Ave & 6th Ave",
          "to_station_number": 10
         },
         {
          "color_bin": "#9467bd",
          "counts": 280,
          "from_station_name": "Seattle Aquarium / Alaskan Way S & Elliott Bay Trail",
          "from_station_number": 6,
          "to_station_name": "1st Ave & Marion St",
          "to_station_number": 17
         },
         {
          "color_bin": "#1f77b4",
          "counts": 157,
          "from_station_name": "Seattle Aquarium / Alaskan Way S & Elliott Bay Trail",
          "from_station_number": 6,
          "to_station_name": "2nd Ave & Pine St",
          "to_station_number": 18
         },
         {
          "color_bin": "#1f77b4",
          "counts": 98,
          "from_station_name": "Seattle Aquarium / Alaskan Way S & Elliott Bay Trail",
          "from_station_number": 6,
          "to_station_name": "2nd Ave & Spring St",
          "to_station_number": 9
         },
         {
          "color_bin": "#e377c2",
          "counts": 544,
          "from_station_name": "Seattle Aquarium / Alaskan Way S & Elliott Bay Trail",
          "from_station_number": 6,
          "to_station_name": "3rd Ave & Broad St",
          "to_station_number": 12
         },
         {
          "color_bin": "#1f77b4",
          "counts": 15,
          "from_station_name": "Seattle Aquarium / Alaskan Way S & Elliott Bay Trail",
          "from_station_number": 6,
          "to_station_name": "9th Ave N & Mercer St",
          "to_station_number": 7
         },
         {
          "color_bin": "#1f77b4",
          "counts": 4,
          "from_station_name": "Seattle Aquarium / Alaskan Way S & Elliott Bay Trail",
          "from_station_number": 6,
          "to_station_name": "Burke-Gilman Trail / NE Blakeley St & 24th Ave NE",
          "to_station_number": 20
         },
         {
          "color_bin": "#1f77b4",
          "counts": 8,
          "from_station_name": "Seattle Aquarium / Alaskan Way S & Elliott Bay Trail",
          "from_station_number": 6,
          "to_station_name": "Cal Anderson Park / 11th Ave & Pine St",
          "to_station_number": 13
         },
         {
          "color_bin": "#1f77b4",
          "counts": 45,
          "from_station_name": "Seattle Aquarium / Alaskan Way S & Elliott Bay Trail",
          "from_station_number": 6,
          "to_station_name": "Dexter Ave N & Aloha St",
          "to_station_number": 2
         },
         {
          "color_bin": "#1f77b4",
          "counts": 2,
          "from_station_name": "Seattle Aquarium / Alaskan Way S & Elliott Bay Trail",
          "from_station_number": 6,
          "to_station_name": "E Harrison St & Broadway Ave E",
          "to_station_number": 4
         },
         {
          "color_bin": "#1f77b4",
          "counts": 236,
          "from_station_name": "Seattle Aquarium / Alaskan Way S & Elliott Bay Trail",
          "from_station_number": 6,
          "to_station_name": "King Street Station Plaza / 2nd Ave Extension S & S Jackson St",
          "to_station_number": 16
         },
         {
          "color_bin": "#1f77b4",
          "counts": 18,
          "from_station_name": "Seattle Aquarium / Alaskan Way S & Elliott Bay Trail",
          "from_station_number": 6,
          "to_station_name": "Lake Union Park / Valley St & Boren Ave N",
          "to_station_number": 5
         },
         {
          "color_bin": "#2ca02c",
          "counts": 1930,
          "from_station_name": "Seattle Aquarium / Alaskan Way S & Elliott Bay Trail",
          "from_station_number": 6,
          "to_station_name": "Pier 69 / Alaskan Way & Clay St",
          "to_station_number": 1
         },
         {
          "color_bin": "#1f77b4",
          "counts": 36,
          "from_station_name": "Seattle Aquarium / Alaskan Way S & Elliott Bay Trail",
          "from_station_number": 6,
          "to_station_name": "Pine St & 9th Ave",
          "to_station_number": 11
         },
         {
          "color_bin": "#1f77b4",
          "counts": 9,
          "from_station_name": "Seattle Aquarium / Alaskan Way S & Elliott Bay Trail",
          "from_station_number": 6,
          "to_station_name": "REI / Yale Ave N & John St",
          "to_station_number": 0
         },
         {
          "color_bin": "#1f77b4",
          "counts": 5,
          "from_station_name": "Seattle Aquarium / Alaskan Way S & Elliott Bay Trail",
          "from_station_number": 6,
          "to_station_name": "Republican St & Westlake Ave N",
          "to_station_number": 8
         },
         {
          "color_bin": "#ff7f0e",
          "counts": 1358,
          "from_station_name": "Seattle Aquarium / Alaskan Way S & Elliott Bay Trail",
          "from_station_number": 6,
          "to_station_name": "Seattle Aquarium / Alaskan Way S & Elliott Bay Trail",
          "to_station_number": 6
         },
         {
          "color_bin": "#1f77b4",
          "counts": 94,
          "from_station_name": "Seattle Aquarium / Alaskan Way S & Elliott Bay Trail",
          "from_station_number": 6,
          "to_station_name": "Westlake Ave & 6th Ave",
          "to_station_number": 10
         },
         {
          "color_bin": "#e377c2",
          "counts": 609,
          "from_station_name": "Westlake Ave & 6th Ave",
          "from_station_number": 10,
          "to_station_name": "1st Ave & Marion St",
          "to_station_number": 17
         },
         {
          "color_bin": "#9467bd",
          "counts": 285,
          "from_station_name": "Westlake Ave & 6th Ave",
          "from_station_number": 10,
          "to_station_name": "2nd Ave & Pine St",
          "to_station_number": 18
         },
         {
          "color_bin": "#9467bd",
          "counts": 282,
          "from_station_name": "Westlake Ave & 6th Ave",
          "from_station_number": 10,
          "to_station_name": "2nd Ave & Spring St",
          "to_station_number": 9
         },
         {
          "color_bin": "#e377c2",
          "counts": 564,
          "from_station_name": "Westlake Ave & 6th Ave",
          "from_station_number": 10,
          "to_station_name": "3rd Ave & Broad St",
          "to_station_number": 12
         },
         {
          "color_bin": "#e377c2",
          "counts": 657,
          "from_station_name": "Westlake Ave & 6th Ave",
          "from_station_number": 10,
          "to_station_name": "9th Ave N & Mercer St",
          "to_station_number": 7
         },
         {
          "color_bin": "#1f77b4",
          "counts": 10,
          "from_station_name": "Westlake Ave & 6th Ave",
          "from_station_number": 10,
          "to_station_name": "Burke-Gilman Trail / NE Blakeley St & 24th Ave NE",
          "to_station_number": 20
         },
         {
          "color_bin": "#1f77b4",
          "counts": 33,
          "from_station_name": "Westlake Ave & 6th Ave",
          "from_station_number": 10,
          "to_station_name": "Cal Anderson Park / 11th Ave & Pine St",
          "to_station_number": 13
         },
         {
          "color_bin": "#7f7f7f",
          "counts": 848,
          "from_station_name": "Westlake Ave & 6th Ave",
          "from_station_number": 10,
          "to_station_name": "Dexter Ave N & Aloha St",
          "to_station_number": 2
         },
         {
          "color_bin": "#1f77b4",
          "counts": 33,
          "from_station_name": "Westlake Ave & 6th Ave",
          "from_station_number": 10,
          "to_station_name": "E Harrison St & Broadway Ave E",
          "to_station_number": 4
         },
         {
          "color_bin": "#9467bd",
          "counts": 302,
          "from_station_name": "Westlake Ave & 6th Ave",
          "from_station_number": 10,
          "to_station_name": "King Street Station Plaza / 2nd Ave Extension S & S Jackson St",
          "to_station_number": 16
         },
         {
          "color_bin": "#9467bd",
          "counts": 284,
          "from_station_name": "Westlake Ave & 6th Ave",
          "from_station_number": 10,
          "to_station_name": "Lake Union Park / Valley St & Boren Ave N",
          "to_station_number": 5
         },
         {
          "color_bin": "#9467bd",
          "counts": 310,
          "from_station_name": "Westlake Ave & 6th Ave",
          "from_station_number": 10,
          "to_station_name": "Pier 69 / Alaskan Way & Clay St",
          "to_station_number": 1
         },
         {
          "color_bin": "#1f77b4",
          "counts": 89,
          "from_station_name": "Westlake Ave & 6th Ave",
          "from_station_number": 10,
          "to_station_name": "Pine St & 9th Ave",
          "to_station_number": 11
         },
         {
          "color_bin": "#e377c2",
          "counts": 551,
          "from_station_name": "Westlake Ave & 6th Ave",
          "from_station_number": 10,
          "to_station_name": "REI / Yale Ave N & John St",
          "to_station_number": 0
         },
         {
          "color_bin": "#e377c2",
          "counts": 724,
          "from_station_name": "Westlake Ave & 6th Ave",
          "from_station_number": 10,
          "to_station_name": "Republican St & Westlake Ave N",
          "to_station_number": 8
         },
         {
          "color_bin": "#1f77b4",
          "counts": 212,
          "from_station_name": "Westlake Ave & 6th Ave",
          "from_station_number": 10,
          "to_station_name": "Seattle Aquarium / Alaskan Way S & Elliott Bay Trail",
          "to_station_number": 6
         },
         {
          "color_bin": "#9467bd",
          "counts": 455,
          "from_station_name": "Westlake Ave & 6th Ave",
          "from_station_number": 10,
          "to_station_name": "Westlake Ave & 6th Ave",
          "to_station_number": 10
         }
        ],
        "data-de67c1d73622b851ba49c4a403247054": [
         {
          "color_bin": "#1f77b4",
          "left_interval_cut": -3.88,
          "right_interval_cut": 245
         },
         {
          "color_bin": "#9467bd",
          "left_interval_cut": 245,
          "right_interval_cut": 489
         },
         {
          "color_bin": "#e377c2",
          "left_interval_cut": 489,
          "right_interval_cut": 733
         },
         {
          "color_bin": "#7f7f7f",
          "left_interval_cut": 733,
          "right_interval_cut": 977
         },
         {
          "color_bin": "#bcbd22",
          "left_interval_cut": 977,
          "right_interval_cut": 1221
         },
         {
          "color_bin": "#ff7f0e",
          "left_interval_cut": 1221,
          "right_interval_cut": 1465
         },
         {
          "color_bin": "#2ca02c",
          "left_interval_cut": 1709,
          "right_interval_cut": 1953
         },
         {
          "color_bin": "#d62728",
          "left_interval_cut": 2441,
          "right_interval_cut": 2685
         },
         {
          "color_bin": "#8c564b",
          "left_interval_cut": 4637,
          "right_interval_cut": 4881
         }
        ]
       },
       "hconcat": [
        {
         "data": {
          "name": "data-d07a9dfba4582e6a58cd8e87d4f27043"
         },
         "encoding": {
          "color": {
           "field": "color_bin",
           "scale": null,
           "type": "nominal"
          },
          "tooltip": [
           {
            "field": "from_station_name",
            "type": "nominal"
           },
           {
            "field": "to_station_name",
            "type": "nominal"
           },
           {
            "field": "counts",
            "type": "quantitative"
           }
          ],
          "x": {
           "field": "from_station_number",
           "title": "from station",
           "type": "ordinal"
          },
          "y": {
           "field": "to_station_number",
           "title": "to station",
           "type": "ordinal"
          }
         },
         "mark": "bar",
         "title": "Traffic between stations"
        },
        {
         "data": {
          "name": "data-de67c1d73622b851ba49c4a403247054"
         },
         "encoding": {
          "color": {
           "field": "color_bin",
           "scale": null,
           "type": "nominal"
          },
          "y": {
           "field": "left_interval_cut",
           "title": "",
           "type": "nominal"
          },
          "y2": {
           "field": "right_interval_cut",
           "type": "nominal"
          }
         },
         "mark": "bar"
        }
       ]
      },
      "image/png": "[encoded data removed]",
      "text/plain": [
       "<VegaLite 2 object>\n",
       "\n",
       "If you see this message, it means the renderer has not been properly enabled\n",
       "for the frontend that you are using. For more information, see\n",
       "https://altair-viz.github.io/user_guide/troubleshooting.html\n"
      ]
     },
     "execution_count": 557,
     "metadata": {},
     "output_type": "execute_result"
    }
   ],
   "source": [
    "colored_matrix = alt.Chart(matrix_data.loc[:, ['from_station_number',\n",
    "                                          'to_station_number',\n",
    "                                          'from_station_name',\n",
    "                                          'to_station_name',\n",
    "                                          'counts',\n",
    "                                          'color_bin']], title='Traffic between stations') \\\n",
    "                .mark_bar() \\\n",
    "                .encode(\n",
    "                x=alt.X('from_station_number:O', title='from station'),\n",
    "                y=alt.Y('to_station_number:O', title='to station'),\n",
    "                tooltip=['from_station_name', 'to_station_name', 'counts'],\n",
    "                color=alt.Color('color_bin', scale=None)\n",
    "                )\n",
    "\n",
    "colored_bar = alt.Chart(color_bar_identity) \\\n",
    "    .mark_bar() \\\n",
    "    .encode(\n",
    "        y=alt.Y('left_interval_cut', title=''),\n",
    "        y2='right_interval_cut',\n",
    "        color=alt.Color('color_bin', scale=None)\n",
    ")\n",
    "\n",
    "colored_matrix | colored_bar"
   ]
  },
  {
   "cell_type": "markdown",
   "metadata": {},
   "source": [
    "Here we try to do the same but using color hue for that purpose. The end result is more difficult to understand."
   ]
  },
  {
   "cell_type": "code",
   "execution_count": 558,
   "metadata": {},
   "outputs": [],
   "source": [
    "origin_station_freq = bike_trips.groupby('from_station_name').size().sort_values(ascending=False)"
   ]
  },
  {
   "cell_type": "code",
   "execution_count": 559,
   "metadata": {},
   "outputs": [],
   "source": [
    "# Top 10 stations by origin\n",
    "top_10_origin_stations = origin_station_freq[:10].reset_index().rename(columns={0: 'counts'})"
   ]
  },
  {
   "cell_type": "code",
   "execution_count": 560,
   "metadata": {},
   "outputs": [
    {
     "data": {
      "application/vnd.vegalite.v2+json": {
       "$schema": "https://vega.github.io/schema/vega-lite/v2.6.0.json",
       "config": {
        "view": {
         "height": 300,
         "width": 400
        }
       },
       "data": {
        "name": "data-d4ada303425168794b0148cfb013c26f"
       },
       "datasets": {
        "data-d4ada303425168794b0148cfb013c26f": [
         {
          "counts": 13054,
          "from_station_name": "Pier 69 / Alaskan Way & Clay St"
         },
         {
          "counts": 11392,
          "from_station_name": "E Pine St & 16th Ave"
         },
         {
          "counts": 10934,
          "from_station_name": "3rd Ave & Broad St"
         },
         {
          "counts": 10049,
          "from_station_name": "2nd Ave & Pine St"
         },
         {
          "counts": 9994,
          "from_station_name": "Westlake Ave & 6th Ave"
         },
         {
          "counts": 9639,
          "from_station_name": "E Harrison St & Broadway Ave E"
         },
         {
          "counts": 9468,
          "from_station_name": "Cal Anderson Park / 11th Ave & Pine St"
         },
         {
          "counts": 8382,
          "from_station_name": "REI / Yale Ave N & John St"
         },
         {
          "counts": 8168,
          "from_station_name": "2nd Ave & Vine St"
         },
         {
          "counts": 7680,
          "from_station_name": "15th Ave E & E Thomas St"
         }
        ]
       },
       "encoding": {
        "color": {
         "field": "from_station_name",
         "type": "nominal"
        },
        "x": {
         "field": "counts",
         "type": "quantitative"
        },
        "y": {
         "field": "from_station_name",
         "sort": {
          "field": "counts",
          "op": "sum",
          "order": "descending"
         },
         "title": "origin station",
         "type": "nominal"
        }
       },
       "height": 300,
       "mark": {
        "size": 15,
        "type": "bar"
       },
       "title": "Top 10 origin stations",
       "width": 400
      },
      "image/png": "[encoded data removed]",
      "text/plain": [
       "<VegaLite 2 object>\n",
       "\n",
       "If you see this message, it means the renderer has not been properly enabled\n",
       "for the frontend that you are using. For more information, see\n",
       "https://altair-viz.github.io/user_guide/troubleshooting.html\n"
      ]
     },
     "execution_count": 560,
     "metadata": {},
     "output_type": "execute_result"
    }
   ],
   "source": [
    "alt.Chart(top_10_origin_stations,\n",
    "          width=400,\n",
    "          height=300,\n",
    "          title='Top 10 origin stations') \\\n",
    "    .mark_bar(size=15) \\\n",
    "    .encode(\n",
    "        x=alt.X('counts'),\n",
    "        y=alt.Y('from_station_name',\n",
    "                sort=alt.EncodingSortField(field='counts',\n",
    "                                           op='sum',\n",
    "                                           order='descending'),\n",
    "               title='origin station'),\n",
    "        color='from_station_name'\n",
    ")"
   ]
  },
  {
   "cell_type": "markdown",
   "metadata": {},
   "source": [
    "Here color is being used to identify each station."
   ]
  },
  {
   "cell_type": "code",
   "execution_count": 561,
   "metadata": {},
   "outputs": [
    {
     "data": {
      "application/vnd.vegalite.v2+json": {
       "$schema": "https://vega.github.io/schema/vega-lite/v2.6.0.json",
       "config": {
        "view": {
         "height": 300,
         "width": 400
        }
       },
       "data": {
        "name": "data-d4ada303425168794b0148cfb013c26f"
       },
       "datasets": {
        "data-d4ada303425168794b0148cfb013c26f": [
         {
          "counts": 13054,
          "from_station_name": "Pier 69 / Alaskan Way & Clay St"
         },
         {
          "counts": 11392,
          "from_station_name": "E Pine St & 16th Ave"
         },
         {
          "counts": 10934,
          "from_station_name": "3rd Ave & Broad St"
         },
         {
          "counts": 10049,
          "from_station_name": "2nd Ave & Pine St"
         },
         {
          "counts": 9994,
          "from_station_name": "Westlake Ave & 6th Ave"
         },
         {
          "counts": 9639,
          "from_station_name": "E Harrison St & Broadway Ave E"
         },
         {
          "counts": 9468,
          "from_station_name": "Cal Anderson Park / 11th Ave & Pine St"
         },
         {
          "counts": 8382,
          "from_station_name": "REI / Yale Ave N & John St"
         },
         {
          "counts": 8168,
          "from_station_name": "2nd Ave & Vine St"
         },
         {
          "counts": 7680,
          "from_station_name": "15th Ave E & E Thomas St"
         }
        ]
       },
       "encoding": {
        "color": {
         "field": "counts",
         "type": "quantitative"
        },
        "x": {
         "field": "counts",
         "type": "quantitative"
        },
        "y": {
         "field": "from_station_name",
         "sort": {
          "field": "counts",
          "op": "sum",
          "order": "descending"
         },
         "title": "origin station",
         "type": "nominal"
        }
       },
       "height": 300,
       "mark": {
        "size": 15,
        "type": "bar"
       },
       "title": "Top 10 origin stations",
       "width": 400
      },
      "image/png": "[encoded data removed]",
      "text/plain": [
       "<VegaLite 2 object>\n",
       "\n",
       "If you see this message, it means the renderer has not been properly enabled\n",
       "for the frontend that you are using. For more information, see\n",
       "https://altair-viz.github.io/user_guide/troubleshooting.html\n"
      ]
     },
     "execution_count": 561,
     "metadata": {},
     "output_type": "execute_result"
    }
   ],
   "source": [
    "alt.Chart(top_10_origin_stations,\n",
    "          width=400,\n",
    "          height=300,\n",
    "          title='Top 10 origin stations') \\\n",
    "    .mark_bar(size=15) \\\n",
    "    .encode(\n",
    "        x=alt.X('counts'),\n",
    "        y=alt.Y('from_station_name',\n",
    "                sort=alt.EncodingSortField(field='counts',\n",
    "                                           op='sum',\n",
    "                                           order='descending'),\n",
    "               title='origin station'),\n",
    "        color='counts'\n",
    ")"
   ]
  },
  {
   "cell_type": "markdown",
   "metadata": {},
   "source": [
    "In this case, instead of identifying, here color is being used to reveal magnitude. "
   ]
  },
  {
   "cell_type": "code",
   "execution_count": 565,
   "metadata": {},
   "outputs": [],
   "source": [
    "bike_trips['year'] = bike_trips.starttime.dt.year"
   ]
  },
  {
   "cell_type": "code",
   "execution_count": 566,
   "metadata": {},
   "outputs": [],
   "source": [
    "usage_origin_stations_year = bike_trips.groupby(['from_station_name', 'year']) \\\n",
    "                                        .size() \\\n",
    "                                        .reset_index() \\\n",
    "                                        .rename(columns={0: 'counts'})"
   ]
  },
  {
   "cell_type": "code",
   "execution_count": 567,
   "metadata": {},
   "outputs": [],
   "source": [
    "yearly_evolution_top_10_origin_stations = usage_origin_stations_year[usage_origin_stations_year.from_station_name \\\n",
    "                                                                        .isin(top_10_origin_stations.from_station_name.tolist())]\n"
   ]
  },
  {
   "cell_type": "code",
   "execution_count": 568,
   "metadata": {},
   "outputs": [
    {
     "data": {
      "application/vnd.vegalite.v2+json": {
       "$schema": "https://vega.github.io/schema/vega-lite/v2.6.0.json",
       "config": {
        "view": {
         "height": 300,
         "width": 400
        }
       },
       "data": {
        "name": "data-c7873396c598caf65f6a4ea9fd34b820"
       },
       "datasets": {
        "data-c7873396c598caf65f6a4ea9fd34b820": [
         {
          "counts": 1240,
          "from_station_name": "15th Ave E & E Thomas St",
          "year": 2014
         },
         {
          "counts": 4554,
          "from_station_name": "15th Ave E & E Thomas St",
          "year": 2015
         },
         {
          "counts": 1886,
          "from_station_name": "15th Ave E & E Thomas St",
          "year": 2016
         },
         {
          "counts": 1492,
          "from_station_name": "2nd Ave & Pine St",
          "year": 2014
         },
         {
          "counts": 6300,
          "from_station_name": "2nd Ave & Pine St",
          "year": 2015
         },
         {
          "counts": 2257,
          "from_station_name": "2nd Ave & Pine St",
          "year": 2016
         },
         {
          "counts": 1306,
          "from_station_name": "2nd Ave & Vine St",
          "year": 2014
         },
         {
          "counts": 4929,
          "from_station_name": "2nd Ave & Vine St",
          "year": 2015
         },
         {
          "counts": 1933,
          "from_station_name": "2nd Ave & Vine St",
          "year": 2016
         },
         {
          "counts": 1040,
          "from_station_name": "3rd Ave & Broad St",
          "year": 2014
         },
         {
          "counts": 6940,
          "from_station_name": "3rd Ave & Broad St",
          "year": 2015
         },
         {
          "counts": 2954,
          "from_station_name": "3rd Ave & Broad St",
          "year": 2016
         },
         {
          "counts": 1280,
          "from_station_name": "Cal Anderson Park / 11th Ave & Pine St",
          "year": 2014
         },
         {
          "counts": 6002,
          "from_station_name": "Cal Anderson Park / 11th Ave & Pine St",
          "year": 2015
         },
         {
          "counts": 2186,
          "from_station_name": "Cal Anderson Park / 11th Ave & Pine St",
          "year": 2016
         },
         {
          "counts": 1666,
          "from_station_name": "E Harrison St & Broadway Ave E",
          "year": 2014
         },
         {
          "counts": 5842,
          "from_station_name": "E Harrison St & Broadway Ave E",
          "year": 2015
         },
         {
          "counts": 2131,
          "from_station_name": "E Harrison St & Broadway Ave E",
          "year": 2016
         },
         {
          "counts": 1452,
          "from_station_name": "E Pine St & 16th Ave",
          "year": 2014
         },
         {
          "counts": 6720,
          "from_station_name": "E Pine St & 16th Ave",
          "year": 2015
         },
         {
          "counts": 3220,
          "from_station_name": "E Pine St & 16th Ave",
          "year": 2016
         },
         {
          "counts": 1126,
          "from_station_name": "Pier 69 / Alaskan Way & Clay St",
          "year": 2014
         },
         {
          "counts": 7871,
          "from_station_name": "Pier 69 / Alaskan Way & Clay St",
          "year": 2015
         },
         {
          "counts": 4057,
          "from_station_name": "Pier 69 / Alaskan Way & Clay St",
          "year": 2016
         },
         {
          "counts": 1570,
          "from_station_name": "REI / Yale Ave N & John St",
          "year": 2014
         },
         {
          "counts": 5293,
          "from_station_name": "REI / Yale Ave N & John St",
          "year": 2015
         },
         {
          "counts": 1519,
          "from_station_name": "REI / Yale Ave N & John St",
          "year": 2016
         },
         {
          "counts": 1314,
          "from_station_name": "Westlake Ave & 6th Ave",
          "year": 2014
         },
         {
          "counts": 6098,
          "from_station_name": "Westlake Ave & 6th Ave",
          "year": 2015
         },
         {
          "counts": 2582,
          "from_station_name": "Westlake Ave & 6th Ave",
          "year": 2016
         }
        ]
       },
       "encoding": {
        "color": {
         "field": "counts",
         "type": "quantitative"
        },
        "row": {
         "field": "year",
         "type": "ordinal"
        },
        "x": {
         "field": "counts",
         "type": "quantitative"
        },
        "y": {
         "field": "from_station_name",
         "sort": null,
         "title": "origin station",
         "type": "nominal"
        }
       },
       "height": 300,
       "mark": {
        "size": 15,
        "type": "bar"
       },
       "title": "Top 10 origin stations",
       "width": 400
      },
      "image/png": "[encoded data removed]",
      "text/plain": [
       "<VegaLite 2 object>\n",
       "\n",
       "If you see this message, it means the renderer has not been properly enabled\n",
       "for the frontend that you are using. For more information, see\n",
       "https://altair-viz.github.io/user_guide/troubleshooting.html\n"
      ]
     },
     "execution_count": 568,
     "metadata": {},
     "output_type": "execute_result"
    }
   ],
   "source": [
    "alt.Chart(yearly_evolution_top_10_origin_stations,\n",
    "          width=400,\n",
    "          height=300,\n",
    "          title='Top 10 origin stations') \\\n",
    "    .mark_bar(size=15) \\\n",
    "    .encode(\n",
    "        x=alt.X('counts'),\n",
    "        y=alt.Y('from_station_name',\n",
    "               title='origin station',\n",
    "               sort=None),\n",
    "        color='counts',\n",
    "    row='year:O'\n",
    ")"
   ]
  },
  {
   "cell_type": "markdown",
   "metadata": {},
   "source": [
    "Here again color is used to reveal magnitude however it makes comparison between specific stations a bit more difficult. Also, it is more difficult to refer to a particular station."
   ]
  }
 ],
 "metadata": {
  "kernelspec": {
   "display_name": "Python 3",
   "language": "python",
   "name": "python3"
  },
  "language_info": {
   "codemirror_mode": {
    "name": "ipython",
    "version": 3
   },
   "file_extension": ".py",
   "mimetype": "text/x-python",
   "name": "python",
   "nbconvert_exporter": "python",
   "pygments_lexer": "ipython3",
   "version": "3.7.3"
  }
 },
 "nbformat": 4,
 "nbformat_minor": 2
}
